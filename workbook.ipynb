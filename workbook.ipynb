{
 "cells": [
  {
   "cell_type": "code",
   "execution_count": 3,
   "metadata": {
    "collapsed": false,
    "scrolled": true
   },
   "outputs": [],
   "source": [
    "import turtle\n",
    "def draw_square():\n",
    "    window = turtle.Screen()\n",
    "    window.bgcolor(\"#A10384\")\n",
    "    \n",
    "    b = turtle.Turtle()\n",
    "    b.shape(\"turtle\")\n",
    "    b.color(\"yellow\")\n",
    "    b.speed(2)\n",
    "    b.forward(100)\n",
    "    b.right(90)\n",
    "    b.forward(100)\n",
    "    b.right(90)\n",
    "    b.forward(100)\n",
    "    b.right(90)\n",
    "    b.forward(100)\n",
    "    b.right(90)\n",
    "    \n",
    "    draw_circle()\n",
    "    #draw_triangle()\n",
    "    #draw_heart()\n",
    "    window.exitonclick()\n",
    "    turtle.bye()\n",
    "\n",
    "def draw_circle():\n",
    "    c = turtle.Turtle()\n",
    "    c.shape(\"arrow\")\n",
    "    c.color(\"blue\")\n",
    "    c.circle(180)\n",
    "    \n",
    "def draw_triangle():\n",
    "    t = turtle.Turtle()\n",
    "    t.shape(\"turtle\")\n",
    "    t.color(\"green\")\n",
    "    t.right(0)\n",
    "    t.forward(100)\n",
    "    t.right(180+60)\n",
    "    t.forward(100)\n",
    "    t.right(180+60)\n",
    "    t.forward(100)\n",
    "    \n",
    "def draw_heart():\n",
    "    h = turtle.Turtle()\n",
    "    h.shape(\"bird\")\n",
    "    h.color(\"purple\")\n",
    "    h.right(60)\n",
    "    h.forward(200)\n",
    "    h.right(180+60)\n",
    "    h.forward(200)\n",
    "    "
   ]
  },
  {
   "cell_type": "code",
   "execution_count": 4,
   "metadata": {
    "collapsed": false
   },
   "outputs": [
    {
     "ename": "Terminator",
     "evalue": "",
     "output_type": "error",
     "traceback": [
      "\u001b[1;31m---------------------------------------------------------------------------\u001b[0m",
      "\u001b[1;31mTerminator\u001b[0m                                Traceback (most recent call last)",
      "\u001b[1;32m<ipython-input-4-11112fc1e3ea>\u001b[0m in \u001b[0;36m<module>\u001b[1;34m()\u001b[0m\n\u001b[1;32m----> 1\u001b[1;33m \u001b[0mdraw_square\u001b[0m\u001b[1;33m(\u001b[0m\u001b[1;33m)\u001b[0m\u001b[1;33m\u001b[0m\u001b[0m\n\u001b[0m",
      "\u001b[1;32m<ipython-input-3-17450737ebf7>\u001b[0m in \u001b[0;36mdraw_square\u001b[1;34m()\u001b[0m\n\u001b[0;32m     21\u001b[0m     \u001b[1;31m#draw_heart()\u001b[0m\u001b[1;33m\u001b[0m\u001b[1;33m\u001b[0m\u001b[0m\n\u001b[0;32m     22\u001b[0m     \u001b[0mwindow\u001b[0m\u001b[1;33m.\u001b[0m\u001b[0mexitonclick\u001b[0m\u001b[1;33m(\u001b[0m\u001b[1;33m)\u001b[0m\u001b[1;33m\u001b[0m\u001b[0m\n\u001b[1;32m---> 23\u001b[1;33m     \u001b[0mturtle\u001b[0m\u001b[1;33m.\u001b[0m\u001b[0mbye\u001b[0m\u001b[1;33m(\u001b[0m\u001b[1;33m)\u001b[0m\u001b[1;33m\u001b[0m\u001b[0m\n\u001b[0m\u001b[0;32m     24\u001b[0m \u001b[1;33m\u001b[0m\u001b[0m\n\u001b[0;32m     25\u001b[0m \u001b[1;32mdef\u001b[0m \u001b[0mdraw_circle\u001b[0m\u001b[1;33m(\u001b[0m\u001b[1;33m)\u001b[0m\u001b[1;33m:\u001b[0m\u001b[1;33m\u001b[0m\u001b[0m\n",
      "\u001b[1;32mC:\\Anaconda3\\lib\\turtle.py\u001b[0m in \u001b[0;36mbye\u001b[1;34m()\u001b[0m\n",
      "\u001b[1;31mTerminator\u001b[0m: "
     ]
    }
   ],
   "source": [
    "draw_square()"
   ]
  },
  {
   "cell_type": "code",
   "execution_count": 15,
   "metadata": {
    "collapsed": false
   },
   "outputs": [
    {
     "ename": "Terminator",
     "evalue": "",
     "output_type": "error",
     "traceback": [
      "\u001b[1;31m---------------------------------------------------------------------------\u001b[0m",
      "\u001b[1;31mTerminator\u001b[0m                                Traceback (most recent call last)",
      "\u001b[1;32m<ipython-input-15-7a3a0f2d30dd>\u001b[0m in \u001b[0;36m<module>\u001b[1;34m()\u001b[0m\n\u001b[0;32m     19\u001b[0m \u001b[0mt\u001b[0m\u001b[1;33m.\u001b[0m\u001b[0mforward\u001b[0m\u001b[1;33m(\u001b[0m\u001b[1;36m100\u001b[0m\u001b[1;33m)\u001b[0m\u001b[1;33m\u001b[0m\u001b[0m\n\u001b[0;32m     20\u001b[0m \u001b[0mturtle\u001b[0m\u001b[1;33m.\u001b[0m\u001b[0mexitonclick\u001b[0m\u001b[1;33m(\u001b[0m\u001b[1;33m)\u001b[0m\u001b[1;33m\u001b[0m\u001b[0m\n\u001b[1;32m---> 21\u001b[1;33m \u001b[0mturtle\u001b[0m\u001b[1;33m.\u001b[0m\u001b[0mbye\u001b[0m\u001b[1;33m(\u001b[0m\u001b[1;33m)\u001b[0m\u001b[1;33m\u001b[0m\u001b[0m\n\u001b[0m",
      "\u001b[1;32mC:\\Anaconda3\\lib\\turtle.py\u001b[0m in \u001b[0;36mbye\u001b[1;34m()\u001b[0m\n",
      "\u001b[1;31mTerminator\u001b[0m: "
     ]
    }
   ],
   "source": [
    "import turtle\n",
    "t = turtle.Turtle()\n",
    "t.left(90) # make the turtle face the top of the screen\n",
    "\n",
    "def halfcircle():\n",
    "    # this code generates 2 * 1/4th a circle\n",
    "    for i in range(2):\n",
    "        # this code generates 1/4th a circle\n",
    "        for i in range(10): \n",
    "            t.right(i * 2) # keep rotating the turtle with a little bit more and more\n",
    "            t.forward(i) # move the turtle forward more and more\n",
    "\n",
    "halfcircle()\n",
    "t.left(180)\n",
    "halfcircle()\n",
    "t.right(45)\n",
    "t.forward(100)\n",
    "t.right(45+65)\n",
    "t.forward(100)\n",
    "turtle.exitonclick()\n",
    "turtle.bye()"
   ]
  },
  {
   "cell_type": "code",
   "execution_count": 19,
   "metadata": {
    "collapsed": false
   },
   "outputs": [
    {
     "ename": "TypeError",
     "evalue": "unsupported operand type(s) for +: 'range' and 'list'",
     "output_type": "error",
     "traceback": [
      "\u001b[1;31m---------------------------------------------------------------------------\u001b[0m",
      "\u001b[1;31mTypeError\u001b[0m                                 Traceback (most recent call last)",
      "\u001b[1;32m<ipython-input-19-2b38cdba720a>\u001b[0m in \u001b[0;36m<module>\u001b[1;34m()\u001b[0m\n\u001b[0;32m     21\u001b[0m     \u001b[0mprint\u001b[0m \u001b[1;33m(\u001b[0m\u001b[1;34m'\\n'\u001b[0m\u001b[1;33m.\u001b[0m\u001b[0mjoin\u001b[0m\u001b[1;33m(\u001b[0m\u001b[0mlayers\u001b[0m\u001b[1;33m)\u001b[0m\u001b[1;33m)\u001b[0m\u001b[1;33m\u001b[0m\u001b[0m\n\u001b[0;32m     22\u001b[0m \u001b[1;33m\u001b[0m\u001b[0m\n\u001b[1;32m---> 23\u001b[1;33m \u001b[0mvalentine\u001b[0m\u001b[1;33m(\u001b[0m\u001b[1;34m'Your Name'\u001b[0m\u001b[1;33m,\u001b[0m\u001b[1;34m'Lovers Name'\u001b[0m\u001b[1;33m)\u001b[0m\u001b[1;33m\u001b[0m\u001b[0m\n\u001b[0m",
      "\u001b[1;32m<ipython-input-19-2b38cdba720a>\u001b[0m in \u001b[0;36mvalentine\u001b[1;34m(person1, person2)\u001b[0m\n\u001b[0;32m      1\u001b[0m \u001b[1;32mdef\u001b[0m \u001b[0mvalentine\u001b[0m\u001b[1;33m(\u001b[0m\u001b[0mperson1\u001b[0m\u001b[1;33m,\u001b[0m\u001b[0mperson2\u001b[0m\u001b[1;33m)\u001b[0m\u001b[1;33m:\u001b[0m\u001b[1;33m\u001b[0m\u001b[0m\n\u001b[1;32m----> 2\u001b[1;33m     \u001b[0mleading_whitespace\u001b[0m \u001b[1;33m=\u001b[0m \u001b[0mrange\u001b[0m\u001b[1;33m(\u001b[0m\u001b[1;36m0\u001b[0m\u001b[1;33m,\u001b[0m\u001b[1;36m4\u001b[0m\u001b[1;33m)\u001b[0m\u001b[1;33m[\u001b[0m\u001b[1;33m:\u001b[0m\u001b[1;33m:\u001b[0m\u001b[1;33m-\u001b[0m\u001b[1;36m1\u001b[0m\u001b[1;33m]\u001b[0m \u001b[1;33m+\u001b[0m\u001b[1;33m[\u001b[0m\u001b[1;36m0\u001b[0m\u001b[1;33m]\u001b[0m\u001b[1;33m+\u001b[0m\u001b[0mrange\u001b[0m\u001b[1;33m(\u001b[0m\u001b[1;36m0\u001b[0m\u001b[1;33m,\u001b[0m\u001b[1;36m8\u001b[0m\u001b[1;33m)\u001b[0m\u001b[1;33m\u001b[0m\u001b[0m\n\u001b[0m\u001b[0;32m      3\u001b[0m     \u001b[0minside\u001b[0m \u001b[1;33m=\u001b[0m \u001b[1;33m[\u001b[0m\u001b[1;36m3\u001b[0m\u001b[1;33m,\u001b[0m\u001b[1;36m5\u001b[0m\u001b[1;33m,\u001b[0m\u001b[1;36m14\u001b[0m\u001b[1;33m,\u001b[0m\u001b[1;36m14\u001b[0m\u001b[1;33m]\u001b[0m\u001b[1;33m+\u001b[0m\u001b[0mrange\u001b[0m\u001b[1;33m(\u001b[0m\u001b[1;36m0\u001b[0m\u001b[1;33m,\u001b[0m\u001b[1;36m15\u001b[0m\u001b[1;33m)\u001b[0m\u001b[1;33m[\u001b[0m\u001b[1;33m:\u001b[0m\u001b[1;33m:\u001b[0m\u001b[1;33m-\u001b[0m\u001b[1;36m1\u001b[0m\u001b[1;33m]\u001b[0m\u001b[1;33m[\u001b[0m\u001b[1;33m:\u001b[0m\u001b[1;33m:\u001b[0m\u001b[1;36m2\u001b[0m\u001b[1;33m]\u001b[0m\u001b[1;33m\u001b[0m\u001b[0m\n\u001b[0;32m      4\u001b[0m     \u001b[0mlayers\u001b[0m \u001b[1;33m=\u001b[0m \u001b[1;33m[\u001b[0m\u001b[1;34m\"  ___    ___\"\u001b[0m\u001b[1;33m,\u001b[0m\u001b[1;34mr\" /   \\  /   \\ \"\u001b[0m\u001b[1;33m,\u001b[0m\u001b[1;34mr'/     \\/     \\ '\u001b[0m\u001b[1;33m,\u001b[0m\u001b[1;34m'|             |'\u001b[0m\u001b[1;33m]\u001b[0m\u001b[1;33m\u001b[0m\u001b[0m\n\u001b[0;32m      5\u001b[0m     \u001b[1;32mfor\u001b[0m \u001b[0mi\u001b[0m \u001b[1;32min\u001b[0m \u001b[0mrange\u001b[0m\u001b[1;33m(\u001b[0m\u001b[1;36m5\u001b[0m\u001b[1;33m,\u001b[0m\u001b[1;36m12\u001b[0m\u001b[1;33m)\u001b[0m\u001b[1;33m:\u001b[0m\u001b[1;33m\u001b[0m\u001b[0m\n",
      "\u001b[1;31mTypeError\u001b[0m: unsupported operand type(s) for +: 'range' and 'list'"
     ]
    }
   ],
   "source": [
    "\n"
   ]
  },
  {
   "cell_type": "code",
   "execution_count": 1,
   "metadata": {
    "collapsed": false
   },
   "outputs": [
    {
     "ename": "Terminator",
     "evalue": "",
     "output_type": "error",
     "traceback": [
      "\u001b[1;31m---------------------------------------------------------------------------\u001b[0m",
      "\u001b[1;31mTerminator\u001b[0m                                Traceback (most recent call last)",
      "\u001b[1;32m<ipython-input-1-e1ac883fca9d>\u001b[0m in \u001b[0;36m<module>\u001b[1;34m()\u001b[0m\n\u001b[0;32m     46\u001b[0m \u001b[0mnames3\u001b[0m\u001b[1;33m(\u001b[0m\u001b[1;33m)\u001b[0m\u001b[1;33m\u001b[0m\u001b[0m\n\u001b[0;32m     47\u001b[0m \u001b[0mturtle\u001b[0m\u001b[1;33m.\u001b[0m\u001b[0mexitonclick\u001b[0m\u001b[1;33m(\u001b[0m\u001b[1;33m)\u001b[0m\u001b[1;33m\u001b[0m\u001b[0m\n\u001b[1;32m---> 48\u001b[1;33m \u001b[0mturtle\u001b[0m\u001b[1;33m.\u001b[0m\u001b[0mbye\u001b[0m\u001b[1;33m(\u001b[0m\u001b[1;33m)\u001b[0m\u001b[1;33m\u001b[0m\u001b[0m\n\u001b[0m",
      "\u001b[1;32mC:\\Anaconda3\\lib\\turtle.py\u001b[0m in \u001b[0;36mbye\u001b[1;34m()\u001b[0m\n",
      "\u001b[1;31mTerminator\u001b[0m: "
     ]
    }
   ],
   "source": [
    "import turtle\n",
    "\n",
    "from math import sin, pi\n",
    "\n",
    "def shape(size, shape):\n",
    "    turtle.pensize(10)\n",
    "    radius = size * sin(shape * pi / 180) / (1 + sin((90 - shape) * pi / 180))\n",
    "    turtle.right(shape)\n",
    "    turtle.forward(size)\n",
    "    turtle.circle(radius, 180 + shape)\n",
    "    turtle.right(180)\n",
    "    turtle.circle(radius, 180 + shape)\n",
    "    turtle.forward(size)\n",
    "    turtle.left(180 - shape)\n",
    "\n",
    "\n",
    "def at(x, y):\n",
    "    turtle.penup()\n",
    "    turtle.home()\n",
    "    turtle.forward(x)\n",
    "    turtle.left(90)\n",
    "    turtle.forward(y)\n",
    "    turtle.pendown()\n",
    "\n",
    "at(0, 0)\n",
    "\n",
    "def names1():\n",
    "    turtle.pensize(5)\n",
    "    turtle.write(\"Tarun\", True, align=\"left\")\n",
    "\n",
    "def names2():\n",
    "    turtle.pensize(5)\n",
    "    turtle.write(\"Nonu\", True, align=\"right\")\n",
    "\n",
    "def names3():\n",
    "    turtle.pensize(5)\n",
    "    turtle.write(\"Home\", True, align=\"center\")\n",
    "\n",
    "at(0,-70)\n",
    "shape(200,60)\n",
    "at(-50,-90)\n",
    "names1()\n",
    "at(50,-90)\n",
    "names2()\n",
    "at(0,20)\n",
    "names3()\n",
    "turtle.exitonclick()\n",
    "turtle.bye()"
   ]
  },
  {
   "cell_type": "code",
   "execution_count": 4,
   "metadata": {
    "collapsed": false
   },
   "outputs": [
    {
     "ename": "Terminator",
     "evalue": "",
     "output_type": "error",
     "traceback": [
      "\u001b[1;31m---------------------------------------------------------------------------\u001b[0m",
      "\u001b[1;31mTerminator\u001b[0m                                Traceback (most recent call last)",
      "\u001b[1;32m<ipython-input-4-4bdf4e6afd10>\u001b[0m in \u001b[0;36m<module>\u001b[1;34m()\u001b[0m\n\u001b[0;32m      8\u001b[0m \u001b[0mnames3\u001b[0m\u001b[1;33m(\u001b[0m\u001b[1;33m)\u001b[0m\u001b[1;33m\u001b[0m\u001b[0m\n\u001b[0;32m      9\u001b[0m \u001b[0mturtle\u001b[0m\u001b[1;33m.\u001b[0m\u001b[0mexitonclick\u001b[0m\u001b[1;33m(\u001b[0m\u001b[1;33m)\u001b[0m\u001b[1;33m\u001b[0m\u001b[0m\n\u001b[1;32m---> 10\u001b[1;33m \u001b[0mturtle\u001b[0m\u001b[1;33m.\u001b[0m\u001b[0mbye\u001b[0m\u001b[1;33m(\u001b[0m\u001b[1;33m)\u001b[0m\u001b[1;33m\u001b[0m\u001b[0m\n\u001b[0m",
      "\u001b[1;32mC:\\Anaconda3\\lib\\turtle.py\u001b[0m in \u001b[0;36mbye\u001b[1;34m()\u001b[0m\n",
      "\u001b[1;31mTerminator\u001b[0m: "
     ]
    }
   ],
   "source": []
  },
  {
   "cell_type": "code",
   "execution_count": 43,
   "metadata": {
    "collapsed": true
   },
   "outputs": [],
   "source": [
    "import numpy as np\n",
    "from pandas import DataFrame, Series\n"
   ]
  },
  {
   "cell_type": "code",
   "execution_count": 29,
   "metadata": {
    "collapsed": false
   },
   "outputs": [],
   "source": [
    "#def avg_medal_count():\n",
    "\n",
    "countries = ['Russian Fed.', 'Norway', 'Canada', 'United States',\n",
    "                 'Netherlands', 'Germany', 'Switzerland', 'Belarus',\n",
    "                 'Austria', 'France', 'Poland', 'China', 'Korea', \n",
    "                 'Sweden', 'Czech Republic', 'Slovenia', 'Japan',\n",
    "                 'Finland', 'Great Britain', 'Ukraine', 'Slovakia',\n",
    "                 'Italy', 'Latvia', 'Australia', 'Croatia', 'Kazakhstan','JhumriTalai']\n",
    "\n",
    "gold = [13, 11, 10, 9, 8, 8, 6, 5, 4, 4, 4, 3, 3, 2, 2, 2, 1, 1, 1, 1, 1, 0, 0, 0, 0, 0,0]\n",
    "silver = [11, 5, 10, 7, 7, 6, 3, 0, 8, 4, 1, 4, 3, 7, 4, 2, 4, 3, 1, 0, 0, 2, 2, 2, 1, 0,0]\n",
    "bronze = [9, 10, 5, 12, 9, 5, 2, 1, 5, 7, 1, 2, 2, 6, 2, 4, 3, 1, 2, 1, 0, 6, 2, 1, 0, 1,0]\n",
    "    \n",
    "olympic_medal_counts = {'country_name':countries,\n",
    "                            'gold': Series(gold),\n",
    "                            'silver': Series(silver),\n",
    "                            'bronze': Series(bronze)}    \n",
    "df = DataFrame(olympic_medal_counts)\n",
    "    \n",
    "    # YOUR CODE HERE\n",
    "\n",
    "#return avg_medal_count"
   ]
  },
  {
   "cell_type": "code",
   "execution_count": 30,
   "metadata": {
    "collapsed": false
   },
   "outputs": [
    {
     "data": {
      "text/html": [
       "<div>\n",
       "<table border=\"1\" class=\"dataframe\">\n",
       "  <thead>\n",
       "    <tr style=\"text-align: right;\">\n",
       "      <th></th>\n",
       "      <th>bronze</th>\n",
       "      <th>country_name</th>\n",
       "      <th>gold</th>\n",
       "      <th>silver</th>\n",
       "    </tr>\n",
       "  </thead>\n",
       "  <tbody>\n",
       "    <tr>\n",
       "      <th>0</th>\n",
       "      <td>9</td>\n",
       "      <td>Russian Fed.</td>\n",
       "      <td>13</td>\n",
       "      <td>11</td>\n",
       "    </tr>\n",
       "    <tr>\n",
       "      <th>1</th>\n",
       "      <td>10</td>\n",
       "      <td>Norway</td>\n",
       "      <td>11</td>\n",
       "      <td>5</td>\n",
       "    </tr>\n",
       "    <tr>\n",
       "      <th>2</th>\n",
       "      <td>5</td>\n",
       "      <td>Canada</td>\n",
       "      <td>10</td>\n",
       "      <td>10</td>\n",
       "    </tr>\n",
       "    <tr>\n",
       "      <th>3</th>\n",
       "      <td>12</td>\n",
       "      <td>United States</td>\n",
       "      <td>9</td>\n",
       "      <td>7</td>\n",
       "    </tr>\n",
       "    <tr>\n",
       "      <th>4</th>\n",
       "      <td>9</td>\n",
       "      <td>Netherlands</td>\n",
       "      <td>8</td>\n",
       "      <td>7</td>\n",
       "    </tr>\n",
       "    <tr>\n",
       "      <th>5</th>\n",
       "      <td>5</td>\n",
       "      <td>Germany</td>\n",
       "      <td>8</td>\n",
       "      <td>6</td>\n",
       "    </tr>\n",
       "    <tr>\n",
       "      <th>6</th>\n",
       "      <td>2</td>\n",
       "      <td>Switzerland</td>\n",
       "      <td>6</td>\n",
       "      <td>3</td>\n",
       "    </tr>\n",
       "    <tr>\n",
       "      <th>7</th>\n",
       "      <td>1</td>\n",
       "      <td>Belarus</td>\n",
       "      <td>5</td>\n",
       "      <td>0</td>\n",
       "    </tr>\n",
       "    <tr>\n",
       "      <th>8</th>\n",
       "      <td>5</td>\n",
       "      <td>Austria</td>\n",
       "      <td>4</td>\n",
       "      <td>8</td>\n",
       "    </tr>\n",
       "    <tr>\n",
       "      <th>9</th>\n",
       "      <td>7</td>\n",
       "      <td>France</td>\n",
       "      <td>4</td>\n",
       "      <td>4</td>\n",
       "    </tr>\n",
       "    <tr>\n",
       "      <th>10</th>\n",
       "      <td>1</td>\n",
       "      <td>Poland</td>\n",
       "      <td>4</td>\n",
       "      <td>1</td>\n",
       "    </tr>\n",
       "    <tr>\n",
       "      <th>11</th>\n",
       "      <td>2</td>\n",
       "      <td>China</td>\n",
       "      <td>3</td>\n",
       "      <td>4</td>\n",
       "    </tr>\n",
       "    <tr>\n",
       "      <th>12</th>\n",
       "      <td>2</td>\n",
       "      <td>Korea</td>\n",
       "      <td>3</td>\n",
       "      <td>3</td>\n",
       "    </tr>\n",
       "    <tr>\n",
       "      <th>13</th>\n",
       "      <td>6</td>\n",
       "      <td>Sweden</td>\n",
       "      <td>2</td>\n",
       "      <td>7</td>\n",
       "    </tr>\n",
       "    <tr>\n",
       "      <th>14</th>\n",
       "      <td>2</td>\n",
       "      <td>Czech Republic</td>\n",
       "      <td>2</td>\n",
       "      <td>4</td>\n",
       "    </tr>\n",
       "    <tr>\n",
       "      <th>15</th>\n",
       "      <td>4</td>\n",
       "      <td>Slovenia</td>\n",
       "      <td>2</td>\n",
       "      <td>2</td>\n",
       "    </tr>\n",
       "    <tr>\n",
       "      <th>16</th>\n",
       "      <td>3</td>\n",
       "      <td>Japan</td>\n",
       "      <td>1</td>\n",
       "      <td>4</td>\n",
       "    </tr>\n",
       "    <tr>\n",
       "      <th>17</th>\n",
       "      <td>1</td>\n",
       "      <td>Finland</td>\n",
       "      <td>1</td>\n",
       "      <td>3</td>\n",
       "    </tr>\n",
       "    <tr>\n",
       "      <th>18</th>\n",
       "      <td>2</td>\n",
       "      <td>Great Britain</td>\n",
       "      <td>1</td>\n",
       "      <td>1</td>\n",
       "    </tr>\n",
       "    <tr>\n",
       "      <th>19</th>\n",
       "      <td>1</td>\n",
       "      <td>Ukraine</td>\n",
       "      <td>1</td>\n",
       "      <td>0</td>\n",
       "    </tr>\n",
       "    <tr>\n",
       "      <th>20</th>\n",
       "      <td>0</td>\n",
       "      <td>Slovakia</td>\n",
       "      <td>1</td>\n",
       "      <td>0</td>\n",
       "    </tr>\n",
       "    <tr>\n",
       "      <th>21</th>\n",
       "      <td>6</td>\n",
       "      <td>Italy</td>\n",
       "      <td>0</td>\n",
       "      <td>2</td>\n",
       "    </tr>\n",
       "    <tr>\n",
       "      <th>22</th>\n",
       "      <td>2</td>\n",
       "      <td>Latvia</td>\n",
       "      <td>0</td>\n",
       "      <td>2</td>\n",
       "    </tr>\n",
       "    <tr>\n",
       "      <th>23</th>\n",
       "      <td>1</td>\n",
       "      <td>Australia</td>\n",
       "      <td>0</td>\n",
       "      <td>2</td>\n",
       "    </tr>\n",
       "    <tr>\n",
       "      <th>24</th>\n",
       "      <td>0</td>\n",
       "      <td>Croatia</td>\n",
       "      <td>0</td>\n",
       "      <td>1</td>\n",
       "    </tr>\n",
       "    <tr>\n",
       "      <th>25</th>\n",
       "      <td>1</td>\n",
       "      <td>Kazakhstan</td>\n",
       "      <td>0</td>\n",
       "      <td>0</td>\n",
       "    </tr>\n",
       "    <tr>\n",
       "      <th>26</th>\n",
       "      <td>0</td>\n",
       "      <td>JhumriTalai</td>\n",
       "      <td>0</td>\n",
       "      <td>0</td>\n",
       "    </tr>\n",
       "  </tbody>\n",
       "</table>\n",
       "</div>"
      ],
      "text/plain": [
       "    bronze    country_name  gold  silver\n",
       "0        9    Russian Fed.    13      11\n",
       "1       10          Norway    11       5\n",
       "2        5          Canada    10      10\n",
       "3       12   United States     9       7\n",
       "4        9     Netherlands     8       7\n",
       "5        5         Germany     8       6\n",
       "6        2     Switzerland     6       3\n",
       "7        1         Belarus     5       0\n",
       "8        5         Austria     4       8\n",
       "9        7          France     4       4\n",
       "10       1          Poland     4       1\n",
       "11       2           China     3       4\n",
       "12       2           Korea     3       3\n",
       "13       6          Sweden     2       7\n",
       "14       2  Czech Republic     2       4\n",
       "15       4        Slovenia     2       2\n",
       "16       3           Japan     1       4\n",
       "17       1         Finland     1       3\n",
       "18       2   Great Britain     1       1\n",
       "19       1         Ukraine     1       0\n",
       "20       0        Slovakia     1       0\n",
       "21       6           Italy     0       2\n",
       "22       2          Latvia     0       2\n",
       "23       1       Australia     0       2\n",
       "24       0         Croatia     0       1\n",
       "25       1      Kazakhstan     0       0\n",
       "26       0     JhumriTalai     0       0"
      ]
     },
     "execution_count": 30,
     "metadata": {},
     "output_type": "execute_result"
    }
   ],
   "source": [
    "df"
   ]
  },
  {
   "cell_type": "code",
   "execution_count": 35,
   "metadata": {
    "collapsed": false
   },
   "outputs": [],
   "source": [
    "    #atleast_one_medal = \n",
    "newdf = df[(df['gold'] >=1) | (df['silver'] >=1) | df['bronze']>=1]"
   ]
  },
  {
   "cell_type": "code",
   "execution_count": 37,
   "metadata": {
    "collapsed": false
   },
   "outputs": [],
   "source": [
    "\n",
    "avg_medal_count = newdf.mean()\n",
    "    \n",
    "    "
   ]
  },
  {
   "cell_type": "code",
   "execution_count": 38,
   "metadata": {
    "collapsed": false
   },
   "outputs": [
    {
     "data": {
      "text/plain": [
       "bronze    3.807692\n",
       "gold      3.807692\n",
       "silver    3.730769\n",
       "dtype: float64"
      ]
     },
     "execution_count": 38,
     "metadata": {},
     "output_type": "execute_result"
    }
   ],
   "source": [
    "avg_medal_count"
   ]
  },
  {
   "cell_type": "code",
   "execution_count": 46,
   "metadata": {
    "collapsed": false
   },
   "outputs": [
    {
     "data": {
      "text/plain": [
       "gold      3.666667\n",
       "silver    3.592593\n",
       "bronze    3.666667\n",
       "dtype: float64"
      ]
     },
     "execution_count": 46,
     "metadata": {},
     "output_type": "execute_result"
    }
   ],
   "source": [
    "df[['gold','silver','bronze']].apply(np.mean)"
   ]
  },
  {
   "cell_type": "code",
   "execution_count": 60,
   "metadata": {
    "collapsed": true
   },
   "outputs": [],
   "source": [
    "olympic_medal_counts = {'country_name':countries,\n",
    "                            'gold': Series(gold),\n",
    "                            'silver': Series(silver),\n",
    "                            'bronze': Series(bronze)}    \n",
    "olympic_medal_counts_df = DataFrame(olympic_medal_counts)"
   ]
  },
  {
   "cell_type": "code",
   "execution_count": 66,
   "metadata": {
    "collapsed": false
   },
   "outputs": [],
   "source": [
    "medals = olympic_medal_counts_df[['gold','silver','bronze']]"
   ]
  },
  {
   "cell_type": "code",
   "execution_count": 67,
   "metadata": {
    "collapsed": false
   },
   "outputs": [],
   "source": [
    "points = numpy.dot(medals,[4,2,1])"
   ]
  },
  {
   "cell_type": "code",
   "execution_count": 70,
   "metadata": {
    "collapsed": false
   },
   "outputs": [],
   "source": [
    "olympic_points = {'country_name':Series(countries), 'points':Series(points)}"
   ]
  },
  {
   "cell_type": "code",
   "execution_count": 71,
   "metadata": {
    "collapsed": true
   },
   "outputs": [],
   "source": [
    "olympic_points_df = DataFrame(olympic_points)"
   ]
  },
  {
   "cell_type": "markdown",
   "metadata": {},
   "source": [
    "# Learning scikit-learn"
   ]
  },
  {
   "cell_type": "code",
   "execution_count": 74,
   "metadata": {
    "collapsed": false
   },
   "outputs": [],
   "source": [
    "from sklearn import svm"
   ]
  },
  {
   "cell_type": "code",
   "execution_count": 75,
   "metadata": {
    "collapsed": false
   },
   "outputs": [
    {
     "name": "stdout",
     "output_type": "stream",
     "text": [
      "The scikit-learn version is 0.17.1.\n"
     ]
    }
   ],
   "source": [
    "print('The scikit-learn version is {}.'.format(sklearn.__version__))"
   ]
  },
  {
   "cell_type": "code",
   "execution_count": 76,
   "metadata": {
    "collapsed": false
   },
   "outputs": [
    {
     "name": "stdout",
     "output_type": "stream",
     "text": [
      "[1]\n"
     ]
    }
   ],
   "source": [
    "import numpy as np\n",
    "X = np.array([[-1, -1], [-2, -1], [-3, -2], [1, 1], [2, 1], [3, 2]])\n",
    "Y = np.array([1, 1, 1, 2, 2, 2])\n",
    "from sklearn.naive_bayes import GaussianNB\n",
    "clf = GaussianNB()\n",
    "clf.fit(X, Y)\n",
    "\n",
    "print(clf.predict([[-0.8, -1]]))"
   ]
  },
  {
   "cell_type": "code",
   "execution_count": 78,
   "metadata": {
    "collapsed": false
   },
   "outputs": [
    {
     "data": {
      "text/plain": [
       "GaussianNB()"
      ]
     },
     "execution_count": 78,
     "metadata": {},
     "output_type": "execute_result"
    }
   ],
   "source": [
    "import numpy as np\n",
    "X = np.array([[-1, -1], [-2, -1], [-3, -2], [1, 1], [2, 1], [3, 2]])\n",
    "Y = np.array([1, 1, 1, 2, 2, 2])\n",
    "from sklearn.naive_bayes import GaussianNB\n",
    "clf = GaussianNB()\n",
    "clf.fit(X, Y)\n"
   ]
  },
  {
   "cell_type": "code",
   "execution_count": 79,
   "metadata": {
    "collapsed": false
   },
   "outputs": [
    {
     "name": "stdout",
     "output_type": "stream",
     "text": [
      "[1]\n"
     ]
    }
   ],
   "source": [
    "print(clf.predict([[-0.8, -1]]))"
   ]
  },
  {
   "cell_type": "markdown",
   "metadata": {},
   "source": [
    "# Learning LabelEncoding and One-hot Encoding"
   ]
  },
  {
   "cell_type": "code",
   "execution_count": 80,
   "metadata": {
    "collapsed": true
   },
   "outputs": [],
   "source": [
    "import numpy as np\n",
    "import pandas as pd"
   ]
  },
  {
   "cell_type": "code",
   "execution_count": 136,
   "metadata": {
    "collapsed": true
   },
   "outputs": [],
   "source": [
    "XX = pd.read_csv('titanic_data.csv') "
   ]
  },
  {
   "cell_type": "code",
   "execution_count": 137,
   "metadata": {
    "collapsed": true
   },
   "outputs": [],
   "source": [
    "X = XX.select_dtypes(include=[object])"
   ]
  },
  {
   "cell_type": "code",
   "execution_count": 111,
   "metadata": {
    "collapsed": false
   },
   "outputs": [
    {
     "data": {
      "text/html": [
       "<div>\n",
       "<table border=\"1\" class=\"dataframe\">\n",
       "  <thead>\n",
       "    <tr style=\"text-align: right;\">\n",
       "      <th></th>\n",
       "      <th>Name</th>\n",
       "      <th>Sex</th>\n",
       "      <th>Ticket</th>\n",
       "      <th>Cabin</th>\n",
       "      <th>Embarked</th>\n",
       "    </tr>\n",
       "  </thead>\n",
       "  <tbody>\n",
       "    <tr>\n",
       "      <th>0</th>\n",
       "      <td>Braund, Mr. Owen Harris</td>\n",
       "      <td>male</td>\n",
       "      <td>A/5 21171</td>\n",
       "      <td>NaN</td>\n",
       "      <td>S</td>\n",
       "    </tr>\n",
       "    <tr>\n",
       "      <th>1</th>\n",
       "      <td>Cumings, Mrs. John Bradley (Florence Briggs Th...</td>\n",
       "      <td>female</td>\n",
       "      <td>PC 17599</td>\n",
       "      <td>C85</td>\n",
       "      <td>C</td>\n",
       "    </tr>\n",
       "    <tr>\n",
       "      <th>2</th>\n",
       "      <td>Heikkinen, Miss. Laina</td>\n",
       "      <td>female</td>\n",
       "      <td>STON/O2. 3101282</td>\n",
       "      <td>NaN</td>\n",
       "      <td>S</td>\n",
       "    </tr>\n",
       "    <tr>\n",
       "      <th>3</th>\n",
       "      <td>Futrelle, Mrs. Jacques Heath (Lily May Peel)</td>\n",
       "      <td>female</td>\n",
       "      <td>113803</td>\n",
       "      <td>C123</td>\n",
       "      <td>S</td>\n",
       "    </tr>\n",
       "    <tr>\n",
       "      <th>4</th>\n",
       "      <td>Allen, Mr. William Henry</td>\n",
       "      <td>male</td>\n",
       "      <td>373450</td>\n",
       "      <td>NaN</td>\n",
       "      <td>S</td>\n",
       "    </tr>\n",
       "  </tbody>\n",
       "</table>\n",
       "</div>"
      ],
      "text/plain": [
       "                                                Name     Sex  \\\n",
       "0                            Braund, Mr. Owen Harris    male   \n",
       "1  Cumings, Mrs. John Bradley (Florence Briggs Th...  female   \n",
       "2                             Heikkinen, Miss. Laina  female   \n",
       "3       Futrelle, Mrs. Jacques Heath (Lily May Peel)  female   \n",
       "4                           Allen, Mr. William Henry    male   \n",
       "\n",
       "             Ticket Cabin Embarked  \n",
       "0         A/5 21171   NaN        S  \n",
       "1          PC 17599   C85        C  \n",
       "2  STON/O2. 3101282   NaN        S  \n",
       "3            113803  C123        S  \n",
       "4            373450   NaN        S  "
      ]
     },
     "execution_count": 111,
     "metadata": {},
     "output_type": "execute_result"
    }
   ],
   "source": [
    "X.head()"
   ]
  },
  {
   "cell_type": "code",
   "execution_count": 112,
   "metadata": {
    "collapsed": true
   },
   "outputs": [],
   "source": [
    "from sklearn.preprocessing import LabelEncoder\n",
    "from sklearn.preprocessing import OneHotEncoder"
   ]
  },
  {
   "cell_type": "code",
   "execution_count": 113,
   "metadata": {
    "collapsed": true
   },
   "outputs": [],
   "source": [
    "le = LabelEncoder()"
   ]
  },
  {
   "cell_type": "code",
   "execution_count": 116,
   "metadata": {
    "collapsed": false
   },
   "outputs": [
    {
     "name": "stdout",
     "output_type": "stream",
     "text": [
      "1     Cumings, Mrs. John Bradley (Florence Briggs Th...\n",
      "3          Futrelle, Mrs. Jacques Heath (Lily May Peel)\n",
      "6                               McCarthy, Mr. Timothy J\n",
      "10                      Sandstrom, Miss. Marguerite Rut\n",
      "11                             Bonnell, Miss. Elizabeth\n",
      "Name: Name, dtype: object\n",
      "1     female\n",
      "3     female\n",
      "6       male\n",
      "10    female\n",
      "11    female\n",
      "Name: Sex, dtype: object\n",
      "1     PC 17599\n",
      "3       113803\n",
      "6        17463\n",
      "10     PP 9549\n",
      "11      113783\n",
      "Name: Ticket, dtype: object\n",
      "1      C85\n",
      "3     C123\n",
      "6      E46\n",
      "10      G6\n",
      "11    C103\n",
      "Name: Cabin, dtype: object\n",
      "1     C\n",
      "3     S\n",
      "6     S\n",
      "10    S\n",
      "11    S\n",
      "Name: Embarked, dtype: object\n"
     ]
    }
   ],
   "source": [
    "List = ['Name','Sex','Ticket','Cabin','Embarked']\n",
    "for i in List:\n",
    "    print (X[i].head())"
   ]
  },
  {
   "cell_type": "code",
   "execution_count": 156,
   "metadata": {
    "collapsed": true
   },
   "outputs": [],
   "source": [
    "X = X.dropna()"
   ]
  },
  {
   "cell_type": "code",
   "execution_count": 157,
   "metadata": {
    "collapsed": false
   },
   "outputs": [
    {
     "name": "stderr",
     "output_type": "stream",
     "text": [
      "C:\\Anaconda3\\lib\\site-packages\\ipykernel\\__main__.py:3: SettingWithCopyWarning: \n",
      "A value is trying to be set on a copy of a slice from a DataFrame.\n",
      "Try using .loc[row_indexer,col_indexer] = value instead\n",
      "\n",
      "See the caveats in the documentation: http://pandas.pydata.org/pandas-docs/stable/indexing.html#indexing-view-versus-copy\n",
      "  app.launch_new_instance()\n"
     ]
    }
   ],
   "source": [
    "for i in X:\n",
    "    #print(X[feat].head())\n",
    "    X[i] = le.fit_transform(X[i])"
   ]
  },
  {
   "cell_type": "code",
   "execution_count": 158,
   "metadata": {
    "collapsed": false
   },
   "outputs": [
    {
     "data": {
      "text/html": [
       "<div>\n",
       "<table border=\"1\" class=\"dataframe\">\n",
       "  <thead>\n",
       "    <tr style=\"text-align: right;\">\n",
       "      <th></th>\n",
       "      <th>Name</th>\n",
       "      <th>Sex</th>\n",
       "      <th>Ticket</th>\n",
       "      <th>Cabin</th>\n",
       "      <th>Embarked</th>\n",
       "    </tr>\n",
       "  </thead>\n",
       "  <tbody>\n",
       "    <tr>\n",
       "      <th>1</th>\n",
       "      <td>51</td>\n",
       "      <td>0</td>\n",
       "      <td>123</td>\n",
       "      <td>80</td>\n",
       "      <td>0</td>\n",
       "    </tr>\n",
       "    <tr>\n",
       "      <th>3</th>\n",
       "      <td>74</td>\n",
       "      <td>0</td>\n",
       "      <td>36</td>\n",
       "      <td>54</td>\n",
       "      <td>2</td>\n",
       "    </tr>\n",
       "    <tr>\n",
       "      <th>6</th>\n",
       "      <td>122</td>\n",
       "      <td>1</td>\n",
       "      <td>62</td>\n",
       "      <td>128</td>\n",
       "      <td>2</td>\n",
       "    </tr>\n",
       "    <tr>\n",
       "      <th>10</th>\n",
       "      <td>161</td>\n",
       "      <td>0</td>\n",
       "      <td>134</td>\n",
       "      <td>144</td>\n",
       "      <td>2</td>\n",
       "    </tr>\n",
       "    <tr>\n",
       "      <th>11</th>\n",
       "      <td>27</td>\n",
       "      <td>0</td>\n",
       "      <td>31</td>\n",
       "      <td>48</td>\n",
       "      <td>2</td>\n",
       "    </tr>\n",
       "    <tr>\n",
       "      <th>21</th>\n",
       "      <td>19</td>\n",
       "      <td>1</td>\n",
       "      <td>80</td>\n",
       "      <td>110</td>\n",
       "      <td>2</td>\n",
       "    </tr>\n",
       "    <tr>\n",
       "      <th>23</th>\n",
       "      <td>168</td>\n",
       "      <td>1</td>\n",
       "      <td>35</td>\n",
       "      <td>13</td>\n",
       "      <td>2</td>\n",
       "    </tr>\n",
       "    <tr>\n",
       "      <th>27</th>\n",
       "      <td>67</td>\n",
       "      <td>1</td>\n",
       "      <td>72</td>\n",
       "      <td>62</td>\n",
       "      <td>2</td>\n",
       "    </tr>\n",
       "    <tr>\n",
       "      <th>31</th>\n",
       "      <td>173</td>\n",
       "      <td>0</td>\n",
       "      <td>115</td>\n",
       "      <td>40</td>\n",
       "      <td>0</td>\n",
       "    </tr>\n",
       "    <tr>\n",
       "      <th>52</th>\n",
       "      <td>87</td>\n",
       "      <td>0</td>\n",
       "      <td>116</td>\n",
       "      <td>100</td>\n",
       "      <td>0</td>\n",
       "    </tr>\n",
       "    <tr>\n",
       "      <th>54</th>\n",
       "      <td>140</td>\n",
       "      <td>1</td>\n",
       "      <td>23</td>\n",
       "      <td>22</td>\n",
       "      <td>0</td>\n",
       "    </tr>\n",
       "    <tr>\n",
       "      <th>55</th>\n",
       "      <td>200</td>\n",
       "      <td>1</td>\n",
       "      <td>71</td>\n",
       "      <td>70</td>\n",
       "      <td>2</td>\n",
       "    </tr>\n",
       "    <tr>\n",
       "      <th>62</th>\n",
       "      <td>88</td>\n",
       "      <td>1</td>\n",
       "      <td>98</td>\n",
       "      <td>79</td>\n",
       "      <td>2</td>\n",
       "    </tr>\n",
       "    <tr>\n",
       "      <th>66</th>\n",
       "      <td>139</td>\n",
       "      <td>0</td>\n",
       "      <td>103</td>\n",
       "      <td>141</td>\n",
       "      <td>2</td>\n",
       "    </tr>\n",
       "    <tr>\n",
       "      <th>75</th>\n",
       "      <td>127</td>\n",
       "      <td>1</td>\n",
       "      <td>90</td>\n",
       "      <td>139</td>\n",
       "      <td>2</td>\n",
       "    </tr>\n",
       "    <tr>\n",
       "      <th>88</th>\n",
       "      <td>66</td>\n",
       "      <td>0</td>\n",
       "      <td>72</td>\n",
       "      <td>62</td>\n",
       "      <td>2</td>\n",
       "    </tr>\n",
       "    <tr>\n",
       "      <th>92</th>\n",
       "      <td>41</td>\n",
       "      <td>1</td>\n",
       "      <td>139</td>\n",
       "      <td>121</td>\n",
       "      <td>2</td>\n",
       "    </tr>\n",
       "    <tr>\n",
       "      <th>96</th>\n",
       "      <td>79</td>\n",
       "      <td>1</td>\n",
       "      <td>126</td>\n",
       "      <td>12</td>\n",
       "      <td>0</td>\n",
       "    </tr>\n",
       "    <tr>\n",
       "      <th>97</th>\n",
       "      <td>83</td>\n",
       "      <td>1</td>\n",
       "      <td>131</td>\n",
       "      <td>90</td>\n",
       "      <td>0</td>\n",
       "    </tr>\n",
       "    <tr>\n",
       "      <th>102</th>\n",
       "      <td>196</td>\n",
       "      <td>1</td>\n",
       "      <td>93</td>\n",
       "      <td>97</td>\n",
       "      <td>2</td>\n",
       "    </tr>\n",
       "    <tr>\n",
       "      <th>110</th>\n",
       "      <td>150</td>\n",
       "      <td>1</td>\n",
       "      <td>2</td>\n",
       "      <td>51</td>\n",
       "      <td>2</td>\n",
       "    </tr>\n",
       "    <tr>\n",
       "      <th>118</th>\n",
       "      <td>12</td>\n",
       "      <td>1</td>\n",
       "      <td>114</td>\n",
       "      <td>35</td>\n",
       "      <td>0</td>\n",
       "    </tr>\n",
       "    <tr>\n",
       "      <th>123</th>\n",
       "      <td>194</td>\n",
       "      <td>0</td>\n",
       "      <td>84</td>\n",
       "      <td>115</td>\n",
       "      <td>2</td>\n",
       "    </tr>\n",
       "    <tr>\n",
       "      <th>124</th>\n",
       "      <td>195</td>\n",
       "      <td>1</td>\n",
       "      <td>93</td>\n",
       "      <td>97</td>\n",
       "      <td>2</td>\n",
       "    </tr>\n",
       "    <tr>\n",
       "      <th>128</th>\n",
       "      <td>147</td>\n",
       "      <td>0</td>\n",
       "      <td>82</td>\n",
       "      <td>137</td>\n",
       "      <td>0</td>\n",
       "    </tr>\n",
       "    <tr>\n",
       "      <th>136</th>\n",
       "      <td>138</td>\n",
       "      <td>0</td>\n",
       "      <td>39</td>\n",
       "      <td>106</td>\n",
       "      <td>2</td>\n",
       "    </tr>\n",
       "    <tr>\n",
       "      <th>137</th>\n",
       "      <td>73</td>\n",
       "      <td>1</td>\n",
       "      <td>36</td>\n",
       "      <td>54</td>\n",
       "      <td>2</td>\n",
       "    </tr>\n",
       "    <tr>\n",
       "      <th>139</th>\n",
       "      <td>76</td>\n",
       "      <td>1</td>\n",
       "      <td>120</td>\n",
       "      <td>44</td>\n",
       "      <td>0</td>\n",
       "    </tr>\n",
       "    <tr>\n",
       "      <th>148</th>\n",
       "      <td>134</td>\n",
       "      <td>1</td>\n",
       "      <td>77</td>\n",
       "      <td>140</td>\n",
       "      <td>2</td>\n",
       "    </tr>\n",
       "    <tr>\n",
       "      <th>151</th>\n",
       "      <td>143</td>\n",
       "      <td>0</td>\n",
       "      <td>29</td>\n",
       "      <td>60</td>\n",
       "      <td>2</td>\n",
       "    </tr>\n",
       "    <tr>\n",
       "      <th>...</th>\n",
       "      <td>...</td>\n",
       "      <td>...</td>\n",
       "      <td>...</td>\n",
       "      <td>...</td>\n",
       "      <td>...</td>\n",
       "    </tr>\n",
       "    <tr>\n",
       "      <th>748</th>\n",
       "      <td>120</td>\n",
       "      <td>1</td>\n",
       "      <td>28</td>\n",
       "      <td>99</td>\n",
       "      <td>2</td>\n",
       "    </tr>\n",
       "    <tr>\n",
       "      <th>751</th>\n",
       "      <td>129</td>\n",
       "      <td>1</td>\n",
       "      <td>100</td>\n",
       "      <td>117</td>\n",
       "      <td>2</td>\n",
       "    </tr>\n",
       "    <tr>\n",
       "      <th>759</th>\n",
       "      <td>156</td>\n",
       "      <td>0</td>\n",
       "      <td>0</td>\n",
       "      <td>39</td>\n",
       "      <td>2</td>\n",
       "    </tr>\n",
       "    <tr>\n",
       "      <th>763</th>\n",
       "      <td>39</td>\n",
       "      <td>0</td>\n",
       "      <td>26</td>\n",
       "      <td>46</td>\n",
       "      <td>2</td>\n",
       "    </tr>\n",
       "    <tr>\n",
       "      <th>765</th>\n",
       "      <td>97</td>\n",
       "      <td>0</td>\n",
       "      <td>53</td>\n",
       "      <td>91</td>\n",
       "      <td>2</td>\n",
       "    </tr>\n",
       "    <tr>\n",
       "      <th>772</th>\n",
       "      <td>116</td>\n",
       "      <td>0</td>\n",
       "      <td>135</td>\n",
       "      <td>135</td>\n",
       "      <td>2</td>\n",
       "    </tr>\n",
       "    <tr>\n",
       "      <th>776</th>\n",
       "      <td>189</td>\n",
       "      <td>1</td>\n",
       "      <td>99</td>\n",
       "      <td>142</td>\n",
       "      <td>1</td>\n",
       "    </tr>\n",
       "    <tr>\n",
       "      <th>779</th>\n",
       "      <td>152</td>\n",
       "      <td>0</td>\n",
       "      <td>79</td>\n",
       "      <td>21</td>\n",
       "      <td>2</td>\n",
       "    </tr>\n",
       "    <tr>\n",
       "      <th>781</th>\n",
       "      <td>55</td>\n",
       "      <td>0</td>\n",
       "      <td>66</td>\n",
       "      <td>19</td>\n",
       "      <td>2</td>\n",
       "    </tr>\n",
       "    <tr>\n",
       "      <th>782</th>\n",
       "      <td>113</td>\n",
       "      <td>1</td>\n",
       "      <td>20</td>\n",
       "      <td>111</td>\n",
       "      <td>2</td>\n",
       "    </tr>\n",
       "    <tr>\n",
       "      <th>789</th>\n",
       "      <td>84</td>\n",
       "      <td>1</td>\n",
       "      <td>120</td>\n",
       "      <td>43</td>\n",
       "      <td>0</td>\n",
       "    </tr>\n",
       "    <tr>\n",
       "      <th>796</th>\n",
       "      <td>108</td>\n",
       "      <td>0</td>\n",
       "      <td>64</td>\n",
       "      <td>93</td>\n",
       "      <td>2</td>\n",
       "    </tr>\n",
       "    <tr>\n",
       "      <th>802</th>\n",
       "      <td>36</td>\n",
       "      <td>1</td>\n",
       "      <td>26</td>\n",
       "      <td>46</td>\n",
       "      <td>2</td>\n",
       "    </tr>\n",
       "    <tr>\n",
       "      <th>806</th>\n",
       "      <td>6</td>\n",
       "      <td>1</td>\n",
       "      <td>9</td>\n",
       "      <td>11</td>\n",
       "      <td>2</td>\n",
       "    </tr>\n",
       "    <tr>\n",
       "      <th>809</th>\n",
       "      <td>43</td>\n",
       "      <td>0</td>\n",
       "      <td>37</td>\n",
       "      <td>136</td>\n",
       "      <td>2</td>\n",
       "    </tr>\n",
       "    <tr>\n",
       "      <th>815</th>\n",
       "      <td>72</td>\n",
       "      <td>1</td>\n",
       "      <td>11</td>\n",
       "      <td>16</td>\n",
       "      <td>2</td>\n",
       "    </tr>\n",
       "    <tr>\n",
       "      <th>820</th>\n",
       "      <td>94</td>\n",
       "      <td>0</td>\n",
       "      <td>49</td>\n",
       "      <td>36</td>\n",
       "      <td>2</td>\n",
       "    </tr>\n",
       "    <tr>\n",
       "      <th>823</th>\n",
       "      <td>130</td>\n",
       "      <td>0</td>\n",
       "      <td>100</td>\n",
       "      <td>117</td>\n",
       "      <td>2</td>\n",
       "    </tr>\n",
       "    <tr>\n",
       "      <th>835</th>\n",
       "      <td>48</td>\n",
       "      <td>0</td>\n",
       "      <td>128</td>\n",
       "      <td>129</td>\n",
       "      <td>0</td>\n",
       "    </tr>\n",
       "    <tr>\n",
       "      <th>839</th>\n",
       "      <td>119</td>\n",
       "      <td>1</td>\n",
       "      <td>46</td>\n",
       "      <td>67</td>\n",
       "      <td>0</td>\n",
       "    </tr>\n",
       "    <tr>\n",
       "      <th>849</th>\n",
       "      <td>78</td>\n",
       "      <td>0</td>\n",
       "      <td>61</td>\n",
       "      <td>85</td>\n",
       "      <td>0</td>\n",
       "    </tr>\n",
       "    <tr>\n",
       "      <th>853</th>\n",
       "      <td>112</td>\n",
       "      <td>0</td>\n",
       "      <td>119</td>\n",
       "      <td>98</td>\n",
       "      <td>2</td>\n",
       "    </tr>\n",
       "    <tr>\n",
       "      <th>857</th>\n",
       "      <td>52</td>\n",
       "      <td>1</td>\n",
       "      <td>18</td>\n",
       "      <td>118</td>\n",
       "      <td>2</td>\n",
       "    </tr>\n",
       "    <tr>\n",
       "      <th>862</th>\n",
       "      <td>180</td>\n",
       "      <td>0</td>\n",
       "      <td>65</td>\n",
       "      <td>93</td>\n",
       "      <td>2</td>\n",
       "    </tr>\n",
       "    <tr>\n",
       "      <th>867</th>\n",
       "      <td>153</td>\n",
       "      <td>1</td>\n",
       "      <td>118</td>\n",
       "      <td>6</td>\n",
       "      <td>2</td>\n",
       "    </tr>\n",
       "    <tr>\n",
       "      <th>871</th>\n",
       "      <td>18</td>\n",
       "      <td>0</td>\n",
       "      <td>38</td>\n",
       "      <td>101</td>\n",
       "      <td>2</td>\n",
       "    </tr>\n",
       "    <tr>\n",
       "      <th>872</th>\n",
       "      <td>35</td>\n",
       "      <td>1</td>\n",
       "      <td>102</td>\n",
       "      <td>33</td>\n",
       "      <td>2</td>\n",
       "    </tr>\n",
       "    <tr>\n",
       "      <th>879</th>\n",
       "      <td>151</td>\n",
       "      <td>0</td>\n",
       "      <td>43</td>\n",
       "      <td>69</td>\n",
       "      <td>0</td>\n",
       "    </tr>\n",
       "    <tr>\n",
       "      <th>887</th>\n",
       "      <td>80</td>\n",
       "      <td>0</td>\n",
       "      <td>10</td>\n",
       "      <td>29</td>\n",
       "      <td>2</td>\n",
       "    </tr>\n",
       "    <tr>\n",
       "      <th>889</th>\n",
       "      <td>20</td>\n",
       "      <td>1</td>\n",
       "      <td>8</td>\n",
       "      <td>59</td>\n",
       "      <td>0</td>\n",
       "    </tr>\n",
       "  </tbody>\n",
       "</table>\n",
       "<p>202 rows × 5 columns</p>\n",
       "</div>"
      ],
      "text/plain": [
       "     Name  Sex  Ticket  Cabin  Embarked\n",
       "1      51    0     123     80         0\n",
       "3      74    0      36     54         2\n",
       "6     122    1      62    128         2\n",
       "10    161    0     134    144         2\n",
       "11     27    0      31     48         2\n",
       "21     19    1      80    110         2\n",
       "23    168    1      35     13         2\n",
       "27     67    1      72     62         2\n",
       "31    173    0     115     40         0\n",
       "52     87    0     116    100         0\n",
       "54    140    1      23     22         0\n",
       "55    200    1      71     70         2\n",
       "62     88    1      98     79         2\n",
       "66    139    0     103    141         2\n",
       "75    127    1      90    139         2\n",
       "88     66    0      72     62         2\n",
       "92     41    1     139    121         2\n",
       "96     79    1     126     12         0\n",
       "97     83    1     131     90         0\n",
       "102   196    1      93     97         2\n",
       "110   150    1       2     51         2\n",
       "118    12    1     114     35         0\n",
       "123   194    0      84    115         2\n",
       "124   195    1      93     97         2\n",
       "128   147    0      82    137         0\n",
       "136   138    0      39    106         2\n",
       "137    73    1      36     54         2\n",
       "139    76    1     120     44         0\n",
       "148   134    1      77    140         2\n",
       "151   143    0      29     60         2\n",
       "..    ...  ...     ...    ...       ...\n",
       "748   120    1      28     99         2\n",
       "751   129    1     100    117         2\n",
       "759   156    0       0     39         2\n",
       "763    39    0      26     46         2\n",
       "765    97    0      53     91         2\n",
       "772   116    0     135    135         2\n",
       "776   189    1      99    142         1\n",
       "779   152    0      79     21         2\n",
       "781    55    0      66     19         2\n",
       "782   113    1      20    111         2\n",
       "789    84    1     120     43         0\n",
       "796   108    0      64     93         2\n",
       "802    36    1      26     46         2\n",
       "806     6    1       9     11         2\n",
       "809    43    0      37    136         2\n",
       "815    72    1      11     16         2\n",
       "820    94    0      49     36         2\n",
       "823   130    0     100    117         2\n",
       "835    48    0     128    129         0\n",
       "839   119    1      46     67         0\n",
       "849    78    0      61     85         0\n",
       "853   112    0     119     98         2\n",
       "857    52    1      18    118         2\n",
       "862   180    0      65     93         2\n",
       "867   153    1     118      6         2\n",
       "871    18    0      38    101         2\n",
       "872    35    1     102     33         2\n",
       "879   151    0      43     69         0\n",
       "887    80    0      10     29         2\n",
       "889    20    1       8     59         0\n",
       "\n",
       "[202 rows x 5 columns]"
      ]
     },
     "execution_count": 158,
     "metadata": {},
     "output_type": "execute_result"
    }
   ],
   "source": [
    "X"
   ]
  },
  {
   "cell_type": "code",
   "execution_count": 119,
   "metadata": {
    "collapsed": true
   },
   "outputs": [],
   "source": [
    "ohe = OneHotEncoder()"
   ]
  },
  {
   "cell_type": "code",
   "execution_count": 155,
   "metadata": {
    "collapsed": false
   },
   "outputs": [
    {
     "data": {
      "text/html": [
       "<div>\n",
       "<table border=\"1\" class=\"dataframe\">\n",
       "  <thead>\n",
       "    <tr style=\"text-align: right;\">\n",
       "      <th></th>\n",
       "      <th>Name</th>\n",
       "      <th>Sex</th>\n",
       "      <th>Ticket</th>\n",
       "      <th>Cabin</th>\n",
       "      <th>Embarked</th>\n",
       "    </tr>\n",
       "  </thead>\n",
       "  <tbody>\n",
       "    <tr>\n",
       "      <th>0</th>\n",
       "      <td>Braund, Mr. Owen Harris</td>\n",
       "      <td>male</td>\n",
       "      <td>A/5 21171</td>\n",
       "      <td>NaN</td>\n",
       "      <td>S</td>\n",
       "    </tr>\n",
       "    <tr>\n",
       "      <th>1</th>\n",
       "      <td>Cumings, Mrs. John Bradley (Florence Briggs Th...</td>\n",
       "      <td>female</td>\n",
       "      <td>PC 17599</td>\n",
       "      <td>C85</td>\n",
       "      <td>C</td>\n",
       "    </tr>\n",
       "    <tr>\n",
       "      <th>2</th>\n",
       "      <td>Heikkinen, Miss. Laina</td>\n",
       "      <td>female</td>\n",
       "      <td>STON/O2. 3101282</td>\n",
       "      <td>NaN</td>\n",
       "      <td>S</td>\n",
       "    </tr>\n",
       "    <tr>\n",
       "      <th>3</th>\n",
       "      <td>Futrelle, Mrs. Jacques Heath (Lily May Peel)</td>\n",
       "      <td>female</td>\n",
       "      <td>113803</td>\n",
       "      <td>C123</td>\n",
       "      <td>S</td>\n",
       "    </tr>\n",
       "    <tr>\n",
       "      <th>4</th>\n",
       "      <td>Allen, Mr. William Henry</td>\n",
       "      <td>male</td>\n",
       "      <td>373450</td>\n",
       "      <td>NaN</td>\n",
       "      <td>S</td>\n",
       "    </tr>\n",
       "    <tr>\n",
       "      <th>5</th>\n",
       "      <td>Moran, Mr. James</td>\n",
       "      <td>male</td>\n",
       "      <td>330877</td>\n",
       "      <td>NaN</td>\n",
       "      <td>Q</td>\n",
       "    </tr>\n",
       "    <tr>\n",
       "      <th>6</th>\n",
       "      <td>McCarthy, Mr. Timothy J</td>\n",
       "      <td>male</td>\n",
       "      <td>17463</td>\n",
       "      <td>E46</td>\n",
       "      <td>S</td>\n",
       "    </tr>\n",
       "    <tr>\n",
       "      <th>7</th>\n",
       "      <td>Palsson, Master. Gosta Leonard</td>\n",
       "      <td>male</td>\n",
       "      <td>349909</td>\n",
       "      <td>NaN</td>\n",
       "      <td>S</td>\n",
       "    </tr>\n",
       "    <tr>\n",
       "      <th>8</th>\n",
       "      <td>Johnson, Mrs. Oscar W (Elisabeth Vilhelmina Berg)</td>\n",
       "      <td>female</td>\n",
       "      <td>347742</td>\n",
       "      <td>NaN</td>\n",
       "      <td>S</td>\n",
       "    </tr>\n",
       "    <tr>\n",
       "      <th>9</th>\n",
       "      <td>Nasser, Mrs. Nicholas (Adele Achem)</td>\n",
       "      <td>female</td>\n",
       "      <td>237736</td>\n",
       "      <td>NaN</td>\n",
       "      <td>C</td>\n",
       "    </tr>\n",
       "    <tr>\n",
       "      <th>10</th>\n",
       "      <td>Sandstrom, Miss. Marguerite Rut</td>\n",
       "      <td>female</td>\n",
       "      <td>PP 9549</td>\n",
       "      <td>G6</td>\n",
       "      <td>S</td>\n",
       "    </tr>\n",
       "    <tr>\n",
       "      <th>11</th>\n",
       "      <td>Bonnell, Miss. Elizabeth</td>\n",
       "      <td>female</td>\n",
       "      <td>113783</td>\n",
       "      <td>C103</td>\n",
       "      <td>S</td>\n",
       "    </tr>\n",
       "    <tr>\n",
       "      <th>12</th>\n",
       "      <td>Saundercock, Mr. William Henry</td>\n",
       "      <td>male</td>\n",
       "      <td>A/5. 2151</td>\n",
       "      <td>NaN</td>\n",
       "      <td>S</td>\n",
       "    </tr>\n",
       "    <tr>\n",
       "      <th>13</th>\n",
       "      <td>Andersson, Mr. Anders Johan</td>\n",
       "      <td>male</td>\n",
       "      <td>347082</td>\n",
       "      <td>NaN</td>\n",
       "      <td>S</td>\n",
       "    </tr>\n",
       "    <tr>\n",
       "      <th>14</th>\n",
       "      <td>Vestrom, Miss. Hulda Amanda Adolfina</td>\n",
       "      <td>female</td>\n",
       "      <td>350406</td>\n",
       "      <td>NaN</td>\n",
       "      <td>S</td>\n",
       "    </tr>\n",
       "    <tr>\n",
       "      <th>15</th>\n",
       "      <td>Hewlett, Mrs. (Mary D Kingcome)</td>\n",
       "      <td>female</td>\n",
       "      <td>248706</td>\n",
       "      <td>NaN</td>\n",
       "      <td>S</td>\n",
       "    </tr>\n",
       "    <tr>\n",
       "      <th>16</th>\n",
       "      <td>Rice, Master. Eugene</td>\n",
       "      <td>male</td>\n",
       "      <td>382652</td>\n",
       "      <td>NaN</td>\n",
       "      <td>Q</td>\n",
       "    </tr>\n",
       "    <tr>\n",
       "      <th>17</th>\n",
       "      <td>Williams, Mr. Charles Eugene</td>\n",
       "      <td>male</td>\n",
       "      <td>244373</td>\n",
       "      <td>NaN</td>\n",
       "      <td>S</td>\n",
       "    </tr>\n",
       "    <tr>\n",
       "      <th>18</th>\n",
       "      <td>Vander Planke, Mrs. Julius (Emelia Maria Vande...</td>\n",
       "      <td>female</td>\n",
       "      <td>345763</td>\n",
       "      <td>NaN</td>\n",
       "      <td>S</td>\n",
       "    </tr>\n",
       "    <tr>\n",
       "      <th>19</th>\n",
       "      <td>Masselmani, Mrs. Fatima</td>\n",
       "      <td>female</td>\n",
       "      <td>2649</td>\n",
       "      <td>NaN</td>\n",
       "      <td>C</td>\n",
       "    </tr>\n",
       "    <tr>\n",
       "      <th>20</th>\n",
       "      <td>Fynney, Mr. Joseph J</td>\n",
       "      <td>male</td>\n",
       "      <td>239865</td>\n",
       "      <td>NaN</td>\n",
       "      <td>S</td>\n",
       "    </tr>\n",
       "    <tr>\n",
       "      <th>21</th>\n",
       "      <td>Beesley, Mr. Lawrence</td>\n",
       "      <td>male</td>\n",
       "      <td>248698</td>\n",
       "      <td>D56</td>\n",
       "      <td>S</td>\n",
       "    </tr>\n",
       "    <tr>\n",
       "      <th>22</th>\n",
       "      <td>McGowan, Miss. Anna \"Annie\"</td>\n",
       "      <td>female</td>\n",
       "      <td>330923</td>\n",
       "      <td>NaN</td>\n",
       "      <td>Q</td>\n",
       "    </tr>\n",
       "    <tr>\n",
       "      <th>23</th>\n",
       "      <td>Sloper, Mr. William Thompson</td>\n",
       "      <td>male</td>\n",
       "      <td>113788</td>\n",
       "      <td>A6</td>\n",
       "      <td>S</td>\n",
       "    </tr>\n",
       "    <tr>\n",
       "      <th>24</th>\n",
       "      <td>Palsson, Miss. Torborg Danira</td>\n",
       "      <td>female</td>\n",
       "      <td>349909</td>\n",
       "      <td>NaN</td>\n",
       "      <td>S</td>\n",
       "    </tr>\n",
       "    <tr>\n",
       "      <th>25</th>\n",
       "      <td>Asplund, Mrs. Carl Oscar (Selma Augusta Emilia...</td>\n",
       "      <td>female</td>\n",
       "      <td>347077</td>\n",
       "      <td>NaN</td>\n",
       "      <td>S</td>\n",
       "    </tr>\n",
       "    <tr>\n",
       "      <th>26</th>\n",
       "      <td>Emir, Mr. Farred Chehab</td>\n",
       "      <td>male</td>\n",
       "      <td>2631</td>\n",
       "      <td>NaN</td>\n",
       "      <td>C</td>\n",
       "    </tr>\n",
       "    <tr>\n",
       "      <th>27</th>\n",
       "      <td>Fortune, Mr. Charles Alexander</td>\n",
       "      <td>male</td>\n",
       "      <td>19950</td>\n",
       "      <td>C23 C25 C27</td>\n",
       "      <td>S</td>\n",
       "    </tr>\n",
       "    <tr>\n",
       "      <th>28</th>\n",
       "      <td>O'Dwyer, Miss. Ellen \"Nellie\"</td>\n",
       "      <td>female</td>\n",
       "      <td>330959</td>\n",
       "      <td>NaN</td>\n",
       "      <td>Q</td>\n",
       "    </tr>\n",
       "    <tr>\n",
       "      <th>29</th>\n",
       "      <td>Todoroff, Mr. Lalio</td>\n",
       "      <td>male</td>\n",
       "      <td>349216</td>\n",
       "      <td>NaN</td>\n",
       "      <td>S</td>\n",
       "    </tr>\n",
       "    <tr>\n",
       "      <th>...</th>\n",
       "      <td>...</td>\n",
       "      <td>...</td>\n",
       "      <td>...</td>\n",
       "      <td>...</td>\n",
       "      <td>...</td>\n",
       "    </tr>\n",
       "    <tr>\n",
       "      <th>861</th>\n",
       "      <td>Giles, Mr. Frederick Edward</td>\n",
       "      <td>male</td>\n",
       "      <td>28134</td>\n",
       "      <td>NaN</td>\n",
       "      <td>S</td>\n",
       "    </tr>\n",
       "    <tr>\n",
       "      <th>862</th>\n",
       "      <td>Swift, Mrs. Frederick Joel (Margaret Welles Ba...</td>\n",
       "      <td>female</td>\n",
       "      <td>17466</td>\n",
       "      <td>D17</td>\n",
       "      <td>S</td>\n",
       "    </tr>\n",
       "    <tr>\n",
       "      <th>863</th>\n",
       "      <td>Sage, Miss. Dorothy Edith \"Dolly\"</td>\n",
       "      <td>female</td>\n",
       "      <td>CA. 2343</td>\n",
       "      <td>NaN</td>\n",
       "      <td>S</td>\n",
       "    </tr>\n",
       "    <tr>\n",
       "      <th>864</th>\n",
       "      <td>Gill, Mr. John William</td>\n",
       "      <td>male</td>\n",
       "      <td>233866</td>\n",
       "      <td>NaN</td>\n",
       "      <td>S</td>\n",
       "    </tr>\n",
       "    <tr>\n",
       "      <th>865</th>\n",
       "      <td>Bystrom, Mrs. (Karolina)</td>\n",
       "      <td>female</td>\n",
       "      <td>236852</td>\n",
       "      <td>NaN</td>\n",
       "      <td>S</td>\n",
       "    </tr>\n",
       "    <tr>\n",
       "      <th>866</th>\n",
       "      <td>Duran y More, Miss. Asuncion</td>\n",
       "      <td>female</td>\n",
       "      <td>SC/PARIS 2149</td>\n",
       "      <td>NaN</td>\n",
       "      <td>C</td>\n",
       "    </tr>\n",
       "    <tr>\n",
       "      <th>867</th>\n",
       "      <td>Roebling, Mr. Washington Augustus II</td>\n",
       "      <td>male</td>\n",
       "      <td>PC 17590</td>\n",
       "      <td>A24</td>\n",
       "      <td>S</td>\n",
       "    </tr>\n",
       "    <tr>\n",
       "      <th>868</th>\n",
       "      <td>van Melkebeke, Mr. Philemon</td>\n",
       "      <td>male</td>\n",
       "      <td>345777</td>\n",
       "      <td>NaN</td>\n",
       "      <td>S</td>\n",
       "    </tr>\n",
       "    <tr>\n",
       "      <th>869</th>\n",
       "      <td>Johnson, Master. Harold Theodor</td>\n",
       "      <td>male</td>\n",
       "      <td>347742</td>\n",
       "      <td>NaN</td>\n",
       "      <td>S</td>\n",
       "    </tr>\n",
       "    <tr>\n",
       "      <th>870</th>\n",
       "      <td>Balkic, Mr. Cerin</td>\n",
       "      <td>male</td>\n",
       "      <td>349248</td>\n",
       "      <td>NaN</td>\n",
       "      <td>S</td>\n",
       "    </tr>\n",
       "    <tr>\n",
       "      <th>871</th>\n",
       "      <td>Beckwith, Mrs. Richard Leonard (Sallie Monypeny)</td>\n",
       "      <td>female</td>\n",
       "      <td>11751</td>\n",
       "      <td>D35</td>\n",
       "      <td>S</td>\n",
       "    </tr>\n",
       "    <tr>\n",
       "      <th>872</th>\n",
       "      <td>Carlsson, Mr. Frans Olof</td>\n",
       "      <td>male</td>\n",
       "      <td>695</td>\n",
       "      <td>B51 B53 B55</td>\n",
       "      <td>S</td>\n",
       "    </tr>\n",
       "    <tr>\n",
       "      <th>873</th>\n",
       "      <td>Vander Cruyssen, Mr. Victor</td>\n",
       "      <td>male</td>\n",
       "      <td>345765</td>\n",
       "      <td>NaN</td>\n",
       "      <td>S</td>\n",
       "    </tr>\n",
       "    <tr>\n",
       "      <th>874</th>\n",
       "      <td>Abelson, Mrs. Samuel (Hannah Wizosky)</td>\n",
       "      <td>female</td>\n",
       "      <td>P/PP 3381</td>\n",
       "      <td>NaN</td>\n",
       "      <td>C</td>\n",
       "    </tr>\n",
       "    <tr>\n",
       "      <th>875</th>\n",
       "      <td>Najib, Miss. Adele Kiamie \"Jane\"</td>\n",
       "      <td>female</td>\n",
       "      <td>2667</td>\n",
       "      <td>NaN</td>\n",
       "      <td>C</td>\n",
       "    </tr>\n",
       "    <tr>\n",
       "      <th>876</th>\n",
       "      <td>Gustafsson, Mr. Alfred Ossian</td>\n",
       "      <td>male</td>\n",
       "      <td>7534</td>\n",
       "      <td>NaN</td>\n",
       "      <td>S</td>\n",
       "    </tr>\n",
       "    <tr>\n",
       "      <th>877</th>\n",
       "      <td>Petroff, Mr. Nedelio</td>\n",
       "      <td>male</td>\n",
       "      <td>349212</td>\n",
       "      <td>NaN</td>\n",
       "      <td>S</td>\n",
       "    </tr>\n",
       "    <tr>\n",
       "      <th>878</th>\n",
       "      <td>Laleff, Mr. Kristo</td>\n",
       "      <td>male</td>\n",
       "      <td>349217</td>\n",
       "      <td>NaN</td>\n",
       "      <td>S</td>\n",
       "    </tr>\n",
       "    <tr>\n",
       "      <th>879</th>\n",
       "      <td>Potter, Mrs. Thomas Jr (Lily Alexenia Wilson)</td>\n",
       "      <td>female</td>\n",
       "      <td>11767</td>\n",
       "      <td>C50</td>\n",
       "      <td>C</td>\n",
       "    </tr>\n",
       "    <tr>\n",
       "      <th>880</th>\n",
       "      <td>Shelley, Mrs. William (Imanita Parrish Hall)</td>\n",
       "      <td>female</td>\n",
       "      <td>230433</td>\n",
       "      <td>NaN</td>\n",
       "      <td>S</td>\n",
       "    </tr>\n",
       "    <tr>\n",
       "      <th>881</th>\n",
       "      <td>Markun, Mr. Johann</td>\n",
       "      <td>male</td>\n",
       "      <td>349257</td>\n",
       "      <td>NaN</td>\n",
       "      <td>S</td>\n",
       "    </tr>\n",
       "    <tr>\n",
       "      <th>882</th>\n",
       "      <td>Dahlberg, Miss. Gerda Ulrika</td>\n",
       "      <td>female</td>\n",
       "      <td>7552</td>\n",
       "      <td>NaN</td>\n",
       "      <td>S</td>\n",
       "    </tr>\n",
       "    <tr>\n",
       "      <th>883</th>\n",
       "      <td>Banfield, Mr. Frederick James</td>\n",
       "      <td>male</td>\n",
       "      <td>C.A./SOTON 34068</td>\n",
       "      <td>NaN</td>\n",
       "      <td>S</td>\n",
       "    </tr>\n",
       "    <tr>\n",
       "      <th>884</th>\n",
       "      <td>Sutehall, Mr. Henry Jr</td>\n",
       "      <td>male</td>\n",
       "      <td>SOTON/OQ 392076</td>\n",
       "      <td>NaN</td>\n",
       "      <td>S</td>\n",
       "    </tr>\n",
       "    <tr>\n",
       "      <th>885</th>\n",
       "      <td>Rice, Mrs. William (Margaret Norton)</td>\n",
       "      <td>female</td>\n",
       "      <td>382652</td>\n",
       "      <td>NaN</td>\n",
       "      <td>Q</td>\n",
       "    </tr>\n",
       "    <tr>\n",
       "      <th>886</th>\n",
       "      <td>Montvila, Rev. Juozas</td>\n",
       "      <td>male</td>\n",
       "      <td>211536</td>\n",
       "      <td>NaN</td>\n",
       "      <td>S</td>\n",
       "    </tr>\n",
       "    <tr>\n",
       "      <th>887</th>\n",
       "      <td>Graham, Miss. Margaret Edith</td>\n",
       "      <td>female</td>\n",
       "      <td>112053</td>\n",
       "      <td>B42</td>\n",
       "      <td>S</td>\n",
       "    </tr>\n",
       "    <tr>\n",
       "      <th>888</th>\n",
       "      <td>Johnston, Miss. Catherine Helen \"Carrie\"</td>\n",
       "      <td>female</td>\n",
       "      <td>W./C. 6607</td>\n",
       "      <td>NaN</td>\n",
       "      <td>S</td>\n",
       "    </tr>\n",
       "    <tr>\n",
       "      <th>889</th>\n",
       "      <td>Behr, Mr. Karl Howell</td>\n",
       "      <td>male</td>\n",
       "      <td>111369</td>\n",
       "      <td>C148</td>\n",
       "      <td>C</td>\n",
       "    </tr>\n",
       "    <tr>\n",
       "      <th>890</th>\n",
       "      <td>Dooley, Mr. Patrick</td>\n",
       "      <td>male</td>\n",
       "      <td>370376</td>\n",
       "      <td>NaN</td>\n",
       "      <td>Q</td>\n",
       "    </tr>\n",
       "  </tbody>\n",
       "</table>\n",
       "<p>891 rows × 5 columns</p>\n",
       "</div>"
      ],
      "text/plain": [
       "                                                  Name     Sex  \\\n",
       "0                              Braund, Mr. Owen Harris    male   \n",
       "1    Cumings, Mrs. John Bradley (Florence Briggs Th...  female   \n",
       "2                               Heikkinen, Miss. Laina  female   \n",
       "3         Futrelle, Mrs. Jacques Heath (Lily May Peel)  female   \n",
       "4                             Allen, Mr. William Henry    male   \n",
       "5                                     Moran, Mr. James    male   \n",
       "6                              McCarthy, Mr. Timothy J    male   \n",
       "7                       Palsson, Master. Gosta Leonard    male   \n",
       "8    Johnson, Mrs. Oscar W (Elisabeth Vilhelmina Berg)  female   \n",
       "9                  Nasser, Mrs. Nicholas (Adele Achem)  female   \n",
       "10                     Sandstrom, Miss. Marguerite Rut  female   \n",
       "11                            Bonnell, Miss. Elizabeth  female   \n",
       "12                      Saundercock, Mr. William Henry    male   \n",
       "13                         Andersson, Mr. Anders Johan    male   \n",
       "14                Vestrom, Miss. Hulda Amanda Adolfina  female   \n",
       "15                    Hewlett, Mrs. (Mary D Kingcome)   female   \n",
       "16                                Rice, Master. Eugene    male   \n",
       "17                        Williams, Mr. Charles Eugene    male   \n",
       "18   Vander Planke, Mrs. Julius (Emelia Maria Vande...  female   \n",
       "19                             Masselmani, Mrs. Fatima  female   \n",
       "20                                Fynney, Mr. Joseph J    male   \n",
       "21                               Beesley, Mr. Lawrence    male   \n",
       "22                         McGowan, Miss. Anna \"Annie\"  female   \n",
       "23                        Sloper, Mr. William Thompson    male   \n",
       "24                       Palsson, Miss. Torborg Danira  female   \n",
       "25   Asplund, Mrs. Carl Oscar (Selma Augusta Emilia...  female   \n",
       "26                             Emir, Mr. Farred Chehab    male   \n",
       "27                      Fortune, Mr. Charles Alexander    male   \n",
       "28                       O'Dwyer, Miss. Ellen \"Nellie\"  female   \n",
       "29                                 Todoroff, Mr. Lalio    male   \n",
       "..                                                 ...     ...   \n",
       "861                        Giles, Mr. Frederick Edward    male   \n",
       "862  Swift, Mrs. Frederick Joel (Margaret Welles Ba...  female   \n",
       "863                  Sage, Miss. Dorothy Edith \"Dolly\"  female   \n",
       "864                             Gill, Mr. John William    male   \n",
       "865                           Bystrom, Mrs. (Karolina)  female   \n",
       "866                       Duran y More, Miss. Asuncion  female   \n",
       "867               Roebling, Mr. Washington Augustus II    male   \n",
       "868                        van Melkebeke, Mr. Philemon    male   \n",
       "869                    Johnson, Master. Harold Theodor    male   \n",
       "870                                  Balkic, Mr. Cerin    male   \n",
       "871   Beckwith, Mrs. Richard Leonard (Sallie Monypeny)  female   \n",
       "872                           Carlsson, Mr. Frans Olof    male   \n",
       "873                        Vander Cruyssen, Mr. Victor    male   \n",
       "874              Abelson, Mrs. Samuel (Hannah Wizosky)  female   \n",
       "875                   Najib, Miss. Adele Kiamie \"Jane\"  female   \n",
       "876                      Gustafsson, Mr. Alfred Ossian    male   \n",
       "877                               Petroff, Mr. Nedelio    male   \n",
       "878                                 Laleff, Mr. Kristo    male   \n",
       "879      Potter, Mrs. Thomas Jr (Lily Alexenia Wilson)  female   \n",
       "880       Shelley, Mrs. William (Imanita Parrish Hall)  female   \n",
       "881                                 Markun, Mr. Johann    male   \n",
       "882                       Dahlberg, Miss. Gerda Ulrika  female   \n",
       "883                      Banfield, Mr. Frederick James    male   \n",
       "884                             Sutehall, Mr. Henry Jr    male   \n",
       "885               Rice, Mrs. William (Margaret Norton)  female   \n",
       "886                              Montvila, Rev. Juozas    male   \n",
       "887                       Graham, Miss. Margaret Edith  female   \n",
       "888           Johnston, Miss. Catherine Helen \"Carrie\"  female   \n",
       "889                              Behr, Mr. Karl Howell    male   \n",
       "890                                Dooley, Mr. Patrick    male   \n",
       "\n",
       "               Ticket        Cabin Embarked  \n",
       "0           A/5 21171          NaN        S  \n",
       "1            PC 17599          C85        C  \n",
       "2    STON/O2. 3101282          NaN        S  \n",
       "3              113803         C123        S  \n",
       "4              373450          NaN        S  \n",
       "5              330877          NaN        Q  \n",
       "6               17463          E46        S  \n",
       "7              349909          NaN        S  \n",
       "8              347742          NaN        S  \n",
       "9              237736          NaN        C  \n",
       "10            PP 9549           G6        S  \n",
       "11             113783         C103        S  \n",
       "12          A/5. 2151          NaN        S  \n",
       "13             347082          NaN        S  \n",
       "14             350406          NaN        S  \n",
       "15             248706          NaN        S  \n",
       "16             382652          NaN        Q  \n",
       "17             244373          NaN        S  \n",
       "18             345763          NaN        S  \n",
       "19               2649          NaN        C  \n",
       "20             239865          NaN        S  \n",
       "21             248698          D56        S  \n",
       "22             330923          NaN        Q  \n",
       "23             113788           A6        S  \n",
       "24             349909          NaN        S  \n",
       "25             347077          NaN        S  \n",
       "26               2631          NaN        C  \n",
       "27              19950  C23 C25 C27        S  \n",
       "28             330959          NaN        Q  \n",
       "29             349216          NaN        S  \n",
       "..                ...          ...      ...  \n",
       "861             28134          NaN        S  \n",
       "862             17466          D17        S  \n",
       "863          CA. 2343          NaN        S  \n",
       "864            233866          NaN        S  \n",
       "865            236852          NaN        S  \n",
       "866     SC/PARIS 2149          NaN        C  \n",
       "867          PC 17590          A24        S  \n",
       "868            345777          NaN        S  \n",
       "869            347742          NaN        S  \n",
       "870            349248          NaN        S  \n",
       "871             11751          D35        S  \n",
       "872               695  B51 B53 B55        S  \n",
       "873            345765          NaN        S  \n",
       "874         P/PP 3381          NaN        C  \n",
       "875              2667          NaN        C  \n",
       "876              7534          NaN        S  \n",
       "877            349212          NaN        S  \n",
       "878            349217          NaN        S  \n",
       "879             11767          C50        C  \n",
       "880            230433          NaN        S  \n",
       "881            349257          NaN        S  \n",
       "882              7552          NaN        S  \n",
       "883  C.A./SOTON 34068          NaN        S  \n",
       "884   SOTON/OQ 392076          NaN        S  \n",
       "885            382652          NaN        Q  \n",
       "886            211536          NaN        S  \n",
       "887            112053          B42        S  \n",
       "888        W./C. 6607          NaN        S  \n",
       "889            111369         C148        C  \n",
       "890            370376          NaN        Q  \n",
       "\n",
       "[891 rows x 5 columns]"
      ]
     },
     "execution_count": 155,
     "metadata": {},
     "output_type": "execute_result"
    }
   ],
   "source": [
    "X"
   ]
  },
  {
   "cell_type": "code",
   "execution_count": 159,
   "metadata": {
    "collapsed": false
   },
   "outputs": [
    {
     "data": {
      "text/plain": [
       "OneHotEncoder(categorical_features='all', dtype=<class 'float'>,\n",
       "       handle_unknown='error', n_values='auto', sparse=True)"
      ]
     },
     "execution_count": 159,
     "metadata": {},
     "output_type": "execute_result"
    }
   ],
   "source": [
    "ohe.fit(X)"
   ]
  },
  {
   "cell_type": "code",
   "execution_count": 123,
   "metadata": {
    "collapsed": true
   },
   "outputs": [],
   "source": [
    "onehotlabels = ohe.transform(X).toarray()"
   ]
  },
  {
   "cell_type": "code",
   "execution_count": 124,
   "metadata": {
    "collapsed": false
   },
   "outputs": [
    {
     "data": {
      "text/plain": [
       "(202, 494)"
      ]
     },
     "execution_count": 124,
     "metadata": {},
     "output_type": "execute_result"
    }
   ],
   "source": [
    "onehotlabels.shape"
   ]
  },
  {
   "cell_type": "code",
   "execution_count": 125,
   "metadata": {
    "collapsed": false
   },
   "outputs": [
    {
     "data": {
      "text/plain": [
       "array([[ 0.,  0.,  0., ...,  1.,  0.,  0.],\n",
       "       [ 0.,  0.,  0., ...,  0.,  0.,  1.],\n",
       "       [ 0.,  0.,  0., ...,  0.,  0.,  1.],\n",
       "       ..., \n",
       "       [ 0.,  0.,  0., ...,  1.,  0.,  0.],\n",
       "       [ 0.,  0.,  0., ...,  0.,  0.,  1.],\n",
       "       [ 0.,  0.,  0., ...,  1.,  0.,  0.]])"
      ]
     },
     "execution_count": 125,
     "metadata": {},
     "output_type": "execute_result"
    }
   ],
   "source": [
    "onehotlabels"
   ]
  },
  {
   "cell_type": "code",
   "execution_count": 126,
   "metadata": {
    "collapsed": false
   },
   "outputs": [
    {
     "data": {
      "text/plain": [
       "numpy.ndarray"
      ]
     },
     "execution_count": 126,
     "metadata": {},
     "output_type": "execute_result"
    }
   ],
   "source": [
    "type(onehotlabels)"
   ]
  },
  {
   "cell_type": "code",
   "execution_count": 150,
   "metadata": {
    "collapsed": false
   },
   "outputs": [],
   "source": [
    "X2 = XX\n",
    "#X2 = X2.select_dtypes(include=[object])"
   ]
  },
  {
   "cell_type": "code",
   "execution_count": 152,
   "metadata": {
    "collapsed": false
   },
   "outputs": [],
   "source": [
    "X2 = X2.dropna()"
   ]
  },
  {
   "cell_type": "code",
   "execution_count": 161,
   "metadata": {
    "collapsed": false
   },
   "outputs": [],
   "source": [
    "X3 = ohe.fit_transform(X)"
   ]
  },
  {
   "cell_type": "code",
   "execution_count": 162,
   "metadata": {
    "collapsed": false
   },
   "outputs": [
    {
     "data": {
      "text/plain": [
       "<202x494 sparse matrix of type '<class 'numpy.float64'>'\n",
       "\twith 1010 stored elements in Compressed Sparse Row format>"
      ]
     },
     "execution_count": 162,
     "metadata": {},
     "output_type": "execute_result"
    }
   ],
   "source": [
    "X3"
   ]
  },
  {
   "cell_type": "markdown",
   "metadata": {},
   "source": [
    "# Enron dataset"
   ]
  },
  {
   "cell_type": "code",
   "execution_count": 167,
   "metadata": {
    "collapsed": false
   },
   "outputs": [
    {
     "data": {
      "text/plain": [
       "'C:\\\\Users\\\\tparmar\\\\Python\\\\Udacity'"
      ]
     },
     "execution_count": 167,
     "metadata": {},
     "output_type": "execute_result"
    }
   ],
   "source": [
    "import pickle\n",
    "import os\n",
    "os.getcwd()\n",
    "\n"
   ]
  },
  {
   "cell_type": "markdown",
   "metadata": {},
   "source": [
    "## Helpful reference: http://napitupulu-jon.appspot.com/posts/datasets-questions.html "
   ]
  },
  {
   "cell_type": "code",
   "execution_count": 174,
   "metadata": {
    "collapsed": false
   },
   "outputs": [],
   "source": [
    "enron_data = pickle.load(open(\"./enron/ud120-projects-master/final_project/final_project_dataset.pkl\", \"rb\"))"
   ]
  },
  {
   "cell_type": "code",
   "execution_count": 176,
   "metadata": {
    "collapsed": false
   },
   "outputs": [
    {
     "data": {
      "text/plain": [
       "dict_values([{'email_address': 'NaN', 'total_stock_value': 1030329, 'from_this_person_to_poi': 'NaN', 'long_term_incentive': 'NaN', 'poi': False, 'bonus': 'NaN', 'deferral_payments': 53625, 'exercised_stock_options': 1030329, 'expenses': 33785, 'salary': 'NaN', 'restricted_stock_deferred': 'NaN', 'other': 'NaN', 'loan_advances': 'NaN', 'total_payments': 87410, 'from_poi_to_this_person': 'NaN', 'deferred_income': 'NaN', 'restricted_stock': 'NaN', 'from_messages': 'NaN', 'director_fees': 'NaN', 'shared_receipt_with_poi': 'NaN', 'to_messages': 'NaN'}, {'email_address': 'wes.colwell@enron.com', 'total_stock_value': 698242, 'from_this_person_to_poi': 11, 'long_term_incentive': 'NaN', 'poi': True, 'bonus': 1200000, 'deferral_payments': 27610, 'exercised_stock_options': 'NaN', 'expenses': 16514, 'salary': 288542, 'restricted_stock_deferred': 'NaN', 'other': 101740, 'loan_advances': 'NaN', 'total_payments': 1490344, 'from_poi_to_this_person': 240, 'deferred_income': -144062, 'restricted_stock': 698242, 'from_messages': 40, 'director_fees': 'NaN', 'shared_receipt_with_poi': 1132, 'to_messages': 1758}, {'email_address': 'NaN', 'total_stock_value': 368705, 'from_this_person_to_poi': 'NaN', 'long_term_incentive': 'NaN', 'poi': False, 'bonus': 'NaN', 'deferral_payments': 774401, 'exercised_stock_options': 'NaN', 'expenses': 'NaN', 'salary': 'NaN', 'restricted_stock_deferred': -94556, 'other': 'NaN', 'loan_advances': 'NaN', 'total_payments': 774401, 'from_poi_to_this_person': 'NaN', 'deferred_income': 'NaN', 'restricted_stock': 463261, 'from_messages': 'NaN', 'director_fees': 'NaN', 'shared_receipt_with_poi': 'NaN', 'to_messages': 'NaN'}, {'email_address': 'bob.butts@enron.com', 'total_stock_value': 417619, 'from_this_person_to_poi': 'NaN', 'long_term_incentive': 175000, 'poi': False, 'bonus': 750000, 'deferral_payments': 'NaN', 'exercised_stock_options': 'NaN', 'expenses': 9410, 'salary': 261516, 'restricted_stock_deferred': 'NaN', 'other': 150656, 'loan_advances': 'NaN', 'total_payments': 1271582, 'from_poi_to_this_person': 'NaN', 'deferred_income': -75000, 'restricted_stock': 417619, 'from_messages': 'NaN', 'director_fees': 'NaN', 'shared_receipt_with_poi': 'NaN', 'to_messages': 'NaN'}, {'email_address': 'NaN', 'total_stock_value': 434509511, 'from_this_person_to_poi': 'NaN', 'long_term_incentive': 48521928, 'poi': False, 'bonus': 97343619, 'deferral_payments': 32083396, 'exercised_stock_options': 311764000, 'expenses': 5235198, 'salary': 26704229, 'restricted_stock_deferred': -7576788, 'other': 42667589, 'loan_advances': 83925000, 'total_payments': 309886585, 'from_poi_to_this_person': 'NaN', 'deferred_income': -27992891, 'restricted_stock': 130322299, 'from_messages': 'NaN', 'director_fees': 1398517, 'shared_receipt_with_poi': 'NaN', 'to_messages': 'NaN'}, {'email_address': 'jeremy.blachman@enron.com', 'total_stock_value': 954354, 'from_this_person_to_poi': 2, 'long_term_incentive': 831809, 'poi': False, 'bonus': 850000, 'deferral_payments': 'NaN', 'exercised_stock_options': 765313, 'expenses': 84208, 'salary': 248546, 'restricted_stock_deferred': 'NaN', 'other': 272, 'loan_advances': 'NaN', 'total_payments': 2014835, 'from_poi_to_this_person': 25, 'deferred_income': 'NaN', 'restricted_stock': 189041, 'from_messages': 14, 'director_fees': 'NaN', 'shared_receipt_with_poi': 2326, 'to_messages': 2475}, {'email_address': 'steven.elliott@enron.com', 'total_stock_value': 6678735, 'from_this_person_to_poi': 'NaN', 'long_term_incentive': 'NaN', 'poi': False, 'bonus': 350000, 'deferral_payments': 'NaN', 'exercised_stock_options': 4890344, 'expenses': 78552, 'salary': 170941, 'restricted_stock_deferred': 'NaN', 'other': 12961, 'loan_advances': 'NaN', 'total_payments': 211725, 'from_poi_to_this_person': 'NaN', 'deferred_income': -400729, 'restricted_stock': 1788391, 'from_messages': 'NaN', 'director_fees': 'NaN', 'shared_receipt_with_poi': 'NaN', 'to_messages': 'NaN'}, {'email_address': 'danny.mccarty@enron.com', 'total_stock_value': 758931, 'from_this_person_to_poi': 2, 'long_term_incentive': 'NaN', 'poi': False, 'bonus': 'NaN', 'deferral_payments': 'NaN', 'exercised_stock_options': 664375, 'expenses': 'NaN', 'salary': 'NaN', 'restricted_stock_deferred': 'NaN', 'other': 'NaN', 'loan_advances': 'NaN', 'total_payments': 'NaN', 'from_poi_to_this_person': 25, 'deferred_income': 'NaN', 'restricted_stock': 94556, 'from_messages': 215, 'director_fees': 'NaN', 'shared_receipt_with_poi': 508, 'to_messages': 1433}, {'email_address': 'NaN', 'total_stock_value': 1362375, 'from_this_person_to_poi': 'NaN', 'long_term_incentive': 554422, 'poi': False, 'bonus': 100000, 'deferral_payments': 181993, 'exercised_stock_options': 1362375, 'expenses': 'NaN', 'salary': 162779, 'restricted_stock_deferred': 'NaN', 'other': 162, 'loan_advances': 'NaN', 'total_payments': 999356, 'from_poi_to_this_person': 'NaN', 'deferred_income': 'NaN', 'restricted_stock': 'NaN', 'from_messages': 'NaN', 'director_fees': 'NaN', 'shared_receipt_with_poi': 'NaN', 'to_messages': 'NaN'}, {'email_address': 'greg.piper@enron.com', 'total_stock_value': 880290, 'from_this_person_to_poi': 48, 'long_term_incentive': 'NaN', 'poi': False, 'bonus': 400000, 'deferral_payments': 1130036, 'exercised_stock_options': 880290, 'expenses': 43057, 'salary': 197091, 'restricted_stock_deferred': -409554, 'other': 778, 'loan_advances': 'NaN', 'total_payments': 1737629, 'from_poi_to_this_person': 61, 'deferred_income': -33333, 'restricted_stock': 409554, 'from_messages': 222, 'director_fees': 'NaN', 'shared_receipt_with_poi': 742, 'to_messages': 1238}, {'email_address': 'mark.koenig@enron.com', 'total_stock_value': 1920055, 'from_this_person_to_poi': 15, 'long_term_incentive': 300000, 'poi': True, 'bonus': 700000, 'deferral_payments': 'NaN', 'exercised_stock_options': 671737, 'expenses': 127017, 'salary': 309946, 'restricted_stock_deferred': 'NaN', 'other': 150458, 'loan_advances': 'NaN', 'total_payments': 1587421, 'from_poi_to_this_person': 53, 'deferred_income': 'NaN', 'restricted_stock': 1248318, 'from_messages': 61, 'director_fees': 'NaN', 'shared_receipt_with_poi': 2271, 'to_messages': 2374}, {'email_address': 'rob.walls@enron.com', 'total_stock_value': 5898997, 'from_this_person_to_poi': 0, 'long_term_incentive': 540751, 'poi': False, 'bonus': 850000, 'deferral_payments': 'NaN', 'exercised_stock_options': 4346544, 'expenses': 50936, 'salary': 357091, 'restricted_stock_deferred': 'NaN', 'other': 2, 'loan_advances': 'NaN', 'total_payments': 1798780, 'from_poi_to_this_person': 17, 'deferred_income': 'NaN', 'restricted_stock': 1552453, 'from_messages': 146, 'director_fees': 'NaN', 'shared_receipt_with_poi': 215, 'to_messages': 671}, {'email_address': 'robert.hermann@enron.com', 'total_stock_value': 668132, 'from_this_person_to_poi': 'NaN', 'long_term_incentive': 150000, 'poi': False, 'bonus': 700000, 'deferral_payments': 'NaN', 'exercised_stock_options': 187500, 'expenses': 48357, 'salary': 262663, 'restricted_stock_deferred': 'NaN', 'other': 416441, 'loan_advances': 'NaN', 'total_payments': 1297461, 'from_poi_to_this_person': 'NaN', 'deferred_income': -280000, 'restricted_stock': 480632, 'from_messages': 'NaN', 'director_fees': 'NaN', 'shared_receipt_with_poi': 'NaN', 'to_messages': 'NaN'}, {'email_address': 'kulvinder.fowler@enron.com', 'total_stock_value': 1884748, 'from_this_person_to_poi': 0, 'long_term_incentive': 'NaN', 'poi': False, 'bonus': 'NaN', 'deferral_payments': 'NaN', 'exercised_stock_options': 1324578, 'expenses': 'NaN', 'salary': 'NaN', 'restricted_stock_deferred': 'NaN', 'other': 'NaN', 'loan_advances': 'NaN', 'total_payments': 'NaN', 'from_poi_to_this_person': 0, 'deferred_income': 'NaN', 'restricted_stock': 560170, 'from_messages': 36, 'director_fees': 'NaN', 'shared_receipt_with_poi': 10, 'to_messages': 517}, {'email_address': 'a..martin@enron.com', 'total_stock_value': 2070306, 'from_this_person_to_poi': 0, 'long_term_incentive': 5145434, 'poi': False, 'bonus': 'NaN', 'deferral_payments': 85430, 'exercised_stock_options': 2070306, 'expenses': 8211, 'salary': 349487, 'restricted_stock_deferred': 'NaN', 'other': 2818454, 'loan_advances': 'NaN', 'total_payments': 8407016, 'from_poi_to_this_person': 8, 'deferred_income': 'NaN', 'restricted_stock': 'NaN', 'from_messages': 230, 'director_fees': 'NaN', 'shared_receipt_with_poi': 477, 'to_messages': 1522}, {'email_address': 'thomas.white@enron.com', 'total_stock_value': 15144123, 'from_this_person_to_poi': 'NaN', 'long_term_incentive': 'NaN', 'poi': False, 'bonus': 450000, 'deferral_payments': 'NaN', 'exercised_stock_options': 1297049, 'expenses': 81353, 'salary': 317543, 'restricted_stock_deferred': 'NaN', 'other': 1085463, 'loan_advances': 'NaN', 'total_payments': 1934359, 'from_poi_to_this_person': 'NaN', 'deferred_income': 'NaN', 'restricted_stock': 13847074, 'from_messages': 'NaN', 'director_fees': 'NaN', 'shared_receipt_with_poi': 'NaN', 'to_messages': 'NaN'}, {'email_address': 'NaN', 'total_stock_value': 'NaN', 'from_this_person_to_poi': 'NaN', 'long_term_incentive': 365625, 'poi': False, 'bonus': 'NaN', 'deferral_payments': 93585, 'exercised_stock_options': 'NaN', 'expenses': 'NaN', 'salary': 6615, 'restricted_stock_deferred': 'NaN', 'other': 680833, 'loan_advances': 'NaN', 'total_payments': 1146658, 'from_poi_to_this_person': 'NaN', 'deferred_income': 'NaN', 'restricted_stock': 'NaN', 'from_messages': 'NaN', 'director_fees': 'NaN', 'shared_receipt_with_poi': 'NaN', 'to_messages': 'NaN'}, {'email_address': 'scott.yeager@enron.com', 'total_stock_value': 11884758, 'from_this_person_to_poi': 'NaN', 'long_term_incentive': 'NaN', 'poi': True, 'bonus': 'NaN', 'deferral_payments': 'NaN', 'exercised_stock_options': 8308552, 'expenses': 53947, 'salary': 158403, 'restricted_stock_deferred': 'NaN', 'other': 147950, 'loan_advances': 'NaN', 'total_payments': 360300, 'from_poi_to_this_person': 'NaN', 'deferred_income': 'NaN', 'restricted_stock': 3576206, 'from_messages': 'NaN', 'director_fees': 'NaN', 'shared_receipt_with_poi': 'NaN', 'to_messages': 'NaN'}, {'email_address': 'NaN', 'total_stock_value': 'NaN', 'from_this_person_to_poi': 'NaN', 'long_term_incentive': 'NaN', 'poi': False, 'bonus': 'NaN', 'deferral_payments': 'NaN', 'exercised_stock_options': 'NaN', 'expenses': 103773, 'salary': 'NaN', 'restricted_stock_deferred': 'NaN', 'other': 'NaN', 'loan_advances': 'NaN', 'total_payments': 213071, 'from_poi_to_this_person': 'NaN', 'deferred_income': 'NaN', 'restricted_stock': 'NaN', 'from_messages': 'NaN', 'director_fees': 109298, 'shared_receipt_with_poi': 'NaN', 'to_messages': 'NaN'}, {'email_address': 'NaN', 'total_stock_value': 139130, 'from_this_person_to_poi': 'NaN', 'long_term_incentive': 'NaN', 'poi': False, 'bonus': 'NaN', 'deferral_payments': 'NaN', 'exercised_stock_options': 139130, 'expenses': 'NaN', 'salary': 'NaN', 'restricted_stock_deferred': 'NaN', 'other': 'NaN', 'loan_advances': 'NaN', 'total_payments': 'NaN', 'from_poi_to_this_person': 'NaN', 'deferred_income': 'NaN', 'restricted_stock': 'NaN', 'from_messages': 'NaN', 'director_fees': 'NaN', 'shared_receipt_with_poi': 'NaN', 'to_messages': 'NaN'}, {'email_address': 'john.sherriff@enron.com', 'total_stock_value': 3128982, 'from_this_person_to_poi': 23, 'long_term_incentive': 554422, 'poi': False, 'bonus': 1500000, 'deferral_payments': 'NaN', 'exercised_stock_options': 1835558, 'expenses': 'NaN', 'salary': 428780, 'restricted_stock_deferred': 'NaN', 'other': 1852186, 'loan_advances': 'NaN', 'total_payments': 4335388, 'from_poi_to_this_person': 28, 'deferred_income': 'NaN', 'restricted_stock': 1293424, 'from_messages': 92, 'director_fees': 'NaN', 'shared_receipt_with_poi': 2103, 'to_messages': 3187}, {'email_address': 'NaN', 'total_stock_value': 'NaN', 'from_this_person_to_poi': 'NaN', 'long_term_incentive': 'NaN', 'poi': False, 'bonus': 'NaN', 'deferral_payments': 'NaN', 'exercised_stock_options': 'NaN', 'expenses': 'NaN', 'salary': 'NaN', 'restricted_stock_deferred': 'NaN', 'other': 362096, 'loan_advances': 'NaN', 'total_payments': 362096, 'from_poi_to_this_person': 'NaN', 'deferred_income': 'NaN', 'restricted_stock': 'NaN', 'from_messages': 'NaN', 'director_fees': 'NaN', 'shared_receipt_with_poi': 'NaN', 'to_messages': 'NaN'}, {'email_address': 'w.duran@enron.com', 'total_stock_value': 1640910, 'from_this_person_to_poi': 3, 'long_term_incentive': 1105218, 'poi': False, 'bonus': 750000, 'deferral_payments': 'NaN', 'exercised_stock_options': 1451869, 'expenses': 25785, 'salary': 210692, 'restricted_stock_deferred': 'NaN', 'other': 1568, 'loan_advances': 'NaN', 'total_payments': 2093263, 'from_poi_to_this_person': 106, 'deferred_income': 'NaN', 'restricted_stock': 189041, 'from_messages': 12, 'director_fees': 'NaN', 'shared_receipt_with_poi': 599, 'to_messages': 904}, {'email_address': 'NaN', 'total_stock_value': 'NaN', 'from_this_person_to_poi': 'NaN', 'long_term_incentive': 'NaN', 'poi': False, 'bonus': 'NaN', 'deferral_payments': 'NaN', 'exercised_stock_options': 'NaN', 'expenses': 'NaN', 'salary': 'NaN', 'restricted_stock_deferred': -32460, 'other': 'NaN', 'loan_advances': 'NaN', 'total_payments': 'NaN', 'from_poi_to_this_person': 'NaN', 'deferred_income': -98784, 'restricted_stock': 32460, 'from_messages': 'NaN', 'director_fees': 98784, 'shared_receipt_with_poi': 'NaN', 'to_messages': 'NaN'}, {'email_address': 'rod.hayslett@enron.com', 'total_stock_value': 346663, 'from_this_person_to_poi': 38, 'long_term_incentive': 'NaN', 'poi': False, 'bonus': 'NaN', 'deferral_payments': 'NaN', 'exercised_stock_options': 'NaN', 'expenses': 'NaN', 'salary': 'NaN', 'restricted_stock_deferred': 'NaN', 'other': 'NaN', 'loan_advances': 'NaN', 'total_payments': 'NaN', 'from_poi_to_this_person': 35, 'deferred_income': 'NaN', 'restricted_stock': 346663, 'from_messages': 1061, 'director_fees': 'NaN', 'shared_receipt_with_poi': 571, 'to_messages': 2649}, {'email_address': 'tim.belden@enron.com', 'total_stock_value': 1110705, 'from_this_person_to_poi': 108, 'long_term_incentive': 'NaN', 'poi': True, 'bonus': 5249999, 'deferral_payments': 2144013, 'exercised_stock_options': 953136, 'expenses': 17355, 'salary': 213999, 'restricted_stock_deferred': 'NaN', 'other': 210698, 'loan_advances': 'NaN', 'total_payments': 5501630, 'from_poi_to_this_person': 228, 'deferred_income': -2334434, 'restricted_stock': 157569, 'from_messages': 484, 'director_fees': 'NaN', 'shared_receipt_with_poi': 5521, 'to_messages': 7991}, {'email_address': 'kevin.garland@enron.com', 'total_stock_value': 896153, 'from_this_person_to_poi': 27, 'long_term_incentive': 375304, 'poi': False, 'bonus': 850000, 'deferral_payments': 'NaN', 'exercised_stock_options': 636246, 'expenses': 48405, 'salary': 231946, 'restricted_stock_deferred': 'NaN', 'other': 60814, 'loan_advances': 'NaN', 'total_payments': 1566469, 'from_poi_to_this_person': 10, 'deferred_income': 'NaN', 'restricted_stock': 259907, 'from_messages': 44, 'director_fees': 'NaN', 'shared_receipt_with_poi': 178, 'to_messages': 209}, {'email_address': 's..muller@enron.com', 'total_stock_value': 1416848, 'from_this_person_to_poi': 0, 'long_term_incentive': 1725545, 'poi': False, 'bonus': 1100000, 'deferral_payments': 842924, 'exercised_stock_options': 1056320, 'expenses': 'NaN', 'salary': 251654, 'restricted_stock_deferred': 'NaN', 'other': 947, 'loan_advances': 'NaN', 'total_payments': 3202070, 'from_poi_to_this_person': 12, 'deferred_income': -719000, 'restricted_stock': 360528, 'from_messages': 16, 'director_fees': 'NaN', 'shared_receipt_with_poi': 114, 'to_messages': 136}, {'email_address': 'joe.hirko@enron.com', 'total_stock_value': 30766064, 'from_this_person_to_poi': 'NaN', 'long_term_incentive': 'NaN', 'poi': True, 'bonus': 'NaN', 'deferral_payments': 10259, 'exercised_stock_options': 30766064, 'expenses': 77978, 'salary': 'NaN', 'restricted_stock_deferred': 'NaN', 'other': 2856, 'loan_advances': 'NaN', 'total_payments': 91093, 'from_poi_to_this_person': 'NaN', 'deferred_income': 'NaN', 'restricted_stock': 'NaN', 'from_messages': 'NaN', 'director_fees': 'NaN', 'shared_receipt_with_poi': 'NaN', 'to_messages': 'NaN'}, {'email_address': 'vicki.sharp@enron.com', 'total_stock_value': 494136, 'from_this_person_to_poi': 6, 'long_term_incentive': 422158, 'poi': False, 'bonus': 600000, 'deferral_payments': 187469, 'exercised_stock_options': 281073, 'expenses': 116337, 'salary': 248146, 'restricted_stock_deferred': 'NaN', 'other': 2401, 'loan_advances': 'NaN', 'total_payments': 1576511, 'from_poi_to_this_person': 24, 'deferred_income': 'NaN', 'restricted_stock': 213063, 'from_messages': 136, 'director_fees': 'NaN', 'shared_receipt_with_poi': 2477, 'to_messages': 3136}, {'email_address': 'julia.murray@enron.com', 'total_stock_value': 597461, 'from_this_person_to_poi': 2, 'long_term_incentive': 125000, 'poi': False, 'bonus': 400000, 'deferral_payments': 'NaN', 'exercised_stock_options': 400478, 'expenses': 57580, 'salary': 229284, 'restricted_stock_deferred': 'NaN', 'other': 330, 'loan_advances': 'NaN', 'total_payments': 812194, 'from_poi_to_this_person': 11, 'deferred_income': 'NaN', 'restricted_stock': 196983, 'from_messages': 45, 'director_fees': 'NaN', 'shared_receipt_with_poi': 395, 'to_messages': 2192}, {'email_address': 'NaN', 'total_stock_value': 372205, 'from_this_person_to_poi': 'NaN', 'long_term_incentive': 'NaN', 'poi': False, 'bonus': 'NaN', 'deferral_payments': 'NaN', 'exercised_stock_options': 372205, 'expenses': 'NaN', 'salary': 'NaN', 'restricted_stock_deferred': -153686, 'other': 'NaN', 'loan_advances': 'NaN', 'total_payments': 'NaN', 'from_poi_to_this_person': 'NaN', 'deferred_income': 'NaN', 'restricted_stock': 153686, 'from_messages': 'NaN', 'director_fees': 'NaN', 'shared_receipt_with_poi': 'NaN', 'to_messages': 'NaN'}, {'email_address': 'NaN', 'total_stock_value': 192758, 'from_this_person_to_poi': 'NaN', 'long_term_incentive': 'NaN', 'poi': False, 'bonus': 'NaN', 'deferral_payments': 'NaN', 'exercised_stock_options': 192758, 'expenses': 55097, 'salary': 'NaN', 'restricted_stock_deferred': 'NaN', 'other': 'NaN', 'loan_advances': 'NaN', 'total_payments': 55097, 'from_poi_to_this_person': 'NaN', 'deferred_income': 'NaN', 'restricted_stock': 'NaN', 'from_messages': 'NaN', 'director_fees': 'NaN', 'shared_receipt_with_poi': 'NaN', 'to_messages': 'NaN'}, {'email_address': 'NaN', 'total_stock_value': -44093, 'from_this_person_to_poi': 'NaN', 'long_term_incentive': 'NaN', 'poi': False, 'bonus': 'NaN', 'deferral_payments': -102500, 'exercised_stock_options': 3285, 'expenses': 'NaN', 'salary': 'NaN', 'restricted_stock_deferred': 44093, 'other': 'NaN', 'loan_advances': 'NaN', 'total_payments': 102500, 'from_poi_to_this_person': 'NaN', 'deferred_income': 'NaN', 'restricted_stock': 'NaN', 'from_messages': 'NaN', 'director_fees': 3285, 'shared_receipt_with_poi': 'NaN', 'to_messages': 'NaN'}, {'email_address': 'robert.hayes@enron.com', 'total_stock_value': 151418, 'from_this_person_to_poi': 0, 'long_term_incentive': 'NaN', 'poi': False, 'bonus': 'NaN', 'deferral_payments': 7961, 'exercised_stock_options': 'NaN', 'expenses': 'NaN', 'salary': 'NaN', 'restricted_stock_deferred': 'NaN', 'other': 'NaN', 'loan_advances': 'NaN', 'total_payments': 7961, 'from_poi_to_this_person': 16, 'deferred_income': 'NaN', 'restricted_stock': 151418, 'from_messages': 12, 'director_fees': 'NaN', 'shared_receipt_with_poi': 50, 'to_messages': 504}, {'email_address': 'bill.cordes@enron.com', 'total_stock_value': 1038185, 'from_this_person_to_poi': 0, 'long_term_incentive': 'NaN', 'poi': False, 'bonus': 'NaN', 'deferral_payments': 'NaN', 'exercised_stock_options': 651850, 'expenses': 'NaN', 'salary': 'NaN', 'restricted_stock_deferred': 'NaN', 'other': 'NaN', 'loan_advances': 'NaN', 'total_payments': 'NaN', 'from_poi_to_this_person': 10, 'deferred_income': 'NaN', 'restricted_stock': 386335, 'from_messages': 12, 'director_fees': 'NaN', 'shared_receipt_with_poi': 58, 'to_messages': 764}, {'email_address': 'NaN', 'total_stock_value': 257817, 'from_this_person_to_poi': 'NaN', 'long_term_incentive': 'NaN', 'poi': False, 'bonus': 'NaN', 'deferral_payments': 178980, 'exercised_stock_options': 257817, 'expenses': 3486, 'salary': 'NaN', 'restricted_stock_deferred': 'NaN', 'other': 'NaN', 'loan_advances': 'NaN', 'total_payments': 182466, 'from_poi_to_this_person': 'NaN', 'deferred_income': 'NaN', 'restricted_stock': 'NaN', 'from_messages': 'NaN', 'director_fees': 'NaN', 'shared_receipt_with_poi': 'NaN', 'to_messages': 'NaN'}, {'email_address': 'sally.beck@enron.com', 'total_stock_value': 126027, 'from_this_person_to_poi': 386, 'long_term_incentive': 'NaN', 'poi': False, 'bonus': 700000, 'deferral_payments': 'NaN', 'exercised_stock_options': 'NaN', 'expenses': 37172, 'salary': 231330, 'restricted_stock_deferred': 'NaN', 'other': 566, 'loan_advances': 'NaN', 'total_payments': 969068, 'from_poi_to_this_person': 144, 'deferred_income': 'NaN', 'restricted_stock': 126027, 'from_messages': 4343, 'director_fees': 'NaN', 'shared_receipt_with_poi': 2639, 'to_messages': 7315}, {'email_address': 'charlene.jackson@enron.com', 'total_stock_value': 725735, 'from_this_person_to_poi': 19, 'long_term_incentive': 'NaN', 'poi': False, 'bonus': 250000, 'deferral_payments': 'NaN', 'exercised_stock_options': 185063, 'expenses': 10181, 'salary': 288558, 'restricted_stock_deferred': 'NaN', 'other': 2435, 'loan_advances': 'NaN', 'total_payments': 551174, 'from_poi_to_this_person': 25, 'deferred_income': 'NaN', 'restricted_stock': 540672, 'from_messages': 56, 'director_fees': 'NaN', 'shared_receipt_with_poi': 117, 'to_messages': 258}, {'email_address': 'diomedes.christodoulou@enron.com', 'total_stock_value': 6077885, 'from_this_person_to_poi': 'NaN', 'long_term_incentive': 'NaN', 'poi': False, 'bonus': 'NaN', 'deferral_payments': 'NaN', 'exercised_stock_options': 5127155, 'expenses': 'NaN', 'salary': 'NaN', 'restricted_stock_deferred': 'NaN', 'other': 'NaN', 'loan_advances': 'NaN', 'total_payments': 'NaN', 'from_poi_to_this_person': 'NaN', 'deferred_income': 'NaN', 'restricted_stock': 950730, 'from_messages': 'NaN', 'director_fees': 'NaN', 'shared_receipt_with_poi': 'NaN', 'to_messages': 'NaN'}, {'email_address': 'george.mcclellan@enron.com', 'total_stock_value': 947861, 'from_this_person_to_poi': 0, 'long_term_incentive': 'NaN', 'poi': False, 'bonus': 900000, 'deferral_payments': 'NaN', 'exercised_stock_options': 506765, 'expenses': 228763, 'salary': 263413, 'restricted_stock_deferred': 'NaN', 'other': 51587, 'loan_advances': 'NaN', 'total_payments': 1318763, 'from_poi_to_this_person': 52, 'deferred_income': -125000, 'restricted_stock': 441096, 'from_messages': 49, 'director_fees': 'NaN', 'shared_receipt_with_poi': 1469, 'to_messages': 1744}, {'email_address': 'louise.kitchen@enron.com', 'total_stock_value': 547143, 'from_this_person_to_poi': 194, 'long_term_incentive': 'NaN', 'poi': False, 'bonus': 3100000, 'deferral_payments': 'NaN', 'exercised_stock_options': 81042, 'expenses': 5774, 'salary': 271442, 'restricted_stock_deferred': 'NaN', 'other': 93925, 'loan_advances': 'NaN', 'total_payments': 3471141, 'from_poi_to_this_person': 251, 'deferred_income': 'NaN', 'restricted_stock': 466101, 'from_messages': 1728, 'director_fees': 'NaN', 'shared_receipt_with_poi': 3669, 'to_messages': 8305}, {'email_address': 'jeffrey.shankman@enron.com', 'total_stock_value': 2072035, 'from_this_person_to_poi': 83, 'long_term_incentive': 554422, 'poi': False, 'bonus': 2000000, 'deferral_payments': 'NaN', 'exercised_stock_options': 1441898, 'expenses': 178979, 'salary': 304110, 'restricted_stock_deferred': 'NaN', 'other': 1191, 'loan_advances': 'NaN', 'total_payments': 3038702, 'from_poi_to_this_person': 94, 'deferred_income': 'NaN', 'restricted_stock': 630137, 'from_messages': 2681, 'director_fees': 'NaN', 'shared_receipt_with_poi': 1730, 'to_messages': 3221}, {'email_address': 'NaN', 'total_stock_value': 189518, 'from_this_person_to_poi': 'NaN', 'long_term_incentive': 'NaN', 'poi': False, 'bonus': 'NaN', 'deferral_payments': 'NaN', 'exercised_stock_options': 'NaN', 'expenses': 'NaN', 'salary': 'NaN', 'restricted_stock_deferred': -472568, 'other': 'NaN', 'loan_advances': 'NaN', 'total_payments': 'NaN', 'from_poi_to_this_person': 'NaN', 'deferred_income': 'NaN', 'restricted_stock': 662086, 'from_messages': 'NaN', 'director_fees': 'NaN', 'shared_receipt_with_poi': 'NaN', 'to_messages': 'NaN'}, {'email_address': 'david.delainey@enron.com', 'total_stock_value': 3614261, 'from_this_person_to_poi': 609, 'long_term_incentive': 1294981, 'poi': True, 'bonus': 3000000, 'deferral_payments': 'NaN', 'exercised_stock_options': 2291113, 'expenses': 86174, 'salary': 365163, 'restricted_stock_deferred': 'NaN', 'other': 1661, 'loan_advances': 'NaN', 'total_payments': 4747979, 'from_poi_to_this_person': 66, 'deferred_income': 'NaN', 'restricted_stock': 1323148, 'from_messages': 3069, 'director_fees': 'NaN', 'shared_receipt_with_poi': 2097, 'to_messages': 3093}, {'email_address': 'ken.rice@enron.com', 'total_stock_value': 22542539, 'from_this_person_to_poi': 4, 'long_term_incentive': 1617011, 'poi': True, 'bonus': 1750000, 'deferral_payments': 'NaN', 'exercised_stock_options': 19794175, 'expenses': 46950, 'salary': 420636, 'restricted_stock_deferred': 'NaN', 'other': 174839, 'loan_advances': 'NaN', 'total_payments': 505050, 'from_poi_to_this_person': 42, 'deferred_income': -3504386, 'restricted_stock': 2748364, 'from_messages': 18, 'director_fees': 'NaN', 'shared_receipt_with_poi': 864, 'to_messages': 905}, {'email_address': 'george.wasaff@enron.com', 'total_stock_value': 2056427, 'from_this_person_to_poi': 7, 'long_term_incentive': 200000, 'poi': False, 'bonus': 325000, 'deferral_payments': 831299, 'exercised_stock_options': 1668260, 'expenses': 'NaN', 'salary': 259996, 'restricted_stock_deferred': 'NaN', 'other': 1425, 'loan_advances': 'NaN', 'total_payments': 1034395, 'from_poi_to_this_person': 22, 'deferred_income': -583325, 'restricted_stock': 388167, 'from_messages': 30, 'director_fees': 'NaN', 'shared_receipt_with_poi': 337, 'to_messages': 400}, {'email_address': 'cindy.olson@enron.com', 'total_stock_value': 2606763, 'from_this_person_to_poi': 15, 'long_term_incentive': 100000, 'poi': False, 'bonus': 750000, 'deferral_payments': 77716, 'exercised_stock_options': 1637034, 'expenses': 63791, 'salary': 329078, 'restricted_stock_deferred': 'NaN', 'other': 972, 'loan_advances': 'NaN', 'total_payments': 1321557, 'from_poi_to_this_person': 20, 'deferred_income': 'NaN', 'restricted_stock': 969729, 'from_messages': 52, 'director_fees': 'NaN', 'shared_receipt_with_poi': 856, 'to_messages': 1184}, {'email_address': 'dana.gibbs@enron.com', 'total_stock_value': 2218275, 'from_this_person_to_poi': 0, 'long_term_incentive': 461912, 'poi': False, 'bonus': 'NaN', 'deferral_payments': 504610, 'exercised_stock_options': 2218275, 'expenses': 'NaN', 'salary': 'NaN', 'restricted_stock_deferred': 'NaN', 'other': 'NaN', 'loan_advances': 'NaN', 'total_payments': 966522, 'from_poi_to_this_person': 0, 'deferred_income': 'NaN', 'restricted_stock': 'NaN', 'from_messages': 12, 'director_fees': 'NaN', 'shared_receipt_with_poi': 23, 'to_messages': 169}, {'email_address': 'kristina.mordaunt@enron.com', 'total_stock_value': 208510, 'from_this_person_to_poi': 'NaN', 'long_term_incentive': 'NaN', 'poi': False, 'bonus': 325000, 'deferral_payments': 'NaN', 'exercised_stock_options': 'NaN', 'expenses': 35018, 'salary': 267093, 'restricted_stock_deferred': 'NaN', 'other': 1411, 'loan_advances': 'NaN', 'total_payments': 628522, 'from_poi_to_this_person': 'NaN', 'deferred_income': 'NaN', 'restricted_stock': 208510, 'from_messages': 'NaN', 'director_fees': 'NaN', 'shared_receipt_with_poi': 'NaN', 'to_messages': 'NaN'}, {'email_address': 'john.lavorato@enron.com', 'total_stock_value': 5167144, 'from_this_person_to_poi': 411, 'long_term_incentive': 2035380, 'poi': False, 'bonus': 8000000, 'deferral_payments': 'NaN', 'exercised_stock_options': 4158995, 'expenses': 49537, 'salary': 339288, 'restricted_stock_deferred': 'NaN', 'other': 1552, 'loan_advances': 'NaN', 'total_payments': 10425757, 'from_poi_to_this_person': 528, 'deferred_income': 'NaN', 'restricted_stock': 1008149, 'from_messages': 2585, 'director_fees': 'NaN', 'shared_receipt_with_poi': 3962, 'to_messages': 7259}, {'email_address': 'janet.dietrich@enron.com', 'total_stock_value': 1865087, 'from_this_person_to_poi': 14, 'long_term_incentive': 556416, 'poi': False, 'bonus': 600000, 'deferral_payments': 'NaN', 'exercised_stock_options': 1550019, 'expenses': 3475, 'salary': 250100, 'restricted_stock_deferred': 'NaN', 'other': 473, 'loan_advances': 'NaN', 'total_payments': 1410464, 'from_poi_to_this_person': 305, 'deferred_income': 'NaN', 'restricted_stock': 315068, 'from_messages': 63, 'director_fees': 'NaN', 'shared_receipt_with_poi': 1902, 'to_messages': 2572}, {'email_address': 'mitchell.taylor@enron.com', 'total_stock_value': 3745048, 'from_this_person_to_poi': 0, 'long_term_incentive': 'NaN', 'poi': False, 'bonus': 600000, 'deferral_payments': 227449, 'exercised_stock_options': 3181250, 'expenses': 'NaN', 'salary': 265214, 'restricted_stock_deferred': 'NaN', 'other': 'NaN', 'loan_advances': 'NaN', 'total_payments': 1092663, 'from_poi_to_this_person': 0, 'deferred_income': 'NaN', 'restricted_stock': 563798, 'from_messages': 29, 'director_fees': 'NaN', 'shared_receipt_with_poi': 300, 'to_messages': 533}, {'email_address': 'richard.shapiro@enron.com', 'total_stock_value': 987001, 'from_this_person_to_poi': 65, 'long_term_incentive': 'NaN', 'poi': False, 'bonus': 650000, 'deferral_payments': 'NaN', 'exercised_stock_options': 607837, 'expenses': 137767, 'salary': 269076, 'restricted_stock_deferred': 'NaN', 'other': 705, 'loan_advances': 'NaN', 'total_payments': 1057548, 'from_poi_to_this_person': 74, 'deferred_income': 'NaN', 'restricted_stock': 379164, 'from_messages': 1215, 'director_fees': 'NaN', 'shared_receipt_with_poi': 4527, 'to_messages': 15149}, {'email_address': 'NaN', 'total_stock_value': 'NaN', 'from_this_person_to_poi': 'NaN', 'long_term_incentive': 'NaN', 'poi': False, 'bonus': 'NaN', 'deferral_payments': 'NaN', 'exercised_stock_options': 'NaN', 'expenses': 1279, 'salary': 'NaN', 'restricted_stock_deferred': 'NaN', 'other': 'NaN', 'loan_advances': 'NaN', 'total_payments': 1279, 'from_poi_to_this_person': 'NaN', 'deferred_income': -113784, 'restricted_stock': 'NaN', 'from_messages': 'NaN', 'director_fees': 113784, 'shared_receipt_with_poi': 'NaN', 'to_messages': 'NaN'}, {'email_address': 'marty.sunde@enron.com', 'total_stock_value': 698920, 'from_this_person_to_poi': 13, 'long_term_incentive': 476451, 'poi': False, 'bonus': 700000, 'deferral_payments': 'NaN', 'exercised_stock_options': 'NaN', 'expenses': 'NaN', 'salary': 257486, 'restricted_stock_deferred': 'NaN', 'other': 111122, 'loan_advances': 'NaN', 'total_payments': 1545059, 'from_poi_to_this_person': 37, 'deferred_income': 'NaN', 'restricted_stock': 698920, 'from_messages': 38, 'director_fees': 'NaN', 'shared_receipt_with_poi': 2565, 'to_messages': 2647}, {'email_address': 'mark.frevert@enron.com', 'total_stock_value': 14622185, 'from_this_person_to_poi': 6, 'long_term_incentive': 1617011, 'poi': False, 'bonus': 2000000, 'deferral_payments': 6426990, 'exercised_stock_options': 10433518, 'expenses': 86987, 'salary': 1060932, 'restricted_stock_deferred': 'NaN', 'other': 7427621, 'loan_advances': 2000000, 'total_payments': 17252530, 'from_poi_to_this_person': 242, 'deferred_income': -3367011, 'restricted_stock': 4188667, 'from_messages': 21, 'director_fees': 'NaN', 'shared_receipt_with_poi': 2979, 'to_messages': 3275}, {'email_address': 'john.wodraska@enron.com', 'total_stock_value': 'NaN', 'from_this_person_to_poi': 'NaN', 'long_term_incentive': 'NaN', 'poi': False, 'bonus': 'NaN', 'deferral_payments': 'NaN', 'exercised_stock_options': 'NaN', 'expenses': 'NaN', 'salary': 'NaN', 'restricted_stock_deferred': 'NaN', 'other': 189583, 'loan_advances': 'NaN', 'total_payments': 189583, 'from_poi_to_this_person': 'NaN', 'deferred_income': 'NaN', 'restricted_stock': 'NaN', 'from_messages': 'NaN', 'director_fees': 'NaN', 'shared_receipt_with_poi': 'NaN', 'to_messages': 'NaN'}, {'email_address': 'james.hughes@enron.com', 'total_stock_value': 1118394, 'from_this_person_to_poi': 5, 'long_term_incentive': 'NaN', 'poi': False, 'bonus': 'NaN', 'deferral_payments': 'NaN', 'exercised_stock_options': 754966, 'expenses': 'NaN', 'salary': 'NaN', 'restricted_stock_deferred': 'NaN', 'other': 'NaN', 'loan_advances': 'NaN', 'total_payments': 'NaN', 'from_poi_to_this_person': 35, 'deferred_income': 'NaN', 'restricted_stock': 363428, 'from_messages': 34, 'director_fees': 'NaN', 'shared_receipt_with_poi': 589, 'to_messages': 719}, {'email_address': 'michael.brown@enron.com', 'total_stock_value': 'NaN', 'from_this_person_to_poi': 1, 'long_term_incentive': 'NaN', 'poi': False, 'bonus': 'NaN', 'deferral_payments': 'NaN', 'exercised_stock_options': 'NaN', 'expenses': 49288, 'salary': 'NaN', 'restricted_stock_deferred': 'NaN', 'other': 'NaN', 'loan_advances': 'NaN', 'total_payments': 49288, 'from_poi_to_this_person': 13, 'deferred_income': 'NaN', 'restricted_stock': 'NaN', 'from_messages': 41, 'director_fees': 'NaN', 'shared_receipt_with_poi': 761, 'to_messages': 1486}, {'email_address': 'gene.humphrey@enron.com', 'total_stock_value': 2282768, 'from_this_person_to_poi': 17, 'long_term_incentive': 'NaN', 'poi': False, 'bonus': 'NaN', 'deferral_payments': 2964506, 'exercised_stock_options': 2282768, 'expenses': 4994, 'salary': 130724, 'restricted_stock_deferred': 'NaN', 'other': 'NaN', 'loan_advances': 'NaN', 'total_payments': 3100224, 'from_poi_to_this_person': 10, 'deferred_income': 'NaN', 'restricted_stock': 'NaN', 'from_messages': 17, 'director_fees': 'NaN', 'shared_receipt_with_poi': 119, 'to_messages': 128}, {'email_address': 'james.derrick@enron.com', 'total_stock_value': 8831913, 'from_this_person_to_poi': 20, 'long_term_incentive': 484000, 'poi': False, 'bonus': 800000, 'deferral_payments': 'NaN', 'exercised_stock_options': 8831913, 'expenses': 51124, 'salary': 492375, 'restricted_stock_deferred': -1787380, 'other': 7482, 'loan_advances': 'NaN', 'total_payments': 550981, 'from_poi_to_this_person': 64, 'deferred_income': -1284000, 'restricted_stock': 1787380, 'from_messages': 909, 'director_fees': 'NaN', 'shared_receipt_with_poi': 1401, 'to_messages': 2181}, {'email_address': 'dan.leff@enron.com', 'total_stock_value': 360528, 'from_this_person_to_poi': 14, 'long_term_incentive': 1387399, 'poi': False, 'bonus': 1000000, 'deferral_payments': 'NaN', 'exercised_stock_options': 'NaN', 'expenses': 'NaN', 'salary': 273746, 'restricted_stock_deferred': 'NaN', 'other': 3083, 'loan_advances': 'NaN', 'total_payments': 2664228, 'from_poi_to_this_person': 67, 'deferred_income': 'NaN', 'restricted_stock': 360528, 'from_messages': 63, 'director_fees': 'NaN', 'shared_receipt_with_poi': 2672, 'to_messages': 2822}, {'email_address': 'stanley.horton@enron.com', 'total_stock_value': 7256648, 'from_this_person_to_poi': 15, 'long_term_incentive': 'NaN', 'poi': False, 'bonus': 'NaN', 'deferral_payments': 3131860, 'exercised_stock_options': 5210569, 'expenses': 'NaN', 'salary': 'NaN', 'restricted_stock_deferred': 'NaN', 'other': 'NaN', 'loan_advances': 'NaN', 'total_payments': 3131860, 'from_poi_to_this_person': 44, 'deferred_income': 'NaN', 'restricted_stock': 2046079, 'from_messages': 1073, 'director_fees': 'NaN', 'shared_receipt_with_poi': 1074, 'to_messages': 2350}, {'email_address': 'ken.powers@enron.com', 'total_stock_value': 'NaN', 'from_this_person_to_poi': 0, 'long_term_incentive': 'NaN', 'poi': False, 'bonus': 'NaN', 'deferral_payments': 'NaN', 'exercised_stock_options': 'NaN', 'expenses': 'NaN', 'salary': 'NaN', 'restricted_stock_deferred': 'NaN', 'other': 'NaN', 'loan_advances': 'NaN', 'total_payments': 'NaN', 'from_poi_to_this_person': 0, 'deferred_income': -17500, 'restricted_stock': 'NaN', 'from_messages': 26, 'director_fees': 17500, 'shared_receipt_with_poi': 12, 'to_messages': 653}, {'email_address': 'jay.fitzgerald@enron.com', 'total_stock_value': 1621236, 'from_this_person_to_poi': 8, 'long_term_incentive': 556416, 'poi': False, 'bonus': 350000, 'deferral_payments': 'NaN', 'exercised_stock_options': 664461, 'expenses': 23870, 'salary': 199157, 'restricted_stock_deferred': 'NaN', 'other': 285414, 'loan_advances': 'NaN', 'total_payments': 1414857, 'from_poi_to_this_person': 1, 'deferred_income': 'NaN', 'restricted_stock': 956775, 'from_messages': 16, 'director_fees': 'NaN', 'shared_receipt_with_poi': 723, 'to_messages': 936}, {'email_address': 'richard.dimichele@enron.com', 'total_stock_value': 8317782, 'from_this_person_to_poi': 'NaN', 'long_term_incentive': 694862, 'poi': False, 'bonus': 1000000, 'deferral_payments': 'NaN', 'exercised_stock_options': 8191755, 'expenses': 35812, 'salary': 262788, 'restricted_stock_deferred': 'NaN', 'other': 374689, 'loan_advances': 'NaN', 'total_payments': 2368151, 'from_poi_to_this_person': 'NaN', 'deferred_income': 'NaN', 'restricted_stock': 126027, 'from_messages': 'NaN', 'director_fees': 'NaN', 'shared_receipt_with_poi': 'NaN', 'to_messages': 'NaN'}, {'email_address': 'NaN', 'total_stock_value': 4221891, 'from_this_person_to_poi': 'NaN', 'long_term_incentive': 156250, 'poi': False, 'bonus': 100000, 'deferral_payments': 51365, 'exercised_stock_options': 4160672, 'expenses': 8409, 'salary': 76399, 'restricted_stock_deferred': -140264, 'other': 202052, 'loan_advances': 'NaN', 'total_payments': 394475, 'from_poi_to_this_person': 'NaN', 'deferred_income': -200000, 'restricted_stock': 201483, 'from_messages': 'NaN', 'director_fees': 'NaN', 'shared_receipt_with_poi': 'NaN', 'to_messages': 'NaN'}, {'email_address': 'NaN', 'total_stock_value': 10623258, 'from_this_person_to_poi': 'NaN', 'long_term_incentive': 1586055, 'poi': False, 'bonus': 1200000, 'deferral_payments': 1295738, 'exercised_stock_options': 6680544, 'expenses': 11200, 'salary': 267102, 'restricted_stock_deferred': 'NaN', 'other': 2660303, 'loan_advances': 'NaN', 'total_payments': 5634343, 'from_poi_to_this_person': 'NaN', 'deferred_income': -1386055, 'restricted_stock': 3942714, 'from_messages': 'NaN', 'director_fees': 'NaN', 'shared_receipt_with_poi': 'NaN', 'to_messages': 'NaN'}, {'email_address': 'joe.gold@enron.com', 'total_stock_value': 877611, 'from_this_person_to_poi': 'NaN', 'long_term_incentive': 304805, 'poi': False, 'bonus': 750000, 'deferral_payments': 'NaN', 'exercised_stock_options': 436515, 'expenses': 'NaN', 'salary': 272880, 'restricted_stock_deferred': 'NaN', 'other': 819288, 'loan_advances': 'NaN', 'total_payments': 2146973, 'from_poi_to_this_person': 'NaN', 'deferred_income': 'NaN', 'restricted_stock': 441096, 'from_messages': 'NaN', 'director_fees': 'NaN', 'shared_receipt_with_poi': 'NaN', 'to_messages': 'NaN'}, {'email_address': 'brian.redmond@enron.com', 'total_stock_value': 7890324, 'from_this_person_to_poi': 49, 'long_term_incentive': 'NaN', 'poi': False, 'bonus': 'NaN', 'deferral_payments': 'NaN', 'exercised_stock_options': 7509039, 'expenses': 14689, 'salary': 96840, 'restricted_stock_deferred': 'NaN', 'other': 'NaN', 'loan_advances': 'NaN', 'total_payments': 111529, 'from_poi_to_this_person': 204, 'deferred_income': 'NaN', 'restricted_stock': 381285, 'from_messages': 221, 'director_fees': 'NaN', 'shared_receipt_with_poi': 1063, 'to_messages': 1671}, {'email_address': 'michael.kopper@enron.com', 'total_stock_value': 985032, 'from_this_person_to_poi': 'NaN', 'long_term_incentive': 602671, 'poi': True, 'bonus': 800000, 'deferral_payments': 'NaN', 'exercised_stock_options': 'NaN', 'expenses': 118134, 'salary': 224305, 'restricted_stock_deferred': 'NaN', 'other': 907502, 'loan_advances': 'NaN', 'total_payments': 2652612, 'from_poi_to_this_person': 'NaN', 'deferred_income': 'NaN', 'restricted_stock': 985032, 'from_messages': 'NaN', 'director_fees': 'NaN', 'shared_receipt_with_poi': 'NaN', 'to_messages': 'NaN'}, {'email_address': 'mark.metts@enron.com', 'total_stock_value': 585062, 'from_this_person_to_poi': 1, 'long_term_incentive': 'NaN', 'poi': False, 'bonus': 600000, 'deferral_payments': 'NaN', 'exercised_stock_options': 'NaN', 'expenses': 94299, 'salary': 365788, 'restricted_stock_deferred': 'NaN', 'other': 1740, 'loan_advances': 'NaN', 'total_payments': 1061827, 'from_poi_to_this_person': 38, 'deferred_income': 'NaN', 'restricted_stock': 585062, 'from_messages': 29, 'director_fees': 'NaN', 'shared_receipt_with_poi': 702, 'to_messages': 807}, {'email_address': 'jere.overdyke@enron.com', 'total_stock_value': 7307594, 'from_this_person_to_poi': 'NaN', 'long_term_incentive': 135836, 'poi': False, 'bonus': 'NaN', 'deferral_payments': 'NaN', 'exercised_stock_options': 5266578, 'expenses': 18834, 'salary': 94941, 'restricted_stock_deferred': 'NaN', 'other': 176, 'loan_advances': 'NaN', 'total_payments': 249787, 'from_poi_to_this_person': 'NaN', 'deferred_income': 'NaN', 'restricted_stock': 2041016, 'from_messages': 'NaN', 'director_fees': 'NaN', 'shared_receipt_with_poi': 'NaN', 'to_messages': 'NaN'}, {'email_address': 'NaN', 'total_stock_value': 207940, 'from_this_person_to_poi': 'NaN', 'long_term_incentive': 275000, 'poi': False, 'bonus': 325000, 'deferral_payments': 'NaN', 'exercised_stock_options': 'NaN', 'expenses': 22344, 'salary': 184899, 'restricted_stock_deferred': 'NaN', 'other': 713, 'loan_advances': 'NaN', 'total_payments': 807956, 'from_poi_to_this_person': 'NaN', 'deferred_income': 'NaN', 'restricted_stock': 207940, 'from_messages': 'NaN', 'director_fees': 'NaN', 'shared_receipt_with_poi': 'NaN', 'to_messages': 'NaN'}, {'email_address': 'ben.glisan@enron.com', 'total_stock_value': 778546, 'from_this_person_to_poi': 6, 'long_term_incentive': 71023, 'poi': True, 'bonus': 600000, 'deferral_payments': 'NaN', 'exercised_stock_options': 384728, 'expenses': 125978, 'salary': 274975, 'restricted_stock_deferred': 'NaN', 'other': 200308, 'loan_advances': 'NaN', 'total_payments': 1272284, 'from_poi_to_this_person': 52, 'deferred_income': 'NaN', 'restricted_stock': 393818, 'from_messages': 16, 'director_fees': 'NaN', 'shared_receipt_with_poi': 874, 'to_messages': 873}, {'email_address': 'rick.bergsieker@enron.com', 'total_stock_value': 659249, 'from_this_person_to_poi': 0, 'long_term_incentive': 180250, 'poi': False, 'bonus': 250000, 'deferral_payments': 'NaN', 'exercised_stock_options': 'NaN', 'expenses': 59175, 'salary': 187922, 'restricted_stock_deferred': 'NaN', 'other': 427316, 'loan_advances': 'NaN', 'total_payments': 618850, 'from_poi_to_this_person': 4, 'deferred_income': -485813, 'restricted_stock': 659249, 'from_messages': 59, 'director_fees': 'NaN', 'shared_receipt_with_poi': 233, 'to_messages': 383}, {'email_address': 'jeffrey.mcmahon@enron.com', 'total_stock_value': 1662855, 'from_this_person_to_poi': 26, 'long_term_incentive': 694862, 'poi': False, 'bonus': 2600000, 'deferral_payments': 'NaN', 'exercised_stock_options': 1104054, 'expenses': 137108, 'salary': 370448, 'restricted_stock_deferred': 'NaN', 'other': 297353, 'loan_advances': 'NaN', 'total_payments': 4099771, 'from_poi_to_this_person': 58, 'deferred_income': 'NaN', 'restricted_stock': 558801, 'from_messages': 48, 'director_fees': 'NaN', 'shared_receipt_with_poi': 2228, 'to_messages': 2355}, {'email_address': 'raymond.bowen@enron.com', 'total_stock_value': 252055, 'from_this_person_to_poi': 15, 'long_term_incentive': 974293, 'poi': True, 'bonus': 1350000, 'deferral_payments': 'NaN', 'exercised_stock_options': 'NaN', 'expenses': 65907, 'salary': 278601, 'restricted_stock_deferred': 'NaN', 'other': 1621, 'loan_advances': 'NaN', 'total_payments': 2669589, 'from_poi_to_this_person': 140, 'deferred_income': -833, 'restricted_stock': 252055, 'from_messages': 27, 'director_fees': 'NaN', 'shared_receipt_with_poi': 1593, 'to_messages': 1858}, {'email_address': 'rex.shelby@enron.com', 'total_stock_value': 2493616, 'from_this_person_to_poi': 14, 'long_term_incentive': 'NaN', 'poi': True, 'bonus': 200000, 'deferral_payments': 'NaN', 'exercised_stock_options': 1624396, 'expenses': 22884, 'salary': 211844, 'restricted_stock_deferred': 'NaN', 'other': 1573324, 'loan_advances': 'NaN', 'total_payments': 2003885, 'from_poi_to_this_person': 13, 'deferred_income': -4167, 'restricted_stock': 869220, 'from_messages': 39, 'director_fees': 'NaN', 'shared_receipt_with_poi': 91, 'to_messages': 225}, {'email_address': 'frank.bay@enron.com', 'total_stock_value': 63014, 'from_this_person_to_poi': 'NaN', 'long_term_incentive': 'NaN', 'poi': False, 'bonus': 400000, 'deferral_payments': 260455, 'exercised_stock_options': 'NaN', 'expenses': 129142, 'salary': 239671, 'restricted_stock_deferred': -82782, 'other': 69, 'loan_advances': 'NaN', 'total_payments': 827696, 'from_poi_to_this_person': 'NaN', 'deferred_income': -201641, 'restricted_stock': 145796, 'from_messages': 'NaN', 'director_fees': 'NaN', 'shared_receipt_with_poi': 'NaN', 'to_messages': 'NaN'}, {'email_address': 'paula.rieker@enron.com', 'total_stock_value': 1918887, 'from_this_person_to_poi': 48, 'long_term_incentive': 'NaN', 'poi': True, 'bonus': 700000, 'deferral_payments': 214678, 'exercised_stock_options': 1635238, 'expenses': 33271, 'salary': 249201, 'restricted_stock_deferred': 'NaN', 'other': 1950, 'loan_advances': 'NaN', 'total_payments': 1099100, 'from_poi_to_this_person': 35, 'deferred_income': -100000, 'restricted_stock': 283649, 'from_messages': 82, 'director_fees': 'NaN', 'shared_receipt_with_poi': 1258, 'to_messages': 1328}, {'email_address': 'phillip.allen@enron.com', 'total_stock_value': 1729541, 'from_this_person_to_poi': 65, 'long_term_incentive': 304805, 'poi': False, 'bonus': 4175000, 'deferral_payments': 2869717, 'exercised_stock_options': 1729541, 'expenses': 13868, 'salary': 201955, 'restricted_stock_deferred': -126027, 'other': 152, 'loan_advances': 'NaN', 'total_payments': 4484442, 'from_poi_to_this_person': 47, 'deferred_income': -3081055, 'restricted_stock': 126027, 'from_messages': 2195, 'director_fees': 'NaN', 'shared_receipt_with_poi': 1407, 'to_messages': 2902}, {'email_address': 'steven.kean@enron.com', 'total_stock_value': 6153642, 'from_this_person_to_poi': 387, 'long_term_incentive': 300000, 'poi': False, 'bonus': 1000000, 'deferral_payments': 'NaN', 'exercised_stock_options': 2022048, 'expenses': 41953, 'salary': 404338, 'restricted_stock_deferred': 'NaN', 'other': 1231, 'loan_advances': 'NaN', 'total_payments': 1747522, 'from_poi_to_this_person': 140, 'deferred_income': 'NaN', 'restricted_stock': 4131594, 'from_messages': 6759, 'director_fees': 'NaN', 'shared_receipt_with_poi': 3639, 'to_messages': 12754}, {'email_address': 'james.prentice@enron.com', 'total_stock_value': 1095040, 'from_this_person_to_poi': 'NaN', 'long_term_incentive': 'NaN', 'poi': False, 'bonus': 'NaN', 'deferral_payments': 564348, 'exercised_stock_options': 886231, 'expenses': 'NaN', 'salary': 'NaN', 'restricted_stock_deferred': 'NaN', 'other': 'NaN', 'loan_advances': 'NaN', 'total_payments': 564348, 'from_poi_to_this_person': 'NaN', 'deferred_income': 'NaN', 'restricted_stock': 208809, 'from_messages': 'NaN', 'director_fees': 'NaN', 'shared_receipt_with_poi': 'NaN', 'to_messages': 'NaN'}, {'email_address': 'john.buchanan@enron.com', 'total_stock_value': 1014505, 'from_this_person_to_poi': 0, 'long_term_incentive': 304805, 'poi': False, 'bonus': 500000, 'deferral_payments': 'NaN', 'exercised_stock_options': 825464, 'expenses': 600, 'salary': 248017, 'restricted_stock_deferred': 'NaN', 'other': 1215, 'loan_advances': 'NaN', 'total_payments': 1054637, 'from_poi_to_this_person': 0, 'deferred_income': 'NaN', 'restricted_stock': 189041, 'from_messages': 125, 'director_fees': 'NaN', 'shared_receipt_with_poi': 23, 'to_messages': 1088}, {'email_address': 'jeffrey.sherrick@enron.com', 'total_stock_value': 1832468, 'from_this_person_to_poi': 18, 'long_term_incentive': 'NaN', 'poi': False, 'bonus': 'NaN', 'deferral_payments': 'NaN', 'exercised_stock_options': 1426469, 'expenses': 'NaN', 'salary': 'NaN', 'restricted_stock_deferred': 'NaN', 'other': 'NaN', 'loan_advances': 'NaN', 'total_payments': 'NaN', 'from_poi_to_this_person': 39, 'deferred_income': 'NaN', 'restricted_stock': 405999, 'from_messages': 25, 'director_fees': 'NaN', 'shared_receipt_with_poi': 583, 'to_messages': 613}, {'email_address': 'david.berberian@enron.com', 'total_stock_value': 2493616, 'from_this_person_to_poi': 'NaN', 'long_term_incentive': 'NaN', 'poi': False, 'bonus': 'NaN', 'deferral_payments': 'NaN', 'exercised_stock_options': 1624396, 'expenses': 11892, 'salary': 216582, 'restricted_stock_deferred': 'NaN', 'other': 'NaN', 'loan_advances': 'NaN', 'total_payments': 228474, 'from_poi_to_this_person': 'NaN', 'deferred_income': 'NaN', 'restricted_stock': 869220, 'from_messages': 'NaN', 'director_fees': 'NaN', 'shared_receipt_with_poi': 'NaN', 'to_messages': 'NaN'}, {'email_address': 'joseph.deffner@enron.com', 'total_stock_value': 159211, 'from_this_person_to_poi': 4, 'long_term_incentive': 335349, 'poi': False, 'bonus': 600000, 'deferral_payments': 'NaN', 'exercised_stock_options': 17378, 'expenses': 41626, 'salary': 206121, 'restricted_stock_deferred': 'NaN', 'other': 25553, 'loan_advances': 'NaN', 'total_payments': 1208649, 'from_poi_to_this_person': 115, 'deferred_income': 'NaN', 'restricted_stock': 141833, 'from_messages': 74, 'director_fees': 'NaN', 'shared_receipt_with_poi': 552, 'to_messages': 714}, {'email_address': 'NaN', 'total_stock_value': 412878, 'from_this_person_to_poi': 'NaN', 'long_term_incentive': 'NaN', 'poi': False, 'bonus': 'NaN', 'deferral_payments': 'NaN', 'exercised_stock_options': 412878, 'expenses': 'NaN', 'salary': 'NaN', 'restricted_stock_deferred': 'NaN', 'other': 'NaN', 'loan_advances': 'NaN', 'total_payments': 87492, 'from_poi_to_this_person': 'NaN', 'deferred_income': -25000, 'restricted_stock': 'NaN', 'from_messages': 'NaN', 'director_fees': 112492, 'shared_receipt_with_poi': 'NaN', 'to_messages': 'NaN'}, {'email_address': 'rebecca.carter@enron.com', 'total_stock_value': 'NaN', 'from_this_person_to_poi': 7, 'long_term_incentive': 75000, 'poi': False, 'bonus': 300000, 'deferral_payments': 'NaN', 'exercised_stock_options': 'NaN', 'expenses': 'NaN', 'salary': 261809, 'restricted_stock_deferred': -307301, 'other': 540, 'loan_advances': 'NaN', 'total_payments': 477557, 'from_poi_to_this_person': 29, 'deferred_income': -159792, 'restricted_stock': 307301, 'from_messages': 15, 'director_fees': 'NaN', 'shared_receipt_with_poi': 196, 'to_messages': 312}, {'email_address': 'vince.kaminski@enron.com', 'total_stock_value': 976037, 'from_this_person_to_poi': 171, 'long_term_incentive': 323466, 'poi': False, 'bonus': 400000, 'deferral_payments': 'NaN', 'exercised_stock_options': 850010, 'expenses': 83585, 'salary': 275101, 'restricted_stock_deferred': 'NaN', 'other': 4669, 'loan_advances': 'NaN', 'total_payments': 1086821, 'from_poi_to_this_person': 41, 'deferred_income': 'NaN', 'restricted_stock': 126027, 'from_messages': 14368, 'director_fees': 'NaN', 'shared_receipt_with_poi': 583, 'to_messages': 4607}, {'email_address': 'NaN', 'total_stock_value': 'NaN', 'from_this_person_to_poi': 'NaN', 'long_term_incentive': 'NaN', 'poi': False, 'bonus': 'NaN', 'deferral_payments': 'NaN', 'exercised_stock_options': 'NaN', 'expenses': 'NaN', 'salary': 'NaN', 'restricted_stock_deferred': 'NaN', 'other': 'NaN', 'loan_advances': 'NaN', 'total_payments': 'NaN', 'from_poi_to_this_person': 'NaN', 'deferred_income': 'NaN', 'restricted_stock': 'NaN', 'from_messages': 'NaN', 'director_fees': 'NaN', 'shared_receipt_with_poi': 'NaN', 'to_messages': 'NaN'}, {'email_address': 'kenneth.lay@enron.com', 'total_stock_value': 49110078, 'from_this_person_to_poi': 16, 'long_term_incentive': 3600000, 'poi': True, 'bonus': 7000000, 'deferral_payments': 202911, 'exercised_stock_options': 34348384, 'expenses': 99832, 'salary': 1072321, 'restricted_stock_deferred': 'NaN', 'other': 10359729, 'loan_advances': 81525000, 'total_payments': 103559793, 'from_poi_to_this_person': 123, 'deferred_income': -300000, 'restricted_stock': 14761694, 'from_messages': 36, 'director_fees': 'NaN', 'shared_receipt_with_poi': 2411, 'to_messages': 4273}, {'email_address': 'NaN', 'total_stock_value': 'NaN', 'from_this_person_to_poi': 'NaN', 'long_term_incentive': 'NaN', 'poi': False, 'bonus': 'NaN', 'deferral_payments': 'NaN', 'exercised_stock_options': 'NaN', 'expenses': 1413, 'salary': 'NaN', 'restricted_stock_deferred': 'NaN', 'other': 'NaN', 'loan_advances': 'NaN', 'total_payments': 84992, 'from_poi_to_this_person': 'NaN', 'deferred_income': -25000, 'restricted_stock': 'NaN', 'from_messages': 'NaN', 'director_fees': 108579, 'shared_receipt_with_poi': 'NaN', 'to_messages': 'NaN'}, {'email_address': 'tracy.foy@enron.com', 'total_stock_value': 343434, 'from_this_person_to_poi': 0, 'long_term_incentive': 'NaN', 'poi': False, 'bonus': 'NaN', 'deferral_payments': 181755, 'exercised_stock_options': 343434, 'expenses': 'NaN', 'salary': 'NaN', 'restricted_stock_deferred': 'NaN', 'other': 'NaN', 'loan_advances': 'NaN', 'total_payments': 181755, 'from_poi_to_this_person': 0, 'deferred_income': 'NaN', 'restricted_stock': 'NaN', 'from_messages': 13, 'director_fees': 'NaN', 'shared_receipt_with_poi': 2, 'to_messages': 57}, {'email_address': 'andrew.fastow@enron.com', 'total_stock_value': 1794412, 'from_this_person_to_poi': 'NaN', 'long_term_incentive': 1736055, 'poi': True, 'bonus': 1300000, 'deferral_payments': 'NaN', 'exercised_stock_options': 'NaN', 'expenses': 55921, 'salary': 440698, 'restricted_stock_deferred': 'NaN', 'other': 277464, 'loan_advances': 'NaN', 'total_payments': 2424083, 'from_poi_to_this_person': 'NaN', 'deferred_income': -1386055, 'restricted_stock': 1794412, 'from_messages': 'NaN', 'director_fees': 'NaN', 'shared_receipt_with_poi': 'NaN', 'to_messages': 'NaN'}, {'email_address': 'NaN', 'total_stock_value': 'NaN', 'from_this_person_to_poi': 'NaN', 'long_term_incentive': 'NaN', 'poi': False, 'bonus': 'NaN', 'deferral_payments': 'NaN', 'exercised_stock_options': 'NaN', 'expenses': 'NaN', 'salary': 'NaN', 'restricted_stock_deferred': 'NaN', 'other': 'NaN', 'loan_advances': 'NaN', 'total_payments': 119292, 'from_poi_to_this_person': 'NaN', 'deferred_income': 'NaN', 'restricted_stock': 'NaN', 'from_messages': 'NaN', 'director_fees': 119292, 'shared_receipt_with_poi': 'NaN', 'to_messages': 'NaN'}, {'email_address': 'mike.mcconnell@enron.com', 'total_stock_value': 3101279, 'from_this_person_to_poi': 194, 'long_term_incentive': 554422, 'poi': False, 'bonus': 1100000, 'deferral_payments': 'NaN', 'exercised_stock_options': 1623010, 'expenses': 81364, 'salary': 365038, 'restricted_stock_deferred': 'NaN', 'other': 540, 'loan_advances': 'NaN', 'total_payments': 2101364, 'from_poi_to_this_person': 92, 'deferred_income': 'NaN', 'restricted_stock': 1478269, 'from_messages': 2742, 'director_fees': 'NaN', 'shared_receipt_with_poi': 2189, 'to_messages': 3329}, {'email_address': 'greg.whalley@enron.com', 'total_stock_value': 6079137, 'from_this_person_to_poi': 24, 'long_term_incentive': 808346, 'poi': False, 'bonus': 3000000, 'deferral_payments': 'NaN', 'exercised_stock_options': 3282960, 'expenses': 57838, 'salary': 510364, 'restricted_stock_deferred': 'NaN', 'other': 301026, 'loan_advances': 'NaN', 'total_payments': 4677574, 'from_poi_to_this_person': 186, 'deferred_income': 'NaN', 'restricted_stock': 2796177, 'from_messages': 556, 'director_fees': 'NaN', 'shared_receipt_with_poi': 3920, 'to_messages': 6019}, {'email_address': 'NaN', 'total_stock_value': 431750, 'from_this_person_to_poi': 'NaN', 'long_term_incentive': 'NaN', 'poi': False, 'bonus': 'NaN', 'deferral_payments': 'NaN', 'exercised_stock_options': 431750, 'expenses': 'NaN', 'salary': 'NaN', 'restricted_stock_deferred': -44093, 'other': 'NaN', 'loan_advances': 'NaN', 'total_payments': 83750, 'from_poi_to_this_person': 'NaN', 'deferred_income': -25000, 'restricted_stock': 44093, 'from_messages': 'NaN', 'director_fees': 108750, 'shared_receipt_with_poi': 'NaN', 'to_messages': 'NaN'}, {'email_address': 'richard.causey@enron.com', 'total_stock_value': 2502063, 'from_this_person_to_poi': 12, 'long_term_incentive': 350000, 'poi': True, 'bonus': 1000000, 'deferral_payments': 'NaN', 'exercised_stock_options': 'NaN', 'expenses': 30674, 'salary': 415189, 'restricted_stock_deferred': 'NaN', 'other': 307895, 'loan_advances': 'NaN', 'total_payments': 1868758, 'from_poi_to_this_person': 58, 'deferred_income': -235000, 'restricted_stock': 2502063, 'from_messages': 49, 'director_fees': 'NaN', 'shared_receipt_with_poi': 1585, 'to_messages': 1892}, {'email_address': 'lou.pai@enron.com', 'total_stock_value': 23817930, 'from_this_person_to_poi': 'NaN', 'long_term_incentive': 'NaN', 'poi': False, 'bonus': 1000000, 'deferral_payments': 'NaN', 'exercised_stock_options': 15364167, 'expenses': 32047, 'salary': 261879, 'restricted_stock_deferred': 'NaN', 'other': 1829457, 'loan_advances': 'NaN', 'total_payments': 3123383, 'from_poi_to_this_person': 'NaN', 'deferred_income': 'NaN', 'restricted_stock': 8453763, 'from_messages': 'NaN', 'director_fees': 'NaN', 'shared_receipt_with_poi': 'NaN', 'to_messages': 'NaN'}, {'email_address': 'james.bannantine@enron.com', 'total_stock_value': 5243487, 'from_this_person_to_poi': 0, 'long_term_incentive': 'NaN', 'poi': False, 'bonus': 'NaN', 'deferral_payments': 'NaN', 'exercised_stock_options': 4046157, 'expenses': 56301, 'salary': 477, 'restricted_stock_deferred': -560222, 'other': 864523, 'loan_advances': 'NaN', 'total_payments': 916197, 'from_poi_to_this_person': 39, 'deferred_income': -5104, 'restricted_stock': 1757552, 'from_messages': 29, 'director_fees': 'NaN', 'shared_receipt_with_poi': 465, 'to_messages': 566}, {'email_address': 'keith.dodson@enron.com', 'total_stock_value': 'NaN', 'from_this_person_to_poi': 3, 'long_term_incentive': 'NaN', 'poi': False, 'bonus': 70000, 'deferral_payments': 'NaN', 'exercised_stock_options': 'NaN', 'expenses': 28164, 'salary': 221003, 'restricted_stock_deferred': 'NaN', 'other': 774, 'loan_advances': 'NaN', 'total_payments': 319941, 'from_poi_to_this_person': 10, 'deferred_income': 'NaN', 'restricted_stock': 'NaN', 'from_messages': 14, 'director_fees': 'NaN', 'shared_receipt_with_poi': 114, 'to_messages': 176}, {'email_address': 'NaN', 'total_stock_value': 176378, 'from_this_person_to_poi': 'NaN', 'long_term_incentive': 'NaN', 'poi': False, 'bonus': 'NaN', 'deferral_payments': 50591, 'exercised_stock_options': 176378, 'expenses': 'NaN', 'salary': 'NaN', 'restricted_stock_deferred': 'NaN', 'other': 'NaN', 'loan_advances': 'NaN', 'total_payments': 50591, 'from_poi_to_this_person': 'NaN', 'deferred_income': 'NaN', 'restricted_stock': 'NaN', 'from_messages': 'NaN', 'director_fees': 'NaN', 'shared_receipt_with_poi': 'NaN', 'to_messages': 'NaN'}, {'email_address': 'chip.cox@enron.com', 'total_stock_value': 495633, 'from_this_person_to_poi': 4, 'long_term_incentive': 'NaN', 'poi': False, 'bonus': 800000, 'deferral_payments': 'NaN', 'exercised_stock_options': 117551, 'expenses': 27861, 'salary': 314288, 'restricted_stock_deferred': 'NaN', 'other': 494, 'loan_advances': 'NaN', 'total_payments': 1101393, 'from_poi_to_this_person': 0, 'deferred_income': -41250, 'restricted_stock': 378082, 'from_messages': 33, 'director_fees': 'NaN', 'shared_receipt_with_poi': 71, 'to_messages': 102}, {'email_address': 'rick.buy@enron.com', 'total_stock_value': 3444470, 'from_this_person_to_poi': 71, 'long_term_incentive': 769862, 'poi': False, 'bonus': 900000, 'deferral_payments': 649584, 'exercised_stock_options': 2542813, 'expenses': 'NaN', 'salary': 330546, 'restricted_stock_deferred': 'NaN', 'other': 400572, 'loan_advances': 'NaN', 'total_payments': 2355702, 'from_poi_to_this_person': 156, 'deferred_income': -694862, 'restricted_stock': 901657, 'from_messages': 1053, 'director_fees': 'NaN', 'shared_receipt_with_poi': 2333, 'to_messages': 3523}, {'email_address': 'NaN', 'total_stock_value': 'NaN', 'from_this_person_to_poi': 'NaN', 'long_term_incentive': 'NaN', 'poi': False, 'bonus': 'NaN', 'deferral_payments': 'NaN', 'exercised_stock_options': 'NaN', 'expenses': 2151, 'salary': 'NaN', 'restricted_stock_deferred': 'NaN', 'other': 'NaN', 'loan_advances': 'NaN', 'total_payments': 2151, 'from_poi_to_this_person': 'NaN', 'deferred_income': -38346, 'restricted_stock': 'NaN', 'from_messages': 'NaN', 'director_fees': 38346, 'shared_receipt_with_poi': 'NaN', 'to_messages': 'NaN'}, {'email_address': 'NaN', 'total_stock_value': 371750, 'from_this_person_to_poi': 'NaN', 'long_term_incentive': 'NaN', 'poi': False, 'bonus': 'NaN', 'deferral_payments': 'NaN', 'exercised_stock_options': 371750, 'expenses': 'NaN', 'salary': 'NaN', 'restricted_stock_deferred': 'NaN', 'other': 'NaN', 'loan_advances': 'NaN', 'total_payments': 77492, 'from_poi_to_this_person': 'NaN', 'deferred_income': -25000, 'restricted_stock': 'NaN', 'from_messages': 'NaN', 'director_fees': 102492, 'shared_receipt_with_poi': 'NaN', 'to_messages': 'NaN'}, {'email_address': 'sanjay.bhatnagar@enron.com', 'total_stock_value': 'NaN', 'from_this_person_to_poi': 1, 'long_term_incentive': 'NaN', 'poi': False, 'bonus': 'NaN', 'deferral_payments': 'NaN', 'exercised_stock_options': 2604490, 'deferred_income': 'NaN', 'salary': 'NaN', 'restricted_stock_deferred': 15456290, 'other': 137864, 'loan_advances': 'NaN', 'total_payments': 15456290, 'from_poi_to_this_person': 0, 'expenses': 'NaN', 'restricted_stock': -2604490, 'from_messages': 29, 'director_fees': 137864, 'shared_receipt_with_poi': 463, 'to_messages': 523}, {'email_address': 'NaN', 'total_stock_value': 98718, 'from_this_person_to_poi': 'NaN', 'long_term_incentive': 'NaN', 'poi': False, 'bonus': 'NaN', 'deferral_payments': 'NaN', 'exercised_stock_options': 98718, 'expenses': 'NaN', 'salary': 'NaN', 'restricted_stock_deferred': 'NaN', 'other': 'NaN', 'loan_advances': 'NaN', 'total_payments': 'NaN', 'from_poi_to_this_person': 'NaN', 'deferred_income': 'NaN', 'restricted_stock': 'NaN', 'from_messages': 'NaN', 'director_fees': 'NaN', 'shared_receipt_with_poi': 'NaN', 'to_messages': 'NaN'}, {'email_address': 'mark.pickering@enron.com', 'total_stock_value': 28798, 'from_this_person_to_poi': 0, 'long_term_incentive': 'NaN', 'poi': False, 'bonus': 300000, 'deferral_payments': 'NaN', 'exercised_stock_options': 28798, 'expenses': 31653, 'salary': 655037, 'restricted_stock_deferred': 'NaN', 'other': 'NaN', 'loan_advances': 400000, 'total_payments': 1386690, 'from_poi_to_this_person': 7, 'deferred_income': 'NaN', 'restricted_stock': 'NaN', 'from_messages': 67, 'director_fees': 'NaN', 'shared_receipt_with_poi': 728, 'to_messages': 898}, {'email_address': 'NaN', 'total_stock_value': 'NaN', 'from_this_person_to_poi': 'NaN', 'long_term_incentive': 'NaN', 'poi': False, 'bonus': 'NaN', 'deferral_payments': 'NaN', 'exercised_stock_options': 'NaN', 'expenses': 'NaN', 'salary': 'NaN', 'restricted_stock_deferred': 'NaN', 'other': 'NaN', 'loan_advances': 'NaN', 'total_payments': 3750, 'from_poi_to_this_person': 'NaN', 'deferred_income': -121284, 'restricted_stock': 'NaN', 'from_messages': 'NaN', 'director_fees': 125034, 'shared_receipt_with_poi': 'NaN', 'to_messages': 'NaN'}, {'email_address': 'tod.lindholm@enron.com', 'total_stock_value': 3064208, 'from_this_person_to_poi': 'NaN', 'long_term_incentive': 175000, 'poi': False, 'bonus': 200000, 'deferral_payments': 204075, 'exercised_stock_options': 2549361, 'expenses': 57727, 'salary': 236457, 'restricted_stock_deferred': 'NaN', 'other': 2630, 'loan_advances': 'NaN', 'total_payments': 875889, 'from_poi_to_this_person': 'NaN', 'deferred_income': 'NaN', 'restricted_stock': 514847, 'from_messages': 'NaN', 'director_fees': 'NaN', 'shared_receipt_with_poi': 'NaN', 'to_messages': 'NaN'}, {'email_address': 'kevin.hannon@enron.com', 'total_stock_value': 6391065, 'from_this_person_to_poi': 21, 'long_term_incentive': 1617011, 'poi': True, 'bonus': 1500000, 'deferral_payments': 'NaN', 'exercised_stock_options': 5538001, 'expenses': 34039, 'salary': 243293, 'restricted_stock_deferred': 'NaN', 'other': 11350, 'loan_advances': 'NaN', 'total_payments': 288682, 'from_poi_to_this_person': 32, 'deferred_income': -3117011, 'restricted_stock': 853064, 'from_messages': 32, 'director_fees': 'NaN', 'shared_receipt_with_poi': 1035, 'to_messages': 1045}, {'email_address': 'NaN', 'total_stock_value': 'NaN', 'from_this_person_to_poi': 'NaN', 'long_term_incentive': 'NaN', 'poi': False, 'bonus': 'NaN', 'deferral_payments': 'NaN', 'exercised_stock_options': 'NaN', 'expenses': 27942, 'salary': 'NaN', 'restricted_stock_deferred': 'NaN', 'other': 'NaN', 'loan_advances': 'NaN', 'total_payments': 27942, 'from_poi_to_this_person': 'NaN', 'deferred_income': -101250, 'restricted_stock': 'NaN', 'from_messages': 'NaN', 'director_fees': 101250, 'shared_receipt_with_poi': 'NaN', 'to_messages': 'NaN'}, {'email_address': 'terence.thorn@enron.com', 'total_stock_value': 4817796, 'from_this_person_to_poi': 0, 'long_term_incentive': 200000, 'poi': False, 'bonus': 'NaN', 'deferral_payments': 16586, 'exercised_stock_options': 4452476, 'expenses': 46145, 'salary': 222093, 'restricted_stock_deferred': 'NaN', 'other': 426629, 'loan_advances': 'NaN', 'total_payments': 911453, 'from_poi_to_this_person': 0, 'deferred_income': 'NaN', 'restricted_stock': 365320, 'from_messages': 41, 'director_fees': 'NaN', 'shared_receipt_with_poi': 73, 'to_messages': 266}, {'email_address': 'NaN', 'total_stock_value': 'NaN', 'from_this_person_to_poi': 'NaN', 'long_term_incentive': 'NaN', 'poi': False, 'bonus': 'NaN', 'deferral_payments': 'NaN', 'exercised_stock_options': 'NaN', 'expenses': 228656, 'salary': 'NaN', 'restricted_stock_deferred': 'NaN', 'other': 'NaN', 'loan_advances': 'NaN', 'total_payments': 228656, 'from_poi_to_this_person': 'NaN', 'deferred_income': -36666, 'restricted_stock': 'NaN', 'from_messages': 'NaN', 'director_fees': 36666, 'shared_receipt_with_poi': 'NaN', 'to_messages': 'NaN'}, {'email_address': 'dick.westfahl@enron.com', 'total_stock_value': 384930, 'from_this_person_to_poi': 'NaN', 'long_term_incentive': 256191, 'poi': False, 'bonus': 'NaN', 'deferral_payments': 'NaN', 'exercised_stock_options': 'NaN', 'expenses': 51870, 'salary': 63744, 'restricted_stock_deferred': 'NaN', 'other': 401130, 'loan_advances': 'NaN', 'total_payments': 762135, 'from_poi_to_this_person': 'NaN', 'deferred_income': -10800, 'restricted_stock': 384930, 'from_messages': 'NaN', 'director_fees': 'NaN', 'shared_receipt_with_poi': 'NaN', 'to_messages': 'NaN'}, {'email_address': 'philippe.bibi@enron.com', 'total_stock_value': 1843816, 'from_this_person_to_poi': 8, 'long_term_incentive': 369721, 'poi': False, 'bonus': 1000000, 'deferral_payments': 'NaN', 'exercised_stock_options': 1465734, 'expenses': 38559, 'salary': 213625, 'restricted_stock_deferred': 'NaN', 'other': 425688, 'loan_advances': 'NaN', 'total_payments': 2047593, 'from_poi_to_this_person': 23, 'deferred_income': 'NaN', 'restricted_stock': 378082, 'from_messages': 40, 'director_fees': 'NaN', 'shared_receipt_with_poi': 1336, 'to_messages': 1607}, {'email_address': 'gary.hickerson@enron.com', 'total_stock_value': 441096, 'from_this_person_to_poi': 1, 'long_term_incentive': 69223, 'poi': False, 'bonus': 1700000, 'deferral_payments': 'NaN', 'exercised_stock_options': 'NaN', 'expenses': 98849, 'salary': 211788, 'restricted_stock_deferred': 'NaN', 'other': 1936, 'loan_advances': 'NaN', 'total_payments': 2081796, 'from_poi_to_this_person': 40, 'deferred_income': 'NaN', 'restricted_stock': 441096, 'from_messages': 27, 'director_fees': 'NaN', 'shared_receipt_with_poi': 900, 'to_messages': 1320}, {'email_address': 'rebecca.mcdonald@enron.com', 'total_stock_value': 1691366, 'from_this_person_to_poi': 1, 'long_term_incentive': 'NaN', 'poi': False, 'bonus': 'NaN', 'deferral_payments': 'NaN', 'exercised_stock_options': 757301, 'expenses': 'NaN', 'salary': 'NaN', 'restricted_stock_deferred': 'NaN', 'other': 'NaN', 'loan_advances': 'NaN', 'total_payments': 'NaN', 'from_poi_to_this_person': 54, 'deferred_income': 'NaN', 'restricted_stock': 934065, 'from_messages': 13, 'director_fees': 'NaN', 'shared_receipt_with_poi': 720, 'to_messages': 894}, {'email_address': 'joe.kishkill@enron.com', 'total_stock_value': 1034346, 'from_this_person_to_poi': 'NaN', 'long_term_incentive': 'NaN', 'poi': False, 'bonus': 'NaN', 'deferral_payments': 'NaN', 'exercised_stock_options': 'NaN', 'expenses': 116335, 'salary': 174246, 'restricted_stock_deferred': 'NaN', 'other': 465357, 'loan_advances': 'NaN', 'total_payments': 704896, 'from_poi_to_this_person': 'NaN', 'deferred_income': -51042, 'restricted_stock': 1034346, 'from_messages': 'NaN', 'director_fees': 'NaN', 'shared_receipt_with_poi': 'NaN', 'to_messages': 'NaN'}, {'email_address': 'david.haug@enron.com', 'total_stock_value': 2217299, 'from_this_person_to_poi': 7, 'long_term_incentive': 'NaN', 'poi': False, 'bonus': 'NaN', 'deferral_payments': 'NaN', 'exercised_stock_options': 'NaN', 'expenses': 475, 'salary': 'NaN', 'restricted_stock_deferred': 'NaN', 'other': 'NaN', 'loan_advances': 'NaN', 'total_payments': 475, 'from_poi_to_this_person': 4, 'deferred_income': 'NaN', 'restricted_stock': 2217299, 'from_messages': 19, 'director_fees': 'NaN', 'shared_receipt_with_poi': 471, 'to_messages': 573}, {'email_address': 'john.echols@enron.com', 'total_stock_value': 1008941, 'from_this_person_to_poi': 'NaN', 'long_term_incentive': 2234774, 'poi': False, 'bonus': 200000, 'deferral_payments': 'NaN', 'exercised_stock_options': 601438, 'expenses': 21530, 'salary': 182245, 'restricted_stock_deferred': 'NaN', 'other': 53775, 'loan_advances': 'NaN', 'total_payments': 2692324, 'from_poi_to_this_person': 'NaN', 'deferred_income': 'NaN', 'restricted_stock': 407503, 'from_messages': 'NaN', 'director_fees': 'NaN', 'shared_receipt_with_poi': 'NaN', 'to_messages': 'NaN'}, {'email_address': 'NaN', 'total_stock_value': 1599641, 'from_this_person_to_poi': 'NaN', 'long_term_incentive': 93750, 'poi': False, 'bonus': 'NaN', 'deferral_payments': 684694, 'exercised_stock_options': 1599641, 'expenses': 'NaN', 'salary': 80818, 'restricted_stock_deferred': 'NaN', 'other': 874, 'loan_advances': 'NaN', 'total_payments': 860136, 'from_poi_to_this_person': 'NaN', 'deferred_income': 'NaN', 'restricted_stock': 'NaN', 'from_messages': 'NaN', 'director_fees': 'NaN', 'shared_receipt_with_poi': 'NaN', 'to_messages': 'NaN'}, {'email_address': 'christopher.calger@enron.com', 'total_stock_value': 126027, 'from_this_person_to_poi': 25, 'long_term_incentive': 375304, 'poi': True, 'bonus': 1250000, 'deferral_payments': 'NaN', 'exercised_stock_options': 'NaN', 'expenses': 35818, 'salary': 240189, 'restricted_stock_deferred': 'NaN', 'other': 486, 'loan_advances': 'NaN', 'total_payments': 1639297, 'from_poi_to_this_person': 199, 'deferred_income': -262500, 'restricted_stock': 126027, 'from_messages': 144, 'director_fees': 'NaN', 'shared_receipt_with_poi': 2188, 'to_messages': 2598}, {'email_address': 'NaN', 'total_stock_value': 85641, 'from_this_person_to_poi': 'NaN', 'long_term_incentive': 'NaN', 'poi': False, 'bonus': 'NaN', 'deferral_payments': 'NaN', 'exercised_stock_options': 9803, 'expenses': 'NaN', 'salary': 'NaN', 'restricted_stock_deferred': 'NaN', 'other': 'NaN', 'loan_advances': 'NaN', 'total_payments': 'NaN', 'from_poi_to_this_person': 'NaN', 'deferred_income': 'NaN', 'restricted_stock': 75838, 'from_messages': 'NaN', 'director_fees': 'NaN', 'shared_receipt_with_poi': 'NaN', 'to_messages': 'NaN'}, {'email_address': 'jeff.skilling@enron.com', 'total_stock_value': 26093672, 'from_this_person_to_poi': 30, 'long_term_incentive': 1920000, 'poi': True, 'bonus': 5600000, 'deferral_payments': 'NaN', 'exercised_stock_options': 19250000, 'expenses': 29336, 'salary': 1111258, 'restricted_stock_deferred': 'NaN', 'other': 22122, 'loan_advances': 'NaN', 'total_payments': 8682716, 'from_poi_to_this_person': 88, 'deferred_income': 'NaN', 'restricted_stock': 6843672, 'from_messages': 108, 'director_fees': 'NaN', 'shared_receipt_with_poi': 2042, 'to_messages': 3627}, {'email_address': 'NaN', 'total_stock_value': 318607, 'from_this_person_to_poi': 'NaN', 'long_term_incentive': 'NaN', 'poi': False, 'bonus': 509870, 'deferral_payments': 73122, 'exercised_stock_options': 83237, 'expenses': 50080, 'salary': 192008, 'restricted_stock_deferred': 'NaN', 'other': 76547, 'loan_advances': 'NaN', 'total_payments': 900585, 'from_poi_to_this_person': 'NaN', 'deferred_income': -1042, 'restricted_stock': 235370, 'from_messages': 'NaN', 'director_fees': 'NaN', 'shared_receipt_with_poi': 'NaN', 'to_messages': 'NaN'}, {'email_address': 'richard.lewis@enron.com', 'total_stock_value': 850477, 'from_this_person_to_poi': 0, 'long_term_incentive': 'NaN', 'poi': False, 'bonus': 'NaN', 'deferral_payments': 'NaN', 'exercised_stock_options': 850477, 'expenses': 'NaN', 'salary': 'NaN', 'restricted_stock_deferred': 'NaN', 'other': 'NaN', 'loan_advances': 'NaN', 'total_payments': 'NaN', 'from_poi_to_this_person': 10, 'deferred_income': 'NaN', 'restricted_stock': 'NaN', 'from_messages': 26, 'director_fees': 'NaN', 'shared_receipt_with_poi': 739, 'to_messages': 952}, {'email_address': 'NaN', 'total_stock_value': 1945360, 'from_this_person_to_poi': 'NaN', 'long_term_incentive': 'NaN', 'poi': False, 'bonus': 'NaN', 'deferral_payments': 'NaN', 'exercised_stock_options': 1753766, 'expenses': 'NaN', 'salary': 'NaN', 'restricted_stock_deferred': -72419, 'other': 'NaN', 'loan_advances': 'NaN', 'total_payments': 'NaN', 'from_poi_to_this_person': 'NaN', 'deferred_income': 'NaN', 'restricted_stock': 264013, 'from_messages': 'NaN', 'director_fees': 'NaN', 'shared_receipt_with_poi': 'NaN', 'to_messages': 'NaN'}, {'email_address': 'larry.izzo@enron.com', 'total_stock_value': 5819980, 'from_this_person_to_poi': 5, 'long_term_incentive': 312500, 'poi': False, 'bonus': 'NaN', 'deferral_payments': 'NaN', 'exercised_stock_options': 2165172, 'expenses': 28093, 'salary': 85274, 'restricted_stock_deferred': 'NaN', 'other': 1553729, 'loan_advances': 'NaN', 'total_payments': 1979596, 'from_poi_to_this_person': 28, 'deferred_income': 'NaN', 'restricted_stock': 3654808, 'from_messages': 19, 'director_fees': 'NaN', 'shared_receipt_with_poi': 437, 'to_messages': 496}, {'email_address': 'NaN', 'total_stock_value': 'NaN', 'from_this_person_to_poi': 'NaN', 'long_term_incentive': 'NaN', 'poi': False, 'bonus': 'NaN', 'deferral_payments': 'NaN', 'exercised_stock_options': 'NaN', 'expenses': 148, 'salary': 'NaN', 'restricted_stock_deferred': 'NaN', 'other': 'NaN', 'loan_advances': 'NaN', 'total_payments': 148, 'from_poi_to_this_person': 'NaN', 'deferred_income': -103750, 'restricted_stock': 'NaN', 'from_messages': 'NaN', 'director_fees': 103750, 'shared_receipt_with_poi': 'NaN', 'to_messages': 'NaN'}, {'email_address': 'michael.moran@enron.com', 'total_stock_value': 221141, 'from_this_person_to_poi': 0, 'long_term_incentive': 'NaN', 'poi': False, 'bonus': 'NaN', 'deferral_payments': 'NaN', 'exercised_stock_options': 59539, 'expenses': 'NaN', 'salary': 'NaN', 'restricted_stock_deferred': 'NaN', 'other': 'NaN', 'loan_advances': 'NaN', 'total_payments': 'NaN', 'from_poi_to_this_person': 0, 'deferred_income': 'NaN', 'restricted_stock': 161602, 'from_messages': 19, 'director_fees': 'NaN', 'shared_receipt_with_poi': 127, 'to_messages': 672}, {'email_address': 'jim.piro@enron.com', 'total_stock_value': 47304, 'from_this_person_to_poi': 1, 'long_term_incentive': 'NaN', 'poi': False, 'bonus': 'NaN', 'deferral_payments': 'NaN', 'exercised_stock_options': 'NaN', 'expenses': 'NaN', 'salary': 'NaN', 'restricted_stock_deferred': 'NaN', 'other': 'NaN', 'loan_advances': 'NaN', 'total_payments': 'NaN', 'from_poi_to_this_person': 0, 'deferred_income': 'NaN', 'restricted_stock': 47304, 'from_messages': 16, 'director_fees': 'NaN', 'shared_receipt_with_poi': 3, 'to_messages': 58}, {'email_address': 'jim.fallon@enron.com', 'total_stock_value': 2332399, 'from_this_person_to_poi': 37, 'long_term_incentive': 374347, 'poi': False, 'bonus': 2500000, 'deferral_payments': 'NaN', 'exercised_stock_options': 940257, 'expenses': 95924, 'salary': 304588, 'restricted_stock_deferred': 'NaN', 'other': 401481, 'loan_advances': 'NaN', 'total_payments': 3676340, 'from_poi_to_this_person': 42, 'deferred_income': 'NaN', 'restricted_stock': 1392142, 'from_messages': 75, 'director_fees': 'NaN', 'shared_receipt_with_poi': 1604, 'to_messages': 1755}, {'email_address': 'mark.haedicke@enron.com', 'total_stock_value': 803094, 'from_this_person_to_poi': 61, 'long_term_incentive': 983346, 'poi': False, 'bonus': 1150000, 'deferral_payments': 2157527, 'exercised_stock_options': 608750, 'expenses': 76169, 'salary': 374125, 'restricted_stock_deferred': -329825, 'other': 52382, 'loan_advances': 'NaN', 'total_payments': 3859065, 'from_poi_to_this_person': 180, 'deferred_income': -934484, 'restricted_stock': 524169, 'from_messages': 1941, 'director_fees': 'NaN', 'shared_receipt_with_poi': 1847, 'to_messages': 4009}, {'email_address': 'timothy.detmering@enron.com', 'total_stock_value': 2027865, 'from_this_person_to_poi': 'NaN', 'long_term_incentive': 415657, 'poi': False, 'bonus': 425000, 'deferral_payments': 875307, 'exercised_stock_options': 2027865, 'expenses': 52255, 'salary': 210500, 'restricted_stock_deferred': -315068, 'other': 1105, 'loan_advances': 'NaN', 'total_payments': 1204583, 'from_poi_to_this_person': 'NaN', 'deferred_income': -775241, 'restricted_stock': 315068, 'from_messages': 'NaN', 'director_fees': 'NaN', 'shared_receipt_with_poi': 'NaN', 'to_messages': 'NaN'}, {'email_address': 'matthew.scrimshaw@enron.com', 'total_stock_value': 759557, 'from_this_person_to_poi': 'NaN', 'long_term_incentive': 'NaN', 'poi': False, 'bonus': 'NaN', 'deferral_payments': 'NaN', 'exercised_stock_options': 759557, 'expenses': 'NaN', 'salary': 'NaN', 'restricted_stock_deferred': 'NaN', 'other': 'NaN', 'loan_advances': 'NaN', 'total_payments': 'NaN', 'from_poi_to_this_person': 'NaN', 'deferred_income': 'NaN', 'restricted_stock': 'NaN', 'from_messages': 'NaN', 'director_fees': 'NaN', 'shared_receipt_with_poi': 'NaN', 'to_messages': 'NaN'}, {'email_address': 'elizabeth.tilney@enron.com', 'total_stock_value': 1168042, 'from_this_person_to_poi': 11, 'long_term_incentive': 275000, 'poi': False, 'bonus': 300000, 'deferral_payments': 'NaN', 'exercised_stock_options': 591250, 'expenses': 'NaN', 'salary': 247338, 'restricted_stock_deferred': 'NaN', 'other': 152055, 'loan_advances': 'NaN', 'total_payments': 399393, 'from_poi_to_this_person': 10, 'deferred_income': -575000, 'restricted_stock': 576792, 'from_messages': 19, 'director_fees': 'NaN', 'shared_receipt_with_poi': 379, 'to_messages': 460}, {'email_address': 'frank.stabler@enron.com', 'total_stock_value': 511734, 'from_this_person_to_poi': 'NaN', 'long_term_incentive': 'NaN', 'poi': False, 'bonus': 500000, 'deferral_payments': 'NaN', 'exercised_stock_options': 'NaN', 'expenses': 16514, 'salary': 239502, 'restricted_stock_deferred': 'NaN', 'other': 356071, 'loan_advances': 'NaN', 'total_payments': 1112087, 'from_poi_to_this_person': 'NaN', 'deferred_income': 'NaN', 'restricted_stock': 511734, 'from_messages': 'NaN', 'director_fees': 'NaN', 'shared_receipt_with_poi': 'NaN', 'to_messages': 'NaN'}, {'email_address': 'adam.umanoff@enron.com', 'total_stock_value': 'NaN', 'from_this_person_to_poi': 0, 'long_term_incentive': 'NaN', 'poi': False, 'bonus': 788750, 'deferral_payments': 'NaN', 'exercised_stock_options': 'NaN', 'expenses': 53122, 'salary': 288589, 'restricted_stock_deferred': 'NaN', 'other': 'NaN', 'loan_advances': 'NaN', 'total_payments': 1130461, 'from_poi_to_this_person': 12, 'deferred_income': 'NaN', 'restricted_stock': 'NaN', 'from_messages': 18, 'director_fees': 'NaN', 'shared_receipt_with_poi': 41, 'to_messages': 111}, {'email_address': 'jeff.donahue@enron.com', 'total_stock_value': 1080988, 'from_this_person_to_poi': 11, 'long_term_incentive': 'NaN', 'poi': False, 'bonus': 800000, 'deferral_payments': 'NaN', 'exercised_stock_options': 765920, 'expenses': 96268, 'salary': 278601, 'restricted_stock_deferred': 'NaN', 'other': 891, 'loan_advances': 'NaN', 'total_payments': 875760, 'from_poi_to_this_person': 188, 'deferred_income': -300000, 'restricted_stock': 315068, 'from_messages': 22, 'director_fees': 'NaN', 'shared_receipt_with_poi': 772, 'to_messages': 865}, {'email_address': 'rockford.meyer@enron.com', 'total_stock_value': 955873, 'from_this_person_to_poi': 0, 'long_term_incentive': 'NaN', 'poi': False, 'bonus': 'NaN', 'deferral_payments': 1848227, 'exercised_stock_options': 493489, 'expenses': 'NaN', 'salary': 'NaN', 'restricted_stock_deferred': 'NaN', 'other': 'NaN', 'loan_advances': 'NaN', 'total_payments': 1848227, 'from_poi_to_this_person': 0, 'deferred_income': 'NaN', 'restricted_stock': 462384, 'from_messages': 28, 'director_fees': 'NaN', 'shared_receipt_with_poi': 22, 'to_messages': 232}])"
      ]
     },
     "execution_count": 176,
     "metadata": {},
     "output_type": "execute_result"
    }
   ],
   "source": [
    "enron_data.values()"
   ]
  },
  {
   "cell_type": "code",
   "execution_count": 177,
   "metadata": {
    "collapsed": false
   },
   "outputs": [
    {
     "data": {
      "text/plain": [
       "146"
      ]
     },
     "execution_count": 177,
     "metadata": {},
     "output_type": "execute_result"
    }
   ],
   "source": [
    "#Number of items in the dictionary\n",
    "len(enron_data)"
   ]
  },
  {
   "cell_type": "code",
   "execution_count": 182,
   "metadata": {
    "collapsed": false
   },
   "outputs": [
    {
     "name": "stdout",
     "output_type": "stream",
     "text": [
      "{'total_stock_value', 'from_this_person_to_poi', 'expenses', 'poi', 'bonus', 'deferral_payments', 'exercised_stock_options', 'salary', 'deferred_income', 'restricted_stock', 'restricted_stock_deferred', 'other', 'loan_advances', 'total_payments', 'from_poi_to_this_person', 'long_term_incentive', 'to_messages', 'from_messages', 'director_fees', 'shared_receipt_with_poi', 'email_address'}\n",
      "21\n"
     ]
    }
   ],
   "source": [
    "# Number of features in the dict\n",
    "\n",
    "unique_features = set(\n",
    "    feature\n",
    "    for row_dict in enron_data.values()\n",
    "    for feature in row_dict.keys()\n",
    ")\n",
    "print(unique_features)\n",
    "# {'golf', 'delta', 'foxtrot', 'alpha', 'bravo', 'echo', 'tango', 'kilo'}\n",
    "print(len(unique_features))\n",
    "# 8\n"
   ]
  },
  {
   "cell_type": "code",
   "execution_count": 199,
   "metadata": {
    "collapsed": false
   },
   "outputs": [
    {
     "data": {
      "text/plain": [
       "{'bonus': 1200000,\n",
       " 'deferral_payments': 27610,\n",
       " 'deferred_income': -144062,\n",
       " 'director_fees': 'NaN',\n",
       " 'email_address': 'wes.colwell@enron.com',\n",
       " 'exercised_stock_options': 'NaN',\n",
       " 'expenses': 16514,\n",
       " 'from_messages': 40,\n",
       " 'from_poi_to_this_person': 240,\n",
       " 'from_this_person_to_poi': 11,\n",
       " 'loan_advances': 'NaN',\n",
       " 'long_term_incentive': 'NaN',\n",
       " 'other': 101740,\n",
       " 'poi': True,\n",
       " 'restricted_stock': 698242,\n",
       " 'restricted_stock_deferred': 'NaN',\n",
       " 'salary': 288542,\n",
       " 'shared_receipt_with_poi': 1132,\n",
       " 'to_messages': 1758,\n",
       " 'total_payments': 1490344,\n",
       " 'total_stock_value': 698242}"
      ]
     },
     "execution_count": 199,
     "metadata": {},
     "output_type": "execute_result"
    }
   ],
   "source": [
    "# Listing out individual elements from the dictionary\n",
    "list(enron_data.values())[1]"
   ]
  },
  {
   "cell_type": "code",
   "execution_count": 203,
   "metadata": {
    "collapsed": false
   },
   "outputs": [],
   "source": [
    "# Read poi names\n",
    "poi_names = pd.read_csv(\"./enron/ud120-projects-master/final_project/poi_names.txt\")\n"
   ]
  },
  {
   "cell_type": "code",
   "execution_count": 204,
   "metadata": {
    "collapsed": false
   },
   "outputs": [
    {
     "data": {
      "text/html": [
       "<div>\n",
       "<table border=\"1\" class=\"dataframe\">\n",
       "  <thead>\n",
       "    <tr style=\"text-align: right;\">\n",
       "      <th></th>\n",
       "      <th>http://usatoday30.usatoday.com/money/industries/energy/2005-12-28-enron-participants_x.htm</th>\n",
       "    </tr>\n",
       "  </thead>\n",
       "  <tbody>\n",
       "    <tr>\n",
       "      <th>(y) Lay</th>\n",
       "      <td>Kenneth</td>\n",
       "    </tr>\n",
       "    <tr>\n",
       "      <th>(y) Skilling</th>\n",
       "      <td>Jeffrey</td>\n",
       "    </tr>\n",
       "    <tr>\n",
       "      <th>(n) Howard</th>\n",
       "      <td>Kevin</td>\n",
       "    </tr>\n",
       "    <tr>\n",
       "      <th>(n) Krautz</th>\n",
       "      <td>Michael</td>\n",
       "    </tr>\n",
       "    <tr>\n",
       "      <th>(n) Yeager</th>\n",
       "      <td>Scott</td>\n",
       "    </tr>\n",
       "  </tbody>\n",
       "</table>\n",
       "</div>"
      ],
      "text/plain": [
       "             http://usatoday30.usatoday.com/money/industries/energy/2005-12-28-enron-participants_x.htm\n",
       "(y) Lay                                                 Kenneth                                        \n",
       "(y) Skilling                                            Jeffrey                                        \n",
       "(n) Howard                                                Kevin                                        \n",
       "(n) Krautz                                              Michael                                        \n",
       "(n) Yeager                                                Scott                                        "
      ]
     },
     "execution_count": 204,
     "metadata": {},
     "output_type": "execute_result"
    }
   ],
   "source": [
    "poi_names.head()"
   ]
  },
  {
   "cell_type": "code",
   "execution_count": 218,
   "metadata": {
    "collapsed": false
   },
   "outputs": [],
   "source": [
    "keys = enron_data.keys()"
   ]
  },
  {
   "cell_type": "code",
   "execution_count": 241,
   "metadata": {
    "collapsed": false
   },
   "outputs": [
    {
     "data": {
      "text/plain": [
       "dict"
      ]
     },
     "execution_count": 241,
     "metadata": {},
     "output_type": "execute_result"
    }
   ],
   "source": [
    "type(enron_data)"
   ]
  },
  {
   "cell_type": "code",
   "execution_count": 244,
   "metadata": {
    "collapsed": false
   },
   "outputs": [
    {
     "data": {
      "text/plain": [
       "True"
      ]
     },
     "execution_count": 244,
     "metadata": {},
     "output_type": "execute_result"
    }
   ],
   "source": [
    "enron_data['SKILLING JEFFREY K']['poi']"
   ]
  },
  {
   "cell_type": "code",
   "execution_count": 249,
   "metadata": {
    "collapsed": false
   },
   "outputs": [
    {
     "name": "stdout",
     "output_type": "stream",
     "text": [
      "18\n"
     ]
    }
   ],
   "source": [
    "# How many POIs in the dataset?\n",
    "count = 0\n",
    "for user in enron_data:\n",
    "    if enron_data[user]['poi'] == True:\n",
    "        count+=1\n",
    "print (count)"
   ]
  },
  {
   "cell_type": "code",
   "execution_count": 254,
   "metadata": {
    "collapsed": false
   },
   "outputs": [],
   "source": [
    "# %load ./enron/ud120-projects-master/final_project/poi_email_addresses.py\n",
    "def poiEmails():\n",
    "    email_list = [\"kenneth_lay@enron.net\",    \n",
    "            \"kenneth_lay@enron.com\",\n",
    "            \"klay.enron@enron.com\",\n",
    "            \"kenneth.lay@enron.com\", \n",
    "            \"klay@enron.com\",\n",
    "            \"layk@enron.com\",\n",
    "            \"chairman.ken@enron.com\",\n",
    "            \"jeffreyskilling@yahoo.com\",\n",
    "            \"jeff_skilling@enron.com\",\n",
    "            \"jskilling@enron.com\",\n",
    "            \"effrey.skilling@enron.com\",\n",
    "            \"skilling@enron.com\",\n",
    "            \"jeffrey.k.skilling@enron.com\",\n",
    "            \"jeff.skilling@enron.com\",\n",
    "            \"kevin_a_howard.enronxgate.enron@enron.net\",\n",
    "            \"kevin.howard@enron.com\",\n",
    "            \"kevin.howard@enron.net\",\n",
    "            \"kevin.howard@gcm.com\",\n",
    "            \"michael.krautz@enron.com\"\n",
    "            \"scott.yeager@enron.com\",\n",
    "            \"syeager@fyi-net.com\",\n",
    "            \"scott_yeager@enron.net\",\n",
    "            \"syeager@flash.net\",\n",
    "            \"joe'.'hirko@enron.com\", \n",
    "            \"joe.hirko@enron.com\", \n",
    "            \"rex.shelby@enron.com\", \n",
    "            \"rex.shelby@enron.nt\", \n",
    "            \"rex_shelby@enron.net\",\n",
    "            \"jbrown@enron.com\",\n",
    "            \"james.brown@enron.com\", \n",
    "            \"rick.causey@enron.com\", \n",
    "            \"richard.causey@enron.com\", \n",
    "            \"rcausey@enron.com\",\n",
    "            \"calger@enron.com\",\n",
    "            \"chris.calger@enron.com\", \n",
    "            \"christopher.calger@enron.com\", \n",
    "            \"ccalger@enron.com\",\n",
    "            \"tim_despain.enronxgate.enron@enron.net\", \n",
    "            \"tim.despain@enron.com\",\n",
    "            \"kevin_hannon@enron.com\", \n",
    "            \"kevin'.'hannon@enron.com\", \n",
    "            \"kevin_hannon@enron.net\", \n",
    "            \"kevin.hannon@enron.com\",\n",
    "            \"mkoenig@enron.com\", \n",
    "            \"mark.koenig@enron.com\",\n",
    "            \"m..forney@enron.com\",\n",
    "            \"ken'.'rice@enron.com\", \n",
    "            \"ken.rice@enron.com\",\n",
    "            \"ken_rice@enron.com\", \n",
    "            \"ken_rice@enron.net\",\n",
    "            \"paula.rieker@enron.com\",\n",
    "            \"prieker@enron.com\", \n",
    "            \"andrew.fastow@enron.com\", \n",
    "            \"lfastow@pdq.net\", \n",
    "            \"andrew.s.fastow@enron.com\", \n",
    "            \"lfastow@pop.pdq.net\", \n",
    "            \"andy.fastow@enron.com\",\n",
    "            \"david.w.delainey@enron.com\", \n",
    "            \"delainey.dave@enron.com\", \n",
    "            \"'delainey@enron.com\", \n",
    "            \"david.delainey@enron.com\", \n",
    "            \"'david.delainey'@enron.com\", \n",
    "            \"dave.delainey@enron.com\", \n",
    "            \"delainey'.'david@enron.com\",\n",
    "            \"ben.glisan@enron.com\", \n",
    "            \"bglisan@enron.com\", \n",
    "            \"ben_f_glisan@enron.com\", \n",
    "            \"ben'.'glisan@enron.com\",\n",
    "            \"jeff.richter@enron.com\", \n",
    "            \"jrichter@nwlink.com\",\n",
    "            \"lawrencelawyer@aol.com\", \n",
    "            \"lawyer'.'larry@enron.com\", \n",
    "            \"larry_lawyer@enron.com\", \n",
    "            \"llawyer@enron.com\", \n",
    "            \"larry.lawyer@enron.com\", \n",
    "            \"lawrence.lawyer@enron.com\",\n",
    "            \"tbelden@enron.com\", \n",
    "            \"tim.belden@enron.com\", \n",
    "            \"tim_belden@pgn.com\", \n",
    "            \"tbelden@ect.enron.com\",\n",
    "            \"michael.kopper@enron.com\",\n",
    "            \"dave.duncan@enron.com\", \n",
    "            \"dave.duncan@cipco.org\", \n",
    "            \"duncan.dave@enron.com\",\n",
    "            \"ray.bowen@enron.com\", \n",
    "            \"raymond.bowen@enron.com\", \n",
    "            \"'bowen@enron.com\",\n",
    "            \"wes.colwell@enron.com\",\n",
    "            \"dan.boyle@enron.com\",\n",
    "            \"cloehr@enron.com\", \n",
    "            \"chris.loehr@enron.com\"\n",
    "        ]\n",
    "    return email_list\n"
   ]
  },
  {
   "cell_type": "code",
   "execution_count": 256,
   "metadata": {
    "collapsed": false
   },
   "outputs": [
    {
     "data": {
      "text/plain": [
       "90"
      ]
     },
     "execution_count": 256,
     "metadata": {},
     "output_type": "execute_result"
    }
   ],
   "source": [
    "len(poiEmails())"
   ]
  },
  {
   "cell_type": "code",
   "execution_count": null,
   "metadata": {
    "collapsed": true
   },
   "outputs": [],
   "source": [
    "# %load ./enron/ud120-projects-master/final_project/poi_names.txt\n",
    "http://usatoday30.usatoday.com/money/industries/energy/2005-12-28-enron-participants_x.htm\n",
    "\n",
    "(y) Lay, Kenneth\n",
    "(y) Skilling, Jeffrey\n",
    "(n) Howard, Kevin\n",
    "(n) Krautz, Michael\n",
    "(n) Yeager, Scott\n",
    "(n) Hirko, Joseph\n",
    "(n) Shelby, Rex\n",
    "(n) Bermingham, David\n",
    "(n) Darby, Giles\n",
    "(n) Mulgrew, Gary\n",
    "(n) Bayley, Daniel\n",
    "(n) Brown, James\n",
    "(n) Furst, Robert\n",
    "(n) Fuhs, William\n",
    "(n) Causey, Richard\n",
    "(n) Calger, Christopher\n",
    "(n) DeSpain, Timothy\n",
    "(n) Hannon, Kevin\n",
    "(n) Koenig, Mark\n",
    "(y) Forney, John\n",
    "(n) Rice, Kenneth\n",
    "(n) Rieker, Paula\n",
    "(n) Fastow, Lea\n",
    "(n) Fastow, Andrew\n",
    "(y) Delainey, David\n",
    "(n) Glisan, Ben\n",
    "(n) Richter, Jeffrey\n",
    "(n) Lawyer, Larry\n",
    "(n) Belden, Timothy\n",
    "(n) Kopper, Michael\n",
    "(n) Duncan, David\n",
    "(n) Bowen, Raymond\n",
    "(n) Colwell, Wesley\n",
    "(n) Boyle, Dan\n",
    "(n) Loehr, Christopher\n"
   ]
  },
  {
   "cell_type": "code",
   "execution_count": 253,
   "metadata": {
    "collapsed": false
   },
   "outputs": [
    {
     "data": {
      "text/plain": [
       "35"
      ]
     },
     "execution_count": 253,
     "metadata": {},
     "output_type": "execute_result"
    }
   ],
   "source": [
    "len(poi_names)"
   ]
  },
  {
   "cell_type": "code",
   "execution_count": 263,
   "metadata": {
    "collapsed": false
   },
   "outputs": [
    {
     "data": {
      "text/plain": [
       "['WALTERS GARETH W',\n",
       " 'COLWELL WESLEY',\n",
       " 'NOLES JAMES L',\n",
       " 'BUTTS ROBERT H',\n",
       " 'TOTAL',\n",
       " 'BLACHMAN JEREMY M',\n",
       " 'ELLIOTT STEVEN',\n",
       " 'MCCARTY DANNY J',\n",
       " 'SULLIVAN-SHAKLOVITZ COLLEEN',\n",
       " 'PIPER GREGORY F',\n",
       " 'KOENIG MARK E',\n",
       " 'WALLS JR ROBERT H',\n",
       " 'HERMANN ROBERT J',\n",
       " 'FOWLER PEGGY',\n",
       " 'MARTIN AMANDA K',\n",
       " 'WHITE JR THOMAS E',\n",
       " 'GRAY RODNEY',\n",
       " 'YEAGER F SCOTT',\n",
       " 'WAKEHAM JOHN',\n",
       " 'WROBEL BRUCE',\n",
       " 'SHERRIFF JOHN R',\n",
       " 'THE TRAVEL AGENCY IN THE PARK',\n",
       " 'DURAN WILLIAM D',\n",
       " 'CHAN RONNIE',\n",
       " 'HAYSLETT RODERICK J',\n",
       " 'BELDEN TIMOTHY N',\n",
       " 'GARLAND C KEVIN',\n",
       " 'MULLER MARK S',\n",
       " 'HIRKO JOSEPH',\n",
       " 'SHARP VICTORIA T',\n",
       " 'MURRAY JULIA H',\n",
       " 'LOWRY CHARLES P',\n",
       " 'YEAP SOON',\n",
       " 'BELFER ROBERT',\n",
       " 'HAYES ROBERT E',\n",
       " 'CORDES WILLIAM R',\n",
       " 'BADUM JAMES P',\n",
       " 'BECK SALLY W',\n",
       " 'JACKSON CHARLENE R',\n",
       " 'CHRISTODOULOU DIOMEDES',\n",
       " 'MCCLELLAN GEORGE',\n",
       " 'KITCHEN LOUISE',\n",
       " 'SHANKMAN JEFFREY A',\n",
       " 'CLINE KENNETH W',\n",
       " 'DELAINEY DAVID W',\n",
       " 'RICE KENNETH D',\n",
       " 'WASAFF GEORGE',\n",
       " 'OLSON CINDY K',\n",
       " 'GIBBS DANA R',\n",
       " 'MORDAUNT KRISTINA M',\n",
       " 'LAVORATO JOHN J',\n",
       " 'DIETRICH JANET R',\n",
       " 'TAYLOR MITCHELL S',\n",
       " 'SHAPIRO RICHARD S',\n",
       " 'BLAKE JR. NORMAN P',\n",
       " 'SUNDE MARTIN',\n",
       " 'FREVERT MARK A',\n",
       " 'WODRASKA JOHN',\n",
       " 'HUGHES JAMES A',\n",
       " 'BROWN MICHAEL',\n",
       " 'HUMPHREY GENE E',\n",
       " 'DERRICK JR. JAMES V',\n",
       " 'LEFF DANIEL P',\n",
       " 'HORTON STANLEY C',\n",
       " 'POWERS WILLIAM',\n",
       " 'FITZGERALD JAY L',\n",
       " 'DIMICHELE RICHARD G',\n",
       " 'REYNOLDS LAWRENCE',\n",
       " 'BAXTER JOHN C',\n",
       " 'GOLD JOSEPH',\n",
       " 'REDMOND BRIAN L',\n",
       " 'KOPPER MICHAEL J',\n",
       " 'METTS MARK',\n",
       " 'OVERDYKE JR JERE C',\n",
       " 'CUMBERLAND MICHAEL S',\n",
       " 'GLISAN JR BEN F',\n",
       " 'BERGSIEKER RICHARD P',\n",
       " 'MCMAHON JEFFREY',\n",
       " 'BOWEN JR RAYMOND M',\n",
       " 'SHELBY REX',\n",
       " 'BAY FRANKLIN R',\n",
       " 'RIEKER PAULA H',\n",
       " 'ALLEN PHILLIP K',\n",
       " 'KEAN STEVEN J',\n",
       " 'PRENTICE JAMES',\n",
       " 'BUCHANAN HAROLD G',\n",
       " 'SHERRICK JEFFREY B',\n",
       " 'BERBERIAN DAVID',\n",
       " 'DEFFNER JOSEPH M',\n",
       " 'LEMAISTRE CHARLES',\n",
       " 'CARTER REBECCA C',\n",
       " 'KAMINSKI WINCENTY J',\n",
       " 'LOCKHART EUGENE E',\n",
       " 'LAY KENNETH L',\n",
       " 'WINOKUR JR. HERBERT S',\n",
       " 'FOY JOE',\n",
       " 'FASTOW ANDREW S',\n",
       " 'GRAMM WENDY L',\n",
       " 'MCCONNELL MICHAEL S',\n",
       " 'WHALLEY LAWRENCE G',\n",
       " 'JAEDICKE ROBERT',\n",
       " 'CAUSEY RICHARD A',\n",
       " 'PAI LOU L',\n",
       " 'BANNANTINE JAMES M',\n",
       " 'DODSON KEITH',\n",
       " 'FUGH JOHN L',\n",
       " 'COX DAVID',\n",
       " 'BUY RICHARD B',\n",
       " 'MEYER JEROME J',\n",
       " 'DUNCAN JOHN H',\n",
       " 'BHATNAGAR SANJAY',\n",
       " 'WHALEY DAVID A',\n",
       " 'PICKERING MARK R',\n",
       " 'SAVAGE FRANK',\n",
       " 'LINDHOLM TOD A',\n",
       " 'HANNON KEVIN P',\n",
       " 'PEREIRA PAULO V. FERRAZ',\n",
       " 'THORN TERENCE H',\n",
       " 'URQUHART JOHN A',\n",
       " 'WESTFAHL RICHARD K',\n",
       " 'BIBI PHILIPPE A',\n",
       " 'HICKERSON GARY J',\n",
       " 'MCDONALD REBECCA',\n",
       " 'KISHKILL JOSEPH G',\n",
       " 'HAUG DAVID L',\n",
       " 'ECHOLS JOHN B',\n",
       " 'BAZELIDES PHILIP J',\n",
       " 'CALGER CHRISTOPHER F',\n",
       " 'GILLIS JOHN',\n",
       " 'SKILLING JEFFREY K',\n",
       " 'GAHN ROBERT S',\n",
       " 'LEWIS RICHARD',\n",
       " 'GATHMANN WILLIAM D',\n",
       " 'IZZO LAWRENCE L',\n",
       " 'MENDELSOHN JOHN',\n",
       " 'MORAN MICHAEL P',\n",
       " 'PIRO JIM',\n",
       " 'FALLON JAMES B',\n",
       " 'HAEDICKE MARK E',\n",
       " 'DETMERING TIMOTHY J',\n",
       " 'SCRIMSHAW MATTHEW',\n",
       " 'TILNEY ELIZABETH A',\n",
       " 'STABLER FRANK',\n",
       " 'UMANOFF ADAM S',\n",
       " 'DONAHUE JR JEFFREY M',\n",
       " 'MEYER ROCKFORD G']"
      ]
     },
     "execution_count": 263,
     "metadata": {},
     "output_type": "execute_result"
    }
   ],
   "source": [
    "list(enron_data.keys())"
   ]
  },
  {
   "cell_type": "code",
   "execution_count": 264,
   "metadata": {
    "collapsed": false
   },
   "outputs": [
    {
     "data": {
      "text/plain": [
       "1095040"
      ]
     },
     "execution_count": 264,
     "metadata": {},
     "output_type": "execute_result"
    }
   ],
   "source": [
    "# total stock belonging to  James Prentice\n",
    "enron_data['PRENTICE JAMES']['total_stock_value']"
   ]
  },
  {
   "cell_type": "code",
   "execution_count": 267,
   "metadata": {
    "collapsed": false
   },
   "outputs": [
    {
     "data": {
      "text/plain": [
       "{'bonus': 'NaN',\n",
       " 'deferral_payments': 564348,\n",
       " 'deferred_income': 'NaN',\n",
       " 'director_fees': 'NaN',\n",
       " 'email_address': 'james.prentice@enron.com',\n",
       " 'exercised_stock_options': 886231,\n",
       " 'expenses': 'NaN',\n",
       " 'from_messages': 'NaN',\n",
       " 'from_poi_to_this_person': 'NaN',\n",
       " 'from_this_person_to_poi': 'NaN',\n",
       " 'loan_advances': 'NaN',\n",
       " 'long_term_incentive': 'NaN',\n",
       " 'other': 'NaN',\n",
       " 'poi': False,\n",
       " 'restricted_stock': 208809,\n",
       " 'restricted_stock_deferred': 'NaN',\n",
       " 'salary': 'NaN',\n",
       " 'shared_receipt_with_poi': 'NaN',\n",
       " 'to_messages': 'NaN',\n",
       " 'total_payments': 564348,\n",
       " 'total_stock_value': 1095040}"
      ]
     },
     "execution_count": 267,
     "metadata": {},
     "output_type": "execute_result"
    }
   ],
   "source": [
    "enron_data['PRENTICE JAMES']"
   ]
  },
  {
   "cell_type": "code",
   "execution_count": 268,
   "metadata": {
    "collapsed": false
   },
   "outputs": [
    {
     "data": {
      "text/plain": [
       "11"
      ]
     },
     "execution_count": 268,
     "metadata": {},
     "output_type": "execute_result"
    }
   ],
   "source": [
    "#Find num of emails Wesley Colwell sent to poi\n",
    "enron_data['COLWELL WESLEY']['from_this_person_to_poi']"
   ]
  },
  {
   "cell_type": "code",
   "execution_count": 270,
   "metadata": {
    "collapsed": false
   },
   "outputs": [
    {
     "data": {
      "text/plain": [
       "19250000"
      ]
     },
     "execution_count": 270,
     "metadata": {},
     "output_type": "execute_result"
    }
   ],
   "source": [
    "# Stock options excercised by  Jeffrey K Skilling\n",
    "enron_data['SKILLING JEFFREY K']['exercised_stock_options']"
   ]
  },
  {
   "cell_type": "markdown",
   "metadata": {},
   "source": [
    "### Who took home the most money ? "
   ]
  },
  {
   "cell_type": "code",
   "execution_count": 272,
   "metadata": {
    "collapsed": false
   },
   "outputs": [
    {
     "data": {
      "text/plain": [
       "103559793"
      ]
     },
     "execution_count": 272,
     "metadata": {},
     "output_type": "execute_result"
    }
   ],
   "source": [
    "enron_data['LAY KENNETH L']['total_payments']"
   ]
  },
  {
   "cell_type": "code",
   "execution_count": 273,
   "metadata": {
    "collapsed": false
   },
   "outputs": [
    {
     "data": {
      "text/plain": [
       "8682716"
      ]
     },
     "execution_count": 273,
     "metadata": {},
     "output_type": "execute_result"
    }
   ],
   "source": [
    "enron_data['SKILLING JEFFREY K']['total_payments']"
   ]
  },
  {
   "cell_type": "code",
   "execution_count": 274,
   "metadata": {
    "collapsed": false
   },
   "outputs": [
    {
     "data": {
      "text/plain": [
       "2424083"
      ]
     },
     "execution_count": 274,
     "metadata": {},
     "output_type": "execute_result"
    }
   ],
   "source": [
    "enron_data['FASTOW ANDREW S']['total_payments']"
   ]
  },
  {
   "cell_type": "code",
   "execution_count": 291,
   "metadata": {
    "collapsed": false
   },
   "outputs": [
    {
     "name": "stdout",
     "output_type": "stream",
     "text": [
      "95\n",
      "111\n"
     ]
    }
   ],
   "source": [
    "#How many folks in this dataset have a quantified salary? What about a known email address?\n",
    "count_salary = 0\n",
    "count_email = 0\n",
    "for user in enron_data:\n",
    "    if enron_data[user]['salary'] != 'NaN':\n",
    "        #email[user] = enron_data[user]['email_address']\n",
    "        count_salary+=1\n",
    "print (count_salary)\n",
    "\n",
    "for user in enron_data:\n",
    "    if enron_data[user]['email_address'] != 'NaN':\n",
    "        count_email+=1\n",
    "print (count_email)"
   ]
  },
  {
   "cell_type": "code",
   "execution_count": 288,
   "metadata": {
    "collapsed": false
   },
   "outputs": [
    {
     "data": {
      "text/plain": [
       "{'ALLEN PHILLIP K': 'phillip.allen@enron.com',\n",
       " 'BADUM JAMES P': 'NaN',\n",
       " 'BANNANTINE JAMES M': 'james.bannantine@enron.com',\n",
       " 'BAXTER JOHN C': 'NaN',\n",
       " 'BAY FRANKLIN R': 'frank.bay@enron.com',\n",
       " 'BAZELIDES PHILIP J': 'NaN',\n",
       " 'BECK SALLY W': 'sally.beck@enron.com',\n",
       " 'BELDEN TIMOTHY N': 'tim.belden@enron.com',\n",
       " 'BELFER ROBERT': 'NaN',\n",
       " 'BERBERIAN DAVID': 'david.berberian@enron.com',\n",
       " 'BERGSIEKER RICHARD P': 'rick.bergsieker@enron.com',\n",
       " 'BHATNAGAR SANJAY': 'sanjay.bhatnagar@enron.com',\n",
       " 'BIBI PHILIPPE A': 'philippe.bibi@enron.com',\n",
       " 'BLACHMAN JEREMY M': 'jeremy.blachman@enron.com',\n",
       " 'BLAKE JR. NORMAN P': 'NaN',\n",
       " 'BOWEN JR RAYMOND M': 'raymond.bowen@enron.com',\n",
       " 'BROWN MICHAEL': 'michael.brown@enron.com',\n",
       " 'BUCHANAN HAROLD G': 'john.buchanan@enron.com',\n",
       " 'BUTTS ROBERT H': 'bob.butts@enron.com',\n",
       " 'BUY RICHARD B': 'rick.buy@enron.com',\n",
       " 'CALGER CHRISTOPHER F': 'christopher.calger@enron.com',\n",
       " 'CARTER REBECCA C': 'rebecca.carter@enron.com',\n",
       " 'CAUSEY RICHARD A': 'richard.causey@enron.com',\n",
       " 'CHAN RONNIE': 'NaN',\n",
       " 'CHRISTODOULOU DIOMEDES': 'diomedes.christodoulou@enron.com',\n",
       " 'CLINE KENNETH W': 'NaN',\n",
       " 'COLWELL WESLEY': 'wes.colwell@enron.com',\n",
       " 'CORDES WILLIAM R': 'bill.cordes@enron.com',\n",
       " 'COX DAVID': 'chip.cox@enron.com',\n",
       " 'CUMBERLAND MICHAEL S': 'NaN',\n",
       " 'DEFFNER JOSEPH M': 'joseph.deffner@enron.com',\n",
       " 'DELAINEY DAVID W': 'david.delainey@enron.com',\n",
       " 'DERRICK JR. JAMES V': 'james.derrick@enron.com',\n",
       " 'DETMERING TIMOTHY J': 'timothy.detmering@enron.com',\n",
       " 'DIETRICH JANET R': 'janet.dietrich@enron.com',\n",
       " 'DIMICHELE RICHARD G': 'richard.dimichele@enron.com',\n",
       " 'DODSON KEITH': 'keith.dodson@enron.com',\n",
       " 'DONAHUE JR JEFFREY M': 'jeff.donahue@enron.com',\n",
       " 'DUNCAN JOHN H': 'NaN',\n",
       " 'DURAN WILLIAM D': 'w.duran@enron.com',\n",
       " 'ECHOLS JOHN B': 'john.echols@enron.com',\n",
       " 'ELLIOTT STEVEN': 'steven.elliott@enron.com',\n",
       " 'FALLON JAMES B': 'jim.fallon@enron.com',\n",
       " 'FASTOW ANDREW S': 'andrew.fastow@enron.com',\n",
       " 'FITZGERALD JAY L': 'jay.fitzgerald@enron.com',\n",
       " 'FOWLER PEGGY': 'kulvinder.fowler@enron.com',\n",
       " 'FOY JOE': 'tracy.foy@enron.com',\n",
       " 'FREVERT MARK A': 'mark.frevert@enron.com',\n",
       " 'FUGH JOHN L': 'NaN',\n",
       " 'GAHN ROBERT S': 'NaN',\n",
       " 'GARLAND C KEVIN': 'kevin.garland@enron.com',\n",
       " 'GATHMANN WILLIAM D': 'NaN',\n",
       " 'GIBBS DANA R': 'dana.gibbs@enron.com',\n",
       " 'GILLIS JOHN': 'NaN',\n",
       " 'GLISAN JR BEN F': 'ben.glisan@enron.com',\n",
       " 'GOLD JOSEPH': 'joe.gold@enron.com',\n",
       " 'GRAMM WENDY L': 'NaN',\n",
       " 'GRAY RODNEY': 'NaN',\n",
       " 'HAEDICKE MARK E': 'mark.haedicke@enron.com',\n",
       " 'HANNON KEVIN P': 'kevin.hannon@enron.com',\n",
       " 'HAUG DAVID L': 'david.haug@enron.com',\n",
       " 'HAYES ROBERT E': 'robert.hayes@enron.com',\n",
       " 'HAYSLETT RODERICK J': 'rod.hayslett@enron.com',\n",
       " 'HERMANN ROBERT J': 'robert.hermann@enron.com',\n",
       " 'HICKERSON GARY J': 'gary.hickerson@enron.com',\n",
       " 'HIRKO JOSEPH': 'joe.hirko@enron.com',\n",
       " 'HORTON STANLEY C': 'stanley.horton@enron.com',\n",
       " 'HUGHES JAMES A': 'james.hughes@enron.com',\n",
       " 'HUMPHREY GENE E': 'gene.humphrey@enron.com',\n",
       " 'IZZO LAWRENCE L': 'larry.izzo@enron.com',\n",
       " 'JACKSON CHARLENE R': 'charlene.jackson@enron.com',\n",
       " 'JAEDICKE ROBERT': 'NaN',\n",
       " 'KAMINSKI WINCENTY J': 'vince.kaminski@enron.com',\n",
       " 'KEAN STEVEN J': 'steven.kean@enron.com',\n",
       " 'KISHKILL JOSEPH G': 'joe.kishkill@enron.com',\n",
       " 'KITCHEN LOUISE': 'louise.kitchen@enron.com',\n",
       " 'KOENIG MARK E': 'mark.koenig@enron.com',\n",
       " 'KOPPER MICHAEL J': 'michael.kopper@enron.com',\n",
       " 'LAVORATO JOHN J': 'john.lavorato@enron.com',\n",
       " 'LAY KENNETH L': 'kenneth.lay@enron.com',\n",
       " 'LEFF DANIEL P': 'dan.leff@enron.com',\n",
       " 'LEMAISTRE CHARLES': 'NaN',\n",
       " 'LEWIS RICHARD': 'richard.lewis@enron.com',\n",
       " 'LINDHOLM TOD A': 'tod.lindholm@enron.com',\n",
       " 'LOCKHART EUGENE E': 'NaN',\n",
       " 'LOWRY CHARLES P': 'NaN',\n",
       " 'MARTIN AMANDA K': 'a..martin@enron.com',\n",
       " 'MCCARTY DANNY J': 'danny.mccarty@enron.com',\n",
       " 'MCCLELLAN GEORGE': 'george.mcclellan@enron.com',\n",
       " 'MCCONNELL MICHAEL S': 'mike.mcconnell@enron.com',\n",
       " 'MCDONALD REBECCA': 'rebecca.mcdonald@enron.com',\n",
       " 'MCMAHON JEFFREY': 'jeffrey.mcmahon@enron.com',\n",
       " 'MENDELSOHN JOHN': 'NaN',\n",
       " 'METTS MARK': 'mark.metts@enron.com',\n",
       " 'MEYER JEROME J': 'NaN',\n",
       " 'MEYER ROCKFORD G': 'rockford.meyer@enron.com',\n",
       " 'MORAN MICHAEL P': 'michael.moran@enron.com',\n",
       " 'MORDAUNT KRISTINA M': 'kristina.mordaunt@enron.com',\n",
       " 'MULLER MARK S': 's..muller@enron.com',\n",
       " 'MURRAY JULIA H': 'julia.murray@enron.com',\n",
       " 'NOLES JAMES L': 'NaN',\n",
       " 'OLSON CINDY K': 'cindy.olson@enron.com',\n",
       " 'OVERDYKE JR JERE C': 'jere.overdyke@enron.com',\n",
       " 'PAI LOU L': 'lou.pai@enron.com',\n",
       " 'PEREIRA PAULO V. FERRAZ': 'NaN',\n",
       " 'PICKERING MARK R': 'mark.pickering@enron.com',\n",
       " 'PIPER GREGORY F': 'greg.piper@enron.com',\n",
       " 'PIRO JIM': 'jim.piro@enron.com',\n",
       " 'POWERS WILLIAM': 'ken.powers@enron.com',\n",
       " 'PRENTICE JAMES': 'james.prentice@enron.com',\n",
       " 'REDMOND BRIAN L': 'brian.redmond@enron.com',\n",
       " 'REYNOLDS LAWRENCE': 'NaN',\n",
       " 'RICE KENNETH D': 'ken.rice@enron.com',\n",
       " 'RIEKER PAULA H': 'paula.rieker@enron.com',\n",
       " 'SAVAGE FRANK': 'NaN',\n",
       " 'SCRIMSHAW MATTHEW': 'matthew.scrimshaw@enron.com',\n",
       " 'SHANKMAN JEFFREY A': 'jeffrey.shankman@enron.com',\n",
       " 'SHAPIRO RICHARD S': 'richard.shapiro@enron.com',\n",
       " 'SHARP VICTORIA T': 'vicki.sharp@enron.com',\n",
       " 'SHELBY REX': 'rex.shelby@enron.com',\n",
       " 'SHERRICK JEFFREY B': 'jeffrey.sherrick@enron.com',\n",
       " 'SHERRIFF JOHN R': 'john.sherriff@enron.com',\n",
       " 'SKILLING JEFFREY K': 'jeff.skilling@enron.com',\n",
       " 'STABLER FRANK': 'frank.stabler@enron.com',\n",
       " 'SULLIVAN-SHAKLOVITZ COLLEEN': 'NaN',\n",
       " 'SUNDE MARTIN': 'marty.sunde@enron.com',\n",
       " 'TAYLOR MITCHELL S': 'mitchell.taylor@enron.com',\n",
       " 'THE TRAVEL AGENCY IN THE PARK': 'NaN',\n",
       " 'THORN TERENCE H': 'terence.thorn@enron.com',\n",
       " 'TILNEY ELIZABETH A': 'elizabeth.tilney@enron.com',\n",
       " 'TOTAL': 'NaN',\n",
       " 'UMANOFF ADAM S': 'adam.umanoff@enron.com',\n",
       " 'URQUHART JOHN A': 'NaN',\n",
       " 'WAKEHAM JOHN': 'NaN',\n",
       " 'WALLS JR ROBERT H': 'rob.walls@enron.com',\n",
       " 'WALTERS GARETH W': 'NaN',\n",
       " 'WASAFF GEORGE': 'george.wasaff@enron.com',\n",
       " 'WESTFAHL RICHARD K': 'dick.westfahl@enron.com',\n",
       " 'WHALEY DAVID A': 'NaN',\n",
       " 'WHALLEY LAWRENCE G': 'greg.whalley@enron.com',\n",
       " 'WHITE JR THOMAS E': 'thomas.white@enron.com',\n",
       " 'WINOKUR JR. HERBERT S': 'NaN',\n",
       " 'WODRASKA JOHN': 'john.wodraska@enron.com',\n",
       " 'WROBEL BRUCE': 'NaN',\n",
       " 'YEAGER F SCOTT': 'scott.yeager@enron.com',\n",
       " 'YEAP SOON': 'NaN'}"
      ]
     },
     "execution_count": 288,
     "metadata": {},
     "output_type": "execute_result"
    }
   ],
   "source": [
    "email"
   ]
  },
  {
   "cell_type": "code",
   "execution_count": 292,
   "metadata": {
    "collapsed": false
   },
   "outputs": [
    {
     "name": "stdout",
     "output_type": "stream",
     "text": [
      "21\n"
     ]
    }
   ],
   "source": [
    "#How many people in the E+F dataset (as it currently exists) have “NaN” for their total payments? \n",
    "#What percentage of people in the dataset as a whole is this?\n",
    "\n",
    "count = 0\n",
    "#count_email = 0\n",
    "for user in enron_data:\n",
    "    if enron_data[user]['total_payments'] == 'NaN':\n",
    "        #email[user] = enron_data[user]['email_address']\n",
    "        count+=1\n",
    "print (count)\n"
   ]
  },
  {
   "cell_type": "code",
   "execution_count": 294,
   "metadata": {
    "collapsed": false
   },
   "outputs": [
    {
     "data": {
      "text/plain": [
       "14.383561643835616"
      ]
     },
     "execution_count": 294,
     "metadata": {},
     "output_type": "execute_result"
    }
   ],
   "source": [
    "count*100/len(enron_data)"
   ]
  },
  {
   "cell_type": "markdown",
   "metadata": {},
   "source": [
    "# Mission POI"
   ]
  },
  {
   "cell_type": "code",
   "execution_count": null,
   "metadata": {
    "collapsed": false
   },
   "outputs": [],
   "source": [
    "# %load ./enron/ud120-projects-master/tools/feature_format.py\n",
    "#!/usr/bin/python\n",
    "\n",
    "\"\"\" \n",
    "    A general tool for converting data from the\n",
    "    dictionary format to an (n x k) python list that's \n",
    "    ready for training an sklearn algorithm\n",
    "\n",
    "    n--no. of key-value pairs in dictonary\n",
    "    k--no. of features being extracted\n",
    "\n",
    "    dictionary keys are names of persons in dataset\n",
    "    dictionary values are dictionaries, where each\n",
    "        key-value pair in the dict is the name\n",
    "        of a feature, and its value for that person\n",
    "\n",
    "    In addition to converting a dictionary to a numpy \n",
    "    array, you may want to separate the labels from the\n",
    "    features--this is what targetFeatureSplit is for\n",
    "\n",
    "    so, if you want to have the poi label as the target,\n",
    "    and the features you want to use are the person's\n",
    "    salary and bonus, here's what you would do:\n",
    "\n",
    "    feature_list = [\"poi\", \"salary\", \"bonus\"] \n",
    "    data_array = featureFormat( data_dictionary, feature_list )\n",
    "    label, features = targetFeatureSplit(data_array)\n",
    "\n",
    "    the line above (targetFeatureSplit) assumes that the\n",
    "    label is the _first_ item in feature_list--very important\n",
    "    that poi is listed first!\n",
    "\"\"\"\n",
    "\n",
    "\n",
    "import numpy as np\n",
    "\n",
    "def featureFormat( dictionary, features, remove_NaN=True, remove_all_zeroes=True, remove_any_zeroes=False, sort_keys = False):\n",
    "    \"\"\" convert dictionary to numpy array of features\n",
    "        remove_NaN = True will convert \"NaN\" string to 0.0\n",
    "        remove_all_zeroes = True will omit any data points for which\n",
    "            all the features you seek are 0.0\n",
    "        remove_any_zeroes = True will omit any data points for which\n",
    "            any of the features you seek are 0.0\n",
    "        sort_keys = True sorts keys by alphabetical order. Setting the value as\n",
    "            a string opens the corresponding pickle file with a preset key\n",
    "            order (this is used for Python 3 compatibility, and sort_keys\n",
    "            should be left as False for the course mini-projects).\n",
    "        NOTE: first feature is assumed to be 'poi' and is not checked for\n",
    "            removal for zero or missing values.\n",
    "    \"\"\"\n",
    "\n",
    "\n",
    "    return_list = []\n",
    "\n",
    "    # Key order - first branch is for Python 3 compatibility on mini-projects,\n",
    "    # second branch is for compatibility on final project.\n",
    "    if isinstance(sort_keys, str):\n",
    "        import pickle\n",
    "        keys = pickle.load(open(sort_keys, \"rb\"))\n",
    "    elif sort_keys:\n",
    "        keys = sorted(dictionary.keys())\n",
    "    else:\n",
    "        keys = dictionary.keys()\n",
    "\n",
    "    for key in keys:\n",
    "        tmp_list = []\n",
    "        for feature in features:\n",
    "            try:\n",
    "                dictionary[key][feature]\n",
    "            except KeyError:\n",
    "                print \"error: key \", feature, \" not present\"\n",
    "                return\n",
    "            value = dictionary[key][feature]\n",
    "            if value==\"NaN\" and remove_NaN:\n",
    "                value = 0\n",
    "            tmp_list.append( float(value) )\n",
    "\n",
    "        # Logic for deciding whether or not to add the data point.\n",
    "        append = True\n",
    "        # exclude 'poi' class as criteria.\n",
    "        if features[0] == 'poi':\n",
    "            test_list = tmp_list[1:]\n",
    "        else:\n",
    "            test_list = tmp_list\n",
    "        ### if all features are zero and you want to remove\n",
    "        ### data points that are all zero, do that here\n",
    "        if remove_all_zeroes:\n",
    "            append = False\n",
    "            for item in test_list:\n",
    "                if item != 0 and item != \"NaN\":\n",
    "                    append = True\n",
    "                    break\n",
    "        ### if any features for a given data point are zero\n",
    "        ### and you want to remove data points with any zeroes,\n",
    "        ### handle that here\n",
    "        if remove_any_zeroes:\n",
    "            if 0 in test_list or \"NaN\" in test_list:\n",
    "                append = False\n",
    "        ### Append the data point if flagged for addition.\n",
    "        if append:\n",
    "            return_list.append( np.array(tmp_list) )\n",
    "\n",
    "    return np.array(return_list)\n",
    "\n",
    "\n",
    "def targetFeatureSplit( data ):\n",
    "    \"\"\" \n",
    "        given a numpy array like the one returned from\n",
    "        featureFormat, separate out the first feature\n",
    "        and put it into its own list (this should be the \n",
    "        quantity you want to predict)\n",
    "\n",
    "        return targets and features as separate lists\n",
    "\n",
    "        (sklearn can generally handle both lists and numpy arrays as \n",
    "        input formats when training/predicting)\n",
    "    \"\"\"\n",
    "\n",
    "    target = []\n",
    "    features = []\n",
    "    for item in data:\n",
    "        target.append( item[0] )\n",
    "        features.append( item[1:] )\n",
    "\n",
    "    return target, features\n",
    "\n",
    "\n",
    "\n",
    "\n"
   ]
  },
  {
   "cell_type": "code",
   "execution_count": 301,
   "metadata": {
    "collapsed": false
   },
   "outputs": [
    {
     "name": "stdout",
     "output_type": "stream",
     "text": [
      "0\n",
      "0.0\n"
     ]
    }
   ],
   "source": [
    "#How many POIs in the E+F dataset have “NaN” for their total payments? What percentage of POI’s as a whole is this?\n",
    "count_NaN_tp = 0\n",
    "for key in enron_data.keys():\n",
    "    if enron_data[key]['total_payments'] == 'NaN' and enron_data[key]['poi'] == True :\n",
    "        count_NaN_tp+=1\n",
    "print(count_NaN_tp)\n",
    "print(float(count_NaN_tp)/len(enron_data.keys()))"
   ]
  },
  {
   "cell_type": "markdown",
   "metadata": {
    "collapsed": true
   },
   "source": [
    "# Data Modeling"
   ]
  },
  {
   "cell_type": "code",
   "execution_count": 5,
   "metadata": {
    "collapsed": true
   },
   "outputs": [],
   "source": [
    "from sklearn import datasets\n",
    "from sklearn.svm import SVC\n",
    "from sklearn import cross_validation\n",
    "\n",
    "\n",
    "iris = datasets.load_iris()\n",
    "features = iris.data\n",
    "labels = iris.target"
   ]
  },
  {
   "cell_type": "code",
   "execution_count": 3,
   "metadata": {
    "collapsed": false
   },
   "outputs": [
    {
     "data": {
      "text/plain": [
       "((150, 4), (150,))"
      ]
     },
     "execution_count": 3,
     "metadata": {},
     "output_type": "execute_result"
    }
   ],
   "source": [
    "features.shape, labels.shape"
   ]
  },
  {
   "cell_type": "code",
   "execution_count": 6,
   "metadata": {
    "collapsed": false
   },
   "outputs": [],
   "source": [
    "features_train, features_test, labels_train, labels_test = cross_validation.train_test_split(features, labels, test_size=0.4, random_state=0)"
   ]
  },
  {
   "cell_type": "code",
   "execution_count": 15,
   "metadata": {
    "collapsed": false
   },
   "outputs": [
    {
     "name": "stdout",
     "output_type": "stream",
     "text": [
      "0.966666666667\n"
     ]
    }
   ],
   "source": [
    "clf = SVC(kernel=\"linear\", C=1.)\n",
    "clf.fit(features_train, labels_train)\n",
    "\n",
    "print(clf.score(features_test, labels_test))"
   ]
  },
  {
   "cell_type": "markdown",
   "metadata": {},
   "source": [
    "### Evaluate accuracy on Titanic data"
   ]
  },
  {
   "cell_type": "code",
   "execution_count": 58,
   "metadata": {
    "collapsed": false
   },
   "outputs": [],
   "source": [
    "import numpy as np\n",
    "import pandas as pd\n",
    "\n",
    "# Load the dataset\n",
    "X = pd.read_csv('titanic_data.csv')\n",
    "# Limit to numeric data\n",
    "X = X._get_numeric_data()\n",
    "# Separate the labels\n",
    "y = X['Survived']\n",
    "# Remove labels from the inputs, and age due to missing data\n",
    "del X['Age'], X['Survived']\n",
    "\n",
    "from sklearn.tree import DecisionTreeClassifier\n",
    "from sklearn.metrics import accuracy_score\n",
    "from sklearn.naive_bayes import GaussianNB\n",
    "from sklearn import cross_validation\n"
   ]
  },
  {
   "cell_type": "code",
   "execution_count": 18,
   "metadata": {
    "collapsed": false
   },
   "outputs": [
    {
     "data": {
      "text/plain": [
       "0    0\n",
       "1    1\n",
       "2    1\n",
       "3    1\n",
       "4    0\n",
       "Name: Survived, dtype: int64"
      ]
     },
     "execution_count": 18,
     "metadata": {},
     "output_type": "execute_result"
    }
   ],
   "source": [
    "y.head()"
   ]
  },
  {
   "cell_type": "code",
   "execution_count": 60,
   "metadata": {
    "collapsed": false
   },
   "outputs": [],
   "source": [
    "\n",
    "# TODO: split the data into training and testing sets,\n",
    "# using the standard settings for train_test_split.\n",
    "# Then, train and test the classifiers with your newly split data instead of X and y.\n",
    "\n",
    "X_train, X_test, y_train, y_test = cross_validation.train_test_split(X, y, test_size=0.4, random_state=0)\n",
    "\n"
   ]
  },
  {
   "cell_type": "code",
   "execution_count": 61,
   "metadata": {
    "collapsed": false
   },
   "outputs": [
    {
     "name": "stdout",
     "output_type": "stream",
     "text": [
      "Decision Tree has accuracy:  0.652661064426\n"
     ]
    }
   ],
   "source": [
    "# The decision tree classifier\n",
    "clf1 = DecisionTreeClassifier()\n",
    "clf1.fit(X_train,y_train)\n",
    "print(\"Decision Tree has accuracy: \",accuracy_score(clf1.predict(X_test),y_test))\n"
   ]
  },
  {
   "cell_type": "code",
   "execution_count": 62,
   "metadata": {
    "collapsed": false
   },
   "outputs": [
    {
     "name": "stdout",
     "output_type": "stream",
     "text": [
      "GaussianNB has accuracy:  0.672268907563\n"
     ]
    }
   ],
   "source": [
    "# The naive Bayes classifier\n",
    "clf2 = GaussianNB()\n",
    "clf2.fit(X_train,y_train)\n",
    "print(\"GaussianNB has accuracy: \",accuracy_score(clf2.predict(X_test),y_test))\n",
    "\n",
    "answer = { \n",
    " \"Naive Bayes Score\": 0, \n",
    " \"Decision Tree Score\": 0\n",
    "}"
   ]
  },
  {
   "cell_type": "code",
   "execution_count": 63,
   "metadata": {
    "collapsed": false
   },
   "outputs": [
    {
     "data": {
      "text/plain": [
       "{'Decision Tree Score': 0, 'Naive Bayes Score': 0}"
      ]
     },
     "execution_count": 63,
     "metadata": {},
     "output_type": "execute_result"
    }
   ],
   "source": [
    "answer"
   ]
  },
  {
   "cell_type": "code",
   "execution_count": 64,
   "metadata": {
    "collapsed": true
   },
   "outputs": [],
   "source": [
    "from sklearn.metrics import confusion_matrix"
   ]
  },
  {
   "cell_type": "code",
   "execution_count": 65,
   "metadata": {
    "collapsed": false
   },
   "outputs": [
    {
     "data": {
      "text/plain": [
       "array([[162,  65],\n",
       "       [ 59,  71]])"
      ]
     },
     "execution_count": 65,
     "metadata": {},
     "output_type": "execute_result"
    }
   ],
   "source": [
    "confusion_matrix(clf1.predict(X_test),y_test)"
   ]
  },
  {
   "cell_type": "code",
   "execution_count": 66,
   "metadata": {
    "collapsed": false
   },
   "outputs": [
    {
     "data": {
      "text/plain": [
       "array([[188,  84],\n",
       "       [ 33,  52]])"
      ]
     },
     "execution_count": 66,
     "metadata": {},
     "output_type": "execute_result"
    }
   ],
   "source": [
    "confusion_matrix(clf2.predict(X_test),y_test)"
   ]
  },
  {
   "cell_type": "code",
   "execution_count": 68,
   "metadata": {
    "collapsed": false
   },
   "outputs": [
    {
     "name": "stdout",
     "output_type": "stream",
     "text": [
      "Confusion matrix for this Decision Tree:\n",
      " [[99 39]\n",
      " [40 45]]\n",
      "GaussianNB confusion matrix:\n",
      " [[122  48]\n",
      " [ 17  36]]\n"
     ]
    }
   ],
   "source": [
    "# In this exercise, we'll use the Titanic dataset as before, train two classifiers and\n",
    "# look at their confusion matrices. Your job is to create a train/test split in the data\n",
    "# and report the results in the dictionary at the bottom.\n",
    "\n",
    "import numpy as np\n",
    "import pandas as pd\n",
    "\n",
    "# Load the dataset\n",
    "from sklearn import datasets\n",
    "\n",
    "X = pd.read_csv('titanic_data.csv')\n",
    "\n",
    "X = X._get_numeric_data()\n",
    "y = X['Survived']\n",
    "del X['Age'], X['Survived']\n",
    "\n",
    "\n",
    "from sklearn.tree import DecisionTreeClassifier\n",
    "from sklearn.metrics import confusion_matrix\n",
    "from sklearn.naive_bayes import GaussianNB\n",
    "from sklearn import cross_validation\n",
    "\n",
    "\n",
    "# TODO: split the data into training and testing sets,\n",
    "# using the default settings for train_test_split (or test_size = 0.25 if specified).\n",
    "# Then, train and test the classifiers with your newly split data instead of X and y.\n",
    "\n",
    "X_train, X_test, y_train, y_test = cross_validation.train_test_split(X, y, test_size=0.25, random_state=0)\n",
    "\n",
    "clf1 = DecisionTreeClassifier()\n",
    "clf1.fit(X_train,y_train)\n",
    "print(\"Confusion matrix for this Decision Tree:\\n\",confusion_matrix(clf1.predict(X_test),y_test))\n",
    "\n",
    "clf2 = GaussianNB()\n",
    "clf2.fit(X_train,y_train)\n",
    "print(\"GaussianNB confusion matrix:\\n\",confusion_matrix(clf2.predict(X_test),y_test))\n",
    "\n",
    "#TODO: store the confusion matrices on the test sets below\n",
    "\n",
    "confusions = {\n",
    " \"Naive Bayes\": np.matrix('99,37; 40 47'),\n",
    " \"Decision Tree\": np.matrix('122 48; 17 36')\n",
    "}"
   ]
  },
  {
   "cell_type": "markdown",
   "metadata": {},
   "source": [
    "# Precision and Recall "
   ]
  },
  {
   "cell_type": "code",
   "execution_count": 70,
   "metadata": {
    "collapsed": false
   },
   "outputs": [
    {
     "name": "stdout",
     "output_type": "stream",
     "text": [
      "Decision Tree recall: 0.56 and precision: 0.56\n",
      "GaussianNB recall: 0.43 and precision: 0.68\n"
     ]
    }
   ],
   "source": [
    "# As with the previous exercises, let's look at the performance of a couple of classifiers\n",
    "# on the familiar Titanic dataset. Add a train/test split, then store the results in the\n",
    "# dictionary provided.\n",
    "\n",
    "import numpy as np\n",
    "import pandas as pd\n",
    "\n",
    "# Load the dataset\n",
    "X = pd.read_csv('titanic_data.csv')\n",
    "\n",
    "X = X._get_numeric_data()\n",
    "y = X['Survived']\n",
    "del X['Age'], X['Survived']\n",
    "\n",
    "\n",
    "from sklearn.tree import DecisionTreeClassifier\n",
    "from sklearn.metrics import recall_score as recall\n",
    "from sklearn.metrics import precision_score as precision\n",
    "from sklearn.naive_bayes import GaussianNB\n",
    "from sklearn import cross_validation\n",
    "\n",
    "# TODO: split the data into training and testing sets,\n",
    "# using the standard settings for train_test_split.\n",
    "# Then, train and test the classifiers with your newly split data instead of X and y.\n",
    "X_train, X_test, y_train, y_test = cross_validation.train_test_split(X, y, test_size=0.25, random_state=0)\n",
    "\n",
    "clf1 = DecisionTreeClassifier()\n",
    "clf1.fit(X_train, y_train)\n",
    "print(\"Decision Tree recall: {:.2f} and precision: {:.2f}\".format(recall(y_test,clf1.predict(X_test)),precision(y_test,clf1.predict(X_test))))\n",
    "\n",
    "clf2 = GaussianNB()\n",
    "clf2.fit(X_train, y_train)\n",
    "print(\"GaussianNB recall: {:.2f} and precision: {:.2f}\".format(recall(y_test,clf2.predict(X_test)),precision(y_test,clf2.predict(X_test))))\n",
    "\n",
    "results = {\n",
    "  \"Naive Bayes Recall\": 0.43,\n",
    "  \"Naive Bayes Precision\": 0.56,\n",
    "  \"Decision Tree Recall\": 0.56,\n",
    "  \"Decision Tree Precision\": 0.56\n",
    "}"
   ]
  },
  {
   "cell_type": "markdown",
   "metadata": {},
   "source": [
    "# F1 score"
   ]
  },
  {
   "cell_type": "code",
   "execution_count": 72,
   "metadata": {
    "collapsed": false
   },
   "outputs": [
    {
     "name": "stdout",
     "output_type": "stream",
     "text": [
      "Decision Tree F1 score: 0.54\n",
      "GaussianNB F1 score: 0.53\n"
     ]
    }
   ],
   "source": [
    "# As usual, use a train/test split to get a reliable F1 score from two classifiers, and\n",
    "# save it the scores in the provided dictionaries.\n",
    "\n",
    "import numpy as np\n",
    "import pandas as pd\n",
    "\n",
    "# Load the dataset\n",
    "X = pd.read_csv('titanic_data.csv')\n",
    "\n",
    "X = X._get_numeric_data()\n",
    "y = X['Survived']\n",
    "del X['Age'], X['Survived']\n",
    "\n",
    "from sklearn.tree import DecisionTreeClassifier\n",
    "from sklearn.metrics import f1_score\n",
    "from sklearn.naive_bayes import GaussianNB\n",
    "from sklearn import cross_validation\n",
    "\n",
    "# TODO: split the data into training and testing sets,\n",
    "# using the standard settings for train_test_split.\n",
    "# Then, train and test the classifiers with your newly split data instead of X and y.\n",
    "\n",
    "X_train, X_test, y_train, y_test = cross_validation.train_test_split(X, y, test_size=0.25, random_state=0)\n",
    "\n",
    "clf1 = DecisionTreeClassifier()\n",
    "clf1.fit(X_train, y_train)\n",
    "print(\"Decision Tree F1 score: {:.2f}\".format(f1_score(y_test, clf1.predict(X_test))))\n",
    "\n",
    "clf2 = GaussianNB()\n",
    "clf2.fit(X_train, y_train)\n",
    "print(\"GaussianNB F1 score: {:.2f}\".format(f1_score(y_test, clf2.predict(X_test))))\n",
    "\n",
    "F1_scores = {\n",
    " \"Naive Bayes\": 0.53,\n",
    " \"Decision Tree\": 0.55\n",
    "}"
   ]
  },
  {
   "cell_type": "markdown",
   "metadata": {},
   "source": [
    "# Mean absolute and squared error"
   ]
  },
  {
   "cell_type": "code",
   "execution_count": 75,
   "metadata": {
    "collapsed": false
   },
   "outputs": [
    {
     "name": "stdout",
     "output_type": "stream",
     "text": [
      "Decision Tree mean absolute error: 17.80\n",
      "Linear regression mean absolute error: 11.45\n",
      "Decision Tree mean absolute error: 175.60\n",
      "Linear regression mean absolute error: 380.46\n"
     ]
    }
   ],
   "source": [
    "import numpy as np\n",
    "import pandas as pd\n",
    "\n",
    "# Load the dataset\n",
    "from sklearn.datasets import load_linnerud\n",
    "\n",
    "linnerud_data = load_linnerud()\n",
    "X = linnerud_data.data\n",
    "y = linnerud_data.target\n",
    "\n",
    "from sklearn.tree import DecisionTreeRegressor\n",
    "from sklearn.metrics import mean_absolute_error as mae\n",
    "from sklearn.metrics import mean_squared_error as mse\n",
    "from sklearn.linear_model import LinearRegression\n",
    "from sklearn import cross_validation\n",
    "\n",
    "# TODO: split the data into training and testing sets,\n",
    "# using the standard settings for train_test_split.\n",
    "# Then, train and test the classifiers with your newly split data instead of X and y.\n",
    "X_train, X_test, y_train, y_test = cross_validation.train_test_split(X, y, test_size=0.25, random_state=0)\n",
    "\n",
    "reg1 = DecisionTreeRegressor()\n",
    "reg1.fit(X_train, y_train)\n",
    "print(\"Decision Tree mean absolute error: {:.2f}\".format(mae(y_test,reg1.predict(X_test))))\n",
    "\n",
    "reg2 = LinearRegression()\n",
    "reg2.fit(X_train, y_train)\n",
    "print(\"Linear regression mean absolute error: {:.2f}\".format(mae(y_test,reg2.predict(X_test))))\n",
    "\n",
    "reg3 = DecisionTreeRegressor()\n",
    "reg3.fit(X_train, y_train)\n",
    "print(\"Decision Tree mean absolute error: {:.2f}\".format(mse(y_test, reg3.predict(X_test))))\n",
    "\n",
    "reg4 = LinearRegression()\n",
    "reg4.fit(X_train, y_train)\n",
    "print(\"Linear regression mean absolute error: {:.2f}\".format(mse(y_test, reg4.predict(X_test))))\n",
    "\n",
    "results = {\n",
    " \"MAE Linear Regression\": 11.45,\n",
    " \"MAE Decision Tree\": 5.47,\n",
    " \"MSE Linear Regression\": 380.46,\n",
    " \"MSE Decision Tree\": 93.52\n",
    "\n",
    "}"
   ]
  },
  {
   "cell_type": "code",
   "execution_count": null,
   "metadata": {
    "collapsed": true,
    "slideshow": {
     "slide_type": "slide"
    }
   },
   "outputs": [],
   "source": []
  }
 ],
 "metadata": {
  "kernelspec": {
   "display_name": "Python 3",
   "language": "python",
   "name": "python3"
  },
  "language_info": {
   "codemirror_mode": {
    "name": "ipython",
    "version": 3
   },
   "file_extension": ".py",
   "mimetype": "text/x-python",
   "name": "python",
   "nbconvert_exporter": "python",
   "pygments_lexer": "ipython3",
   "version": "3.5.1"
  }
 },
 "nbformat": 4,
 "nbformat_minor": 0
}
